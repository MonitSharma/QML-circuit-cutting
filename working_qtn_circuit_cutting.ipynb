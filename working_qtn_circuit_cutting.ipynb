{
 "cells": [
  {
   "cell_type": "code",
   "execution_count": 1,
   "id": "initial_id",
   "metadata": {
    "ExecuteTime": {
     "end_time": "2024-02-15T18:09:19.320003Z",
     "start_time": "2024-02-15T18:09:19.308526Z"
    }
   },
   "outputs": [
    {
     "name": "stderr",
     "output_type": "stream",
     "text": [
      "/var/folders/3j/3p_dzlvs1nsdfryf9hm7gjnr0000gn/T/ipykernel_73553/2503536757.py:13: DeprecationWarning: ``qiskit.algorithms`` has been migrated to an independent package: https://github.com/qiskit-community/qiskit-algorithms. The ``qiskit.algorithms`` import path is deprecated as of qiskit-terra 0.25.0 and will be removed in Qiskit 1.0. Please run ``pip install qiskit_algorithms`` and use ``import qiskit_algorithms`` instead.\n",
      "  from qiskit.algorithms.optimizers import ADAM, SPSA\n"
     ]
    }
   ],
   "source": [
    "import numpy as np\n",
    "import pandas as pd\n",
    "import matplotlib.pyplot as plt\n",
    "from sklearn.model_selection import train_test_split\n",
    "from IPython.display import clear_output\n",
    "\n",
    "# Qiskit imports\n",
    "from circuit_knitting.cutting import partition_problem\n",
    "from qiskit.circuit import QuantumCircuit, ParameterVector\n",
    "from qiskit.quantum_info import SparsePauliOp, PauliList\n",
    "from qiskit.visualization import circuit_drawer\n",
    "from qiskit_algorithms.optimizers.cobyla import COBYLA\n",
    "from qiskit.algorithms.optimizers import ADAM, SPSA\n",
    "from qiskit_algorithms.utils import algorithm_globals"
   ]
  },
  {
   "cell_type": "code",
   "execution_count": 2,
   "id": "3b94d0bd-445c-48c7-949c-11d240fce1a6",
   "metadata": {},
   "outputs": [],
   "source": [
    "seed = 100"
   ]
  },
  {
   "cell_type": "markdown",
   "id": "91c00f7c-def5-4106-bd98-522927f57892",
   "metadata": {},
   "source": [
    "## Data Loading"
   ]
  },
  {
   "cell_type": "code",
   "execution_count": 3,
   "id": "84e0ff14-514d-440f-851a-63c136d80243",
   "metadata": {
    "ExecuteTime": {
     "end_time": "2024-02-15T18:09:20.482075Z",
     "start_time": "2024-02-15T18:09:20.472994Z"
    }
   },
   "outputs": [
    {
     "data": {
      "text/html": [
       "<div>\n",
       "<style scoped>\n",
       "    .dataframe tbody tr th:only-of-type {\n",
       "        vertical-align: middle;\n",
       "    }\n",
       "\n",
       "    .dataframe tbody tr th {\n",
       "        vertical-align: top;\n",
       "    }\n",
       "\n",
       "    .dataframe thead th {\n",
       "        text-align: right;\n",
       "    }\n",
       "</style>\n",
       "<table border=\"1\" class=\"dataframe\">\n",
       "  <thead>\n",
       "    <tr style=\"text-align: right;\">\n",
       "      <th></th>\n",
       "      <th>Pregnancies</th>\n",
       "      <th>Glucose</th>\n",
       "      <th>BloodPressure</th>\n",
       "      <th>SkinThickness</th>\n",
       "      <th>Insulin</th>\n",
       "      <th>BMI</th>\n",
       "      <th>DiabetesPedigreeFunction</th>\n",
       "      <th>Age</th>\n",
       "      <th>Outcome</th>\n",
       "    </tr>\n",
       "  </thead>\n",
       "  <tbody>\n",
       "    <tr>\n",
       "      <th>0</th>\n",
       "      <td>-0.923998</td>\n",
       "      <td>1.531329</td>\n",
       "      <td>0.566517</td>\n",
       "      <td>-0.920265</td>\n",
       "      <td>-3.141593</td>\n",
       "      <td>0.004682</td>\n",
       "      <td>-1.66872</td>\n",
       "      <td>-0.104720</td>\n",
       "      <td>1</td>\n",
       "    </tr>\n",
       "    <tr>\n",
       "      <th>1</th>\n",
       "      <td>-2.771994</td>\n",
       "      <td>-0.457820</td>\n",
       "      <td>0.257508</td>\n",
       "      <td>-1.301064</td>\n",
       "      <td>-3.141593</td>\n",
       "      <td>-0.650792</td>\n",
       "      <td>-2.40918</td>\n",
       "      <td>-2.094395</td>\n",
       "      <td>0</td>\n",
       "    </tr>\n",
       "  </tbody>\n",
       "</table>\n",
       "</div>"
      ],
      "text/plain": [
       "   Pregnancies   Glucose  BloodPressure  SkinThickness   Insulin       BMI  \\\n",
       "0    -0.923998  1.531329       0.566517      -0.920265 -3.141593  0.004682   \n",
       "1    -2.771994 -0.457820       0.257508      -1.301064 -3.141593 -0.650792   \n",
       "\n",
       "   DiabetesPedigreeFunction       Age  Outcome  \n",
       "0                  -1.66872 -0.104720        1  \n",
       "1                  -2.40918 -2.094395        0  "
      ]
     },
     "execution_count": 3,
     "metadata": {},
     "output_type": "execute_result"
    }
   ],
   "source": [
    "# Load data\n",
    "data = pd.read_csv(\"diabetes_normalized.csv\")\n",
    "data = data.drop([\"Unnamed: 0\"], axis=1)\n",
    "# data = data.drop([\"BMI\", \"SkinThickness\", \"Pregnancies\"], axis=1)\n",
    "data.head(2)"
   ]
  },
  {
   "cell_type": "code",
   "execution_count": 4,
   "id": "92a101c1-41f3-4fbe-b1c4-78eee1e9d524",
   "metadata": {
    "ExecuteTime": {
     "end_time": "2024-02-15T18:09:20.926480Z",
     "start_time": "2024-02-15T18:09:20.920864Z"
    }
   },
   "outputs": [],
   "source": [
    "y = data[\"Outcome\"]\n",
    "x = data.drop([\"Outcome\"], axis=1)"
   ]
  },
  {
   "cell_type": "code",
   "execution_count": 5,
   "id": "e8ef2ba7-dda4-41ea-944f-c710c9fc9528",
   "metadata": {
    "ExecuteTime": {
     "end_time": "2024-02-15T18:09:21.304727Z",
     "start_time": "2024-02-15T18:09:21.299733Z"
    }
   },
   "outputs": [
    {
     "name": "stdout",
     "output_type": "stream",
     "text": [
      "(537, 8) (537,) (231, 8) (231,)\n"
     ]
    }
   ],
   "source": [
    "x_train, x_test, y_train, y_test = train_test_split(x, y, test_size=0.3)\n",
    "print(x_train.shape, y_train.shape, x_test.shape, y_test.shape)"
   ]
  },
  {
   "cell_type": "code",
   "execution_count": 6,
   "id": "505092d4-3e8d-4853-9f59-3391739bae30",
   "metadata": {
    "ExecuteTime": {
     "end_time": "2024-02-15T18:09:21.800966Z",
     "start_time": "2024-02-15T18:09:21.796485Z"
    }
   },
   "outputs": [],
   "source": [
    "x_train_A = x_train.iloc[:, :4]\n",
    "x_train_B = x_train.iloc[:, 4:]\n",
    "# x_train.iloc[:, 4:]"
   ]
  },
  {
   "cell_type": "code",
   "execution_count": 7,
   "id": "ea2b1465-28bb-4db5-9541-4ba60e770021",
   "metadata": {
    "ExecuteTime": {
     "end_time": "2024-02-15T18:09:22.250366Z",
     "start_time": "2024-02-15T18:09:22.235445Z"
    }
   },
   "outputs": [],
   "source": [
    "x_test_A = x_test.iloc[:, :4]\n",
    "x_test_B = x_test.iloc[:, 4:]"
   ]
  },
  {
   "cell_type": "code",
   "execution_count": 8,
   "id": "4467065d-0a37-40c0-9161-7671acf78b81",
   "metadata": {
    "ExecuteTime": {
     "end_time": "2024-02-15T18:09:22.800648Z",
     "start_time": "2024-02-15T18:09:22.792642Z"
    }
   },
   "outputs": [],
   "source": [
    "# y_train"
   ]
  },
  {
   "cell_type": "markdown",
   "id": "202a0b22-ad7d-468f-878a-e4569cc6d0fa",
   "metadata": {},
   "source": [
    "## Data Embedding"
   ]
  },
  {
   "cell_type": "code",
   "execution_count": 9,
   "id": "23a08b2f-5a0b-4aa5-96e7-5cd2a4655aaa",
   "metadata": {
    "ExecuteTime": {
     "end_time": "2024-02-15T18:09:23.793347Z",
     "start_time": "2024-02-15T18:09:23.786288Z"
    }
   },
   "outputs": [],
   "source": [
    "# Data Embedding - Angle Encoding\n",
    "def angle_encoding(feature_dims: int):\n",
    "    embedding = QuantumCircuit(feature_dims)\n",
    "    feature_param = ParameterVector(\"Theta\", feature_dims)\n",
    "    for qubit in range(feature_dims):\n",
    "        embedding.ry(feature_param[qubit], qubit)\n",
    "    return embedding, feature_param"
   ]
  },
  {
   "cell_type": "code",
   "execution_count": 10,
   "id": "3cbfc86a-2a27-4381-84ce-2a469fb57661",
   "metadata": {
    "ExecuteTime": {
     "end_time": "2024-02-15T18:09:24.329495Z",
     "start_time": "2024-02-15T18:09:24.321044Z"
    }
   },
   "outputs": [],
   "source": [
    "embedding, feature_params = angle_encoding(4)"
   ]
  },
  {
   "cell_type": "markdown",
   "id": "09640b63-6b10-40b0-837f-7acbc1f88c47",
   "metadata": {},
   "source": [
    "## Tensor Network"
   ]
  },
  {
   "cell_type": "code",
   "execution_count": 11,
   "id": "06ed2511-a0bb-4f5b-85b9-85940a954de3",
   "metadata": {
    "ExecuteTime": {
     "end_time": "2024-02-15T18:09:25.102164Z",
     "start_time": "2024-02-15T18:09:25.070178Z"
    }
   },
   "outputs": [],
   "source": [
    "from ttn import TTN"
   ]
  },
  {
   "cell_type": "code",
   "execution_count": 12,
   "id": "4c2d9089-9292-4580-98e4-6f6287a59473",
   "metadata": {},
   "outputs": [
    {
     "data": {
      "image/png": "[encoded data removed]",
      "text/plain": [
       "<Figure size 705.552x702.333 with 1 Axes>"
      ]
     },
     "execution_count": 12,
     "metadata": {},
     "output_type": "execute_result"
    }
   ],
   "source": [
    "ttn = TTN(num_qubits=8).ttn_simple(complex_structure=False)\n",
    "ttn.draw(\"mpl\", style=\"iqp\")"
   ]
  },
  {
   "cell_type": "code",
   "execution_count": 13,
   "id": "ebafa996-adaf-4060-9f32-21cdb706a932",
   "metadata": {},
   "outputs": [],
   "source": [
    "# ttn.parameters"
   ]
  },
  {
   "cell_type": "markdown",
   "id": "4f81b56c-c727-47cb-94a6-e2b5359d8a19",
   "metadata": {},
   "source": [
    "## Circuit Cutting"
   ]
  },
  {
   "cell_type": "code",
   "execution_count": 14,
   "id": "6cda3f8fc3c6b2d2",
   "metadata": {
    "ExecuteTime": {
     "end_time": "2024-02-15T03:34:50.371027Z",
     "start_time": "2024-02-15T03:34:50.309487Z"
    },
    "collapsed": false,
    "jupyter": {
     "outputs_hidden": false
    }
   },
   "outputs": [],
   "source": [
    "observables = PauliList([\"ZIIIIIII\"])\n",
    "partitioned_problem = partition_problem(circuit=ttn, partition_labels=\"AAAABBBB\", observables=observables)\n",
    "sub_circuits = partitioned_problem.subcircuits\n",
    "sub_observables = partitioned_problem.subobservables\n",
    "bases = partitioned_problem.bases"
   ]
  },
  {
   "cell_type": "code",
   "execution_count": 15,
   "id": "a43241fdcd1decfe",
   "metadata": {
    "ExecuteTime": {
     "end_time": "2024-02-15T03:34:50.869863Z",
     "start_time": "2024-02-15T03:34:50.865500Z"
    },
    "collapsed": false,
    "jupyter": {
     "outputs_hidden": false
    }
   },
   "outputs": [
    {
     "data": {
      "text/plain": [
       "{'A': PauliList(['IIII']), 'B': PauliList(['ZIII'])}"
      ]
     },
     "execution_count": 15,
     "metadata": {},
     "output_type": "execute_result"
    }
   ],
   "source": [
    "sub_observables"
   ]
  },
  {
   "cell_type": "code",
   "execution_count": 16,
   "id": "81331ea7-8123-4e9b-867d-54fd786e3fe2",
   "metadata": {},
   "outputs": [
    {
     "data": {
      "image/png": "[encoded data removed]",
      "text/plain": [
       "<Figure size 723.581x367.889 with 1 Axes>"
      ]
     },
     "execution_count": 16,
     "metadata": {},
     "output_type": "execute_result"
    }
   ],
   "source": [
    "sub_circuits[\"A\"].draw(\"mpl\", style=\"iqp\")"
   ]
  },
  {
   "cell_type": "code",
   "execution_count": 17,
   "id": "2af67465-17d0-4791-8e1c-279835483dc5",
   "metadata": {},
   "outputs": [
    {
     "data": {
      "image/png": "[encoded data removed]",
      "text/plain": [
       "<Figure size 807.394x367.889 with 1 Axes>"
      ]
     },
     "execution_count": 17,
     "metadata": {},
     "output_type": "execute_result"
    }
   ],
   "source": [
    "sub_circuits[\"B\"].draw(\"mpl\", style=\"iqp\")"
   ]
  },
  {
   "cell_type": "code",
   "execution_count": 18,
   "id": "77655d0a6a0d1c81",
   "metadata": {
    "ExecuteTime": {
     "end_time": "2024-02-15T03:35:00.944952Z",
     "start_time": "2024-02-15T03:35:00.935773Z"
    },
    "collapsed": false,
    "jupyter": {
     "outputs_hidden": false
    }
   },
   "outputs": [
    {
     "name": "stdout",
     "output_type": "stream",
     "text": [
      "Sampling overhead: 9.0\n"
     ]
    }
   ],
   "source": [
    "print(f\"Sampling overhead: {np.prod([basis.overhead for basis in bases])}\")"
   ]
  },
  {
   "cell_type": "markdown",
   "id": "2df0c32d-bfd9-407f-b867-d08632f53764",
   "metadata": {},
   "source": [
    "### Sub Experiments"
   ]
  },
  {
   "cell_type": "code",
   "execution_count": 19,
   "id": "a3327e421fea3182",
   "metadata": {
    "ExecuteTime": {
     "end_time": "2024-02-15T03:35:05.890185Z",
     "start_time": "2024-02-15T03:35:05.693811Z"
    },
    "collapsed": false,
    "jupyter": {
     "outputs_hidden": false
    }
   },
   "outputs": [],
   "source": [
    "from circuit_knitting.cutting import generate_cutting_experiments\n",
    "\n",
    "subexperiments, coefficients = generate_cutting_experiments(\n",
    "    circuits=sub_circuits, observables=sub_observables, num_samples=np.inf\n",
    ")"
   ]
  },
  {
   "cell_type": "code",
   "execution_count": 20,
   "id": "560e4327-900d-4758-b747-7ae311fe2902",
   "metadata": {},
   "outputs": [
    {
     "data": {
      "text/plain": [
       "6"
      ]
     },
     "execution_count": 20,
     "metadata": {},
     "output_type": "execute_result"
    }
   ],
   "source": [
    "# subexperiments\n",
    "len(subexperiments[\"A\"])"
   ]
  },
  {
   "cell_type": "code",
   "execution_count": 21,
   "id": "5cb2b2aa32d6d16b",
   "metadata": {
    "ExecuteTime": {
     "end_time": "2024-02-15T03:35:14.153045Z",
     "start_time": "2024-02-15T03:35:14.062981Z"
    },
    "collapsed": false,
    "jupyter": {
     "outputs_hidden": false
    }
   },
   "outputs": [
    {
     "data": {
      "image/png": "[encoded data removed]",
      "text/plain": [
       "<Figure size 1060.9x451.5 with 1 Axes>"
      ]
     },
     "execution_count": 21,
     "metadata": {},
     "output_type": "execute_result"
    }
   ],
   "source": [
    "subexperiments[\"A\"][0].draw(\"mpl\", style=\"iqp\")"
   ]
  },
  {
   "cell_type": "code",
   "execution_count": 22,
   "id": "8a0e854a-f742-4b19-8367-8155a54ab2b5",
   "metadata": {},
   "outputs": [
    {
     "data": {
      "image/png": "[encoded data removed]",
      "text/plain": [
       "<Figure size 1311.74x451.5 with 1 Axes>"
      ]
     },
     "execution_count": 22,
     "metadata": {},
     "output_type": "execute_result"
    }
   ],
   "source": [
    "subexperiments[\"B\"][3].draw(\"mpl\", style=\"iqp\")"
   ]
  },
  {
   "cell_type": "markdown",
   "id": "8cce6334-c721-40fc-b46e-f720eae969c0",
   "metadata": {},
   "source": [
    "## Neural Network Training"
   ]
  },
  {
   "cell_type": "code",
   "execution_count": 23,
   "id": "2504dedb-a5f4-4d4e-b75d-1b0bed7615e4",
   "metadata": {},
   "outputs": [],
   "source": [
    "from custom_sampler_qnn import CustomSampler"
   ]
  },
  {
   "cell_type": "markdown",
   "id": "b7c252b4-15d2-44e7-a577-329c684c5c78",
   "metadata": {},
   "source": [
    "### Sampler"
   ]
  },
  {
   "cell_type": "markdown",
   "id": "5926c303-49fe-4052-b910-9e0763014904",
   "metadata": {},
   "source": [
    "#### For subexperiments[\"A\"]"
   ]
  },
  {
   "cell_type": "code",
   "execution_count": 24,
   "id": "5aefce4e-f3fb-4694-91a3-a5161d74aee1",
   "metadata": {},
   "outputs": [],
   "source": [
    "final_circuits = [embedding.compose(subex_circuit, inplace=False) for subex_circuit in subexperiments[\"A\"]]\n",
    "# final_circuits[0].draw(\"mpl\")"
   ]
  },
  {
   "cell_type": "code",
   "execution_count": 25,
   "id": "8853b9e4-a866-43f5-a908-e1f0d968c765",
   "metadata": {},
   "outputs": [],
   "source": [
    "sampler_qcnn = CustomSampler(\n",
    "    circuits=final_circuits, \n",
    "    input_params=feature_params.params,\n",
    "    weight_params=sub_circuits[\"A\"].parameters,\n",
    "    input_gradients=False\n",
    ")"
   ]
  },
  {
   "cell_type": "code",
   "execution_count": 26,
   "id": "f60076a5-2776-4eb9-b316-5e0b71ace948",
   "metadata": {},
   "outputs": [],
   "source": [
    "weights_A = algorithm_globals.random.random(7)\n",
    "# forward_output, forward_sampler_result\n",
    "\n",
    "forward_output = sampler_qcnn.forward(\n",
    "    input_data=x_train_A,\n",
    "    weights=weights_A,\n",
    ")"
   ]
  },
  {
   "cell_type": "code",
   "execution_count": 27,
   "id": "f534f8b7-9104-4101-9646-8e0760fea432",
   "metadata": {},
   "outputs": [
    {
     "name": "stdout",
     "output_type": "stream",
     "text": [
      "Output shape for 537 samples: (537, 16)\n",
      "537\n",
      "Output of the forward pass for first sample: \n",
      "[[0.03710938 0.96289062 0.         0.         0.         0.\n",
      "  0.         0.         0.         0.         0.         0.\n",
      "  0.         0.         0.         0.        ]\n",
      " [0.04199219 0.95800781 0.         0.         0.         0.\n",
      "  0.         0.         0.         0.         0.         0.\n",
      "  0.         0.         0.         0.        ]\n",
      " [0.02050781 0.34082031 0.01660156 0.62207031 0.         0.\n",
      "  0.         0.         0.         0.         0.         0.\n",
      "  0.         0.         0.         0.        ]\n",
      " [0.02148438 0.33300781 0.01171875 0.63378906 0.         0.\n",
      "  0.         0.         0.         0.         0.         0.\n",
      "  0.         0.         0.         0.        ]\n",
      " [0.03222656 0.96777344 0.         0.         0.         0.\n",
      "  0.         0.         0.         0.         0.         0.\n",
      "  0.         0.         0.         0.        ]\n",
      " [0.04199219 0.95800781 0.         0.         0.         0.\n",
      "  0.         0.         0.         0.         0.         0.\n",
      "  0.         0.         0.         0.        ]]\n"
     ]
    }
   ],
   "source": [
    "# forward output is a dictionary of 6 subex_circ items.\n",
    "print(f\"Output shape for {len(x_train_A)} samples: {forward_output[0].shape}\")\n",
    "print(len(forward_output[0]))\n",
    "print(f\"Output of the forward pass for first sample: \\n{np.array([forward_output[i][0] for i in range(6)])}\")"
   ]
  },
  {
   "cell_type": "code",
   "execution_count": 28,
   "id": "d59acee2-9e90-4105-92bd-ee4801a2db86",
   "metadata": {},
   "outputs": [],
   "source": [
    "input_grad, weights_grad = sampler_qcnn.backward(\n",
    "    input_data=x_train_A,\n",
    "    weights=weights_A\n",
    ")"
   ]
  },
  {
   "cell_type": "code",
   "execution_count": 29,
   "id": "9b081ccf-6d7b-4d8b-bece-61518575b4cc",
   "metadata": {},
   "outputs": [
    {
     "name": "stdout",
     "output_type": "stream",
     "text": [
      "Output shape for 537 samples: (537, 16, 7)\n",
      "Output of the backward pass for first sample for first subexperiment circuit: \n",
      "[[[ 0.36914062  0.          0.          0.          0.\n",
      "    0.          0.        ]\n",
      "  [-0.36914062  0.          0.          0.          0.\n",
      "    0.          0.        ]\n",
      "  [ 0.          0.          0.          0.          0.\n",
      "    0.          0.        ]\n",
      "  [ 0.          0.          0.          0.          0.\n",
      "    0.          0.        ]\n",
      "  [ 0.          0.          0.          0.          0.\n",
      "    0.          0.        ]\n",
      "  [ 0.          0.          0.          0.          0.\n",
      "    0.          0.        ]\n",
      "  [ 0.          0.          0.          0.          0.\n",
      "    0.          0.        ]\n",
      "  [ 0.          0.          0.          0.          0.\n",
      "    0.          0.        ]\n",
      "  [ 0.          0.          0.          0.          0.\n",
      "    0.          0.        ]\n",
      "  [ 0.          0.          0.          0.          0.\n",
      "    0.          0.        ]\n",
      "  [ 0.          0.          0.          0.          0.\n",
      "    0.          0.        ]\n",
      "  [ 0.          0.          0.          0.          0.\n",
      "    0.          0.        ]\n",
      "  [ 0.          0.          0.          0.          0.\n",
      "    0.          0.        ]\n",
      "  [ 0.          0.          0.          0.          0.\n",
      "    0.          0.        ]\n",
      "  [ 0.          0.          0.          0.          0.\n",
      "    0.          0.        ]\n",
      "  [ 0.          0.          0.          0.          0.\n",
      "    0.          0.        ]]\n",
      "\n",
      " [[ 0.3515625   0.          0.          0.          0.\n",
      "    0.          0.        ]\n",
      "  [-0.3515625   0.          0.          0.          0.\n",
      "    0.          0.        ]\n",
      "  [ 0.          0.          0.          0.          0.\n",
      "    0.          0.        ]\n",
      "  [ 0.          0.          0.          0.          0.\n",
      "    0.          0.        ]\n",
      "  [ 0.          0.          0.          0.          0.\n",
      "    0.          0.        ]\n",
      "  [ 0.          0.          0.          0.          0.\n",
      "    0.          0.        ]\n",
      "  [ 0.          0.          0.          0.          0.\n",
      "    0.          0.        ]\n",
      "  [ 0.          0.          0.          0.          0.\n",
      "    0.          0.        ]\n",
      "  [ 0.          0.          0.          0.          0.\n",
      "    0.          0.        ]\n",
      "  [ 0.          0.          0.          0.          0.\n",
      "    0.          0.        ]\n",
      "  [ 0.          0.          0.          0.          0.\n",
      "    0.          0.        ]\n",
      "  [ 0.          0.          0.          0.          0.\n",
      "    0.          0.        ]\n",
      "  [ 0.          0.          0.          0.          0.\n",
      "    0.          0.        ]\n",
      "  [ 0.          0.          0.          0.          0.\n",
      "    0.          0.        ]\n",
      "  [ 0.          0.          0.          0.          0.\n",
      "    0.          0.        ]\n",
      "  [ 0.          0.          0.          0.          0.\n",
      "    0.          0.        ]]\n",
      "\n",
      " [[ 0.23486328  0.          0.          0.          0.\n",
      "    0.          0.        ]\n",
      "  [ 0.30761719  0.          0.          0.          0.\n",
      "    0.          0.        ]\n",
      "  [ 0.13623047  0.          0.          0.          0.\n",
      "    0.          0.        ]\n",
      "  [-0.67871094  0.          0.          0.          0.\n",
      "    0.          0.        ]\n",
      "  [ 0.          0.          0.          0.          0.\n",
      "    0.          0.        ]\n",
      "  [ 0.          0.          0.          0.          0.\n",
      "    0.          0.        ]\n",
      "  [ 0.          0.          0.          0.          0.\n",
      "    0.          0.        ]\n",
      "  [ 0.          0.          0.          0.          0.\n",
      "    0.          0.        ]\n",
      "  [ 0.          0.          0.          0.          0.\n",
      "    0.          0.        ]\n",
      "  [ 0.          0.          0.          0.          0.\n",
      "    0.          0.        ]\n",
      "  [ 0.          0.          0.          0.          0.\n",
      "    0.          0.        ]\n",
      "  [ 0.          0.          0.          0.          0.\n",
      "    0.          0.        ]\n",
      "  [ 0.          0.          0.          0.          0.\n",
      "    0.          0.        ]\n",
      "  [ 0.          0.          0.          0.          0.\n",
      "    0.          0.        ]\n",
      "  [ 0.          0.          0.          0.          0.\n",
      "    0.          0.        ]\n",
      "  [ 0.          0.          0.          0.          0.\n",
      "    0.          0.        ]]\n",
      "\n",
      " [[ 0.22851562  0.          0.          0.          0.\n",
      "    0.          0.        ]\n",
      "  [ 0.37158203  0.          0.          0.          0.\n",
      "    0.          0.        ]\n",
      "  [ 0.12304688  0.          0.          0.          0.\n",
      "    0.          0.        ]\n",
      "  [-0.72314453  0.          0.          0.          0.\n",
      "    0.          0.        ]\n",
      "  [ 0.          0.          0.          0.          0.\n",
      "    0.          0.        ]\n",
      "  [ 0.          0.          0.          0.          0.\n",
      "    0.          0.        ]\n",
      "  [ 0.          0.          0.          0.          0.\n",
      "    0.          0.        ]\n",
      "  [ 0.          0.          0.          0.          0.\n",
      "    0.          0.        ]\n",
      "  [ 0.          0.          0.          0.          0.\n",
      "    0.          0.        ]\n",
      "  [ 0.          0.          0.          0.          0.\n",
      "    0.          0.        ]\n",
      "  [ 0.          0.          0.          0.          0.\n",
      "    0.          0.        ]\n",
      "  [ 0.          0.          0.          0.          0.\n",
      "    0.          0.        ]\n",
      "  [ 0.          0.          0.          0.          0.\n",
      "    0.          0.        ]\n",
      "  [ 0.          0.          0.          0.          0.\n",
      "    0.          0.        ]\n",
      "  [ 0.          0.          0.          0.          0.\n",
      "    0.          0.        ]\n",
      "  [ 0.          0.          0.          0.          0.\n",
      "    0.          0.        ]]\n",
      "\n",
      " [[ 0.36376953  0.          0.          0.          0.\n",
      "    0.          0.        ]\n",
      "  [-0.36376953  0.          0.          0.          0.\n",
      "    0.          0.        ]\n",
      "  [ 0.          0.          0.          0.          0.\n",
      "    0.          0.        ]\n",
      "  [ 0.          0.          0.          0.          0.\n",
      "    0.          0.        ]\n",
      "  [ 0.          0.          0.          0.          0.\n",
      "    0.          0.        ]\n",
      "  [ 0.          0.          0.          0.          0.\n",
      "    0.          0.        ]\n",
      "  [ 0.          0.          0.          0.          0.\n",
      "    0.          0.        ]\n",
      "  [ 0.          0.          0.          0.          0.\n",
      "    0.          0.        ]\n",
      "  [ 0.          0.          0.          0.          0.\n",
      "    0.          0.        ]\n",
      "  [ 0.          0.          0.          0.          0.\n",
      "    0.          0.        ]\n",
      "  [ 0.          0.          0.          0.          0.\n",
      "    0.          0.        ]\n",
      "  [ 0.          0.          0.          0.          0.\n",
      "    0.          0.        ]\n",
      "  [ 0.          0.          0.          0.          0.\n",
      "    0.          0.        ]\n",
      "  [ 0.          0.          0.          0.          0.\n",
      "    0.          0.        ]\n",
      "  [ 0.          0.          0.          0.          0.\n",
      "    0.          0.        ]\n",
      "  [ 0.          0.          0.          0.          0.\n",
      "    0.          0.        ]]\n",
      "\n",
      " [[ 0.37548828  0.          0.          0.          0.\n",
      "    0.          0.        ]\n",
      "  [-0.37548828  0.          0.          0.          0.\n",
      "    0.          0.        ]\n",
      "  [ 0.          0.          0.          0.          0.\n",
      "    0.          0.        ]\n",
      "  [ 0.          0.          0.          0.          0.\n",
      "    0.          0.        ]\n",
      "  [ 0.          0.          0.          0.          0.\n",
      "    0.          0.        ]\n",
      "  [ 0.          0.          0.          0.          0.\n",
      "    0.          0.        ]\n",
      "  [ 0.          0.          0.          0.          0.\n",
      "    0.          0.        ]\n",
      "  [ 0.          0.          0.          0.          0.\n",
      "    0.          0.        ]\n",
      "  [ 0.          0.          0.          0.          0.\n",
      "    0.          0.        ]\n",
      "  [ 0.          0.          0.          0.          0.\n",
      "    0.          0.        ]\n",
      "  [ 0.          0.          0.          0.          0.\n",
      "    0.          0.        ]\n",
      "  [ 0.          0.          0.          0.          0.\n",
      "    0.          0.        ]\n",
      "  [ 0.          0.          0.          0.          0.\n",
      "    0.          0.        ]\n",
      "  [ 0.          0.          0.          0.          0.\n",
      "    0.          0.        ]\n",
      "  [ 0.          0.          0.          0.          0.\n",
      "    0.          0.        ]\n",
      "  [ 0.          0.          0.          0.          0.\n",
      "    0.          0.        ]]]\n"
     ]
    }
   ],
   "source": [
    "print(f\"Output shape for {len(x_train_A)} samples: {weights_grad[0].shape}\")\n",
    "print(f\"Output of the backward pass for first sample for first subexperiment circuit: \\n{np.array([weights_grad[i][0] for i in range(6)])}\")"
   ]
  },
  {
   "cell_type": "markdown",
   "id": "bf7a3765-0f3f-434b-bbad-adb88c863fc7",
   "metadata": {},
   "source": [
    "#### For subexperiments[\"B\"]"
   ]
  },
  {
   "cell_type": "code",
   "execution_count": 30,
   "id": "476fd0f1-1156-4a1a-96a8-17a2c1812c49",
   "metadata": {},
   "outputs": [],
   "source": [
    "final_circuits2 = [embedding.compose(subex_circuit, inplace=False) for subex_circuit in subexperiments[\"B\"]]"
   ]
  },
  {
   "cell_type": "code",
   "execution_count": 31,
   "id": "c4cb1766-d548-4c35-b0c5-c612372e0d7c",
   "metadata": {},
   "outputs": [],
   "source": [
    "sampler_qcnn2 = CustomSampler(\n",
    "    circuits=final_circuits2, \n",
    "    input_params=feature_params.params,\n",
    "    weight_params=sub_circuits[\"B\"].parameters,\n",
    ")"
   ]
  },
  {
   "cell_type": "code",
   "execution_count": 32,
   "id": "35b3ceb5-5e16-4f30-b89d-56a5651c7f1c",
   "metadata": {},
   "outputs": [],
   "source": [
    "weights_B = algorithm_globals.random.random(8)\n",
    "forward_output2 = sampler_qcnn2._forward(\n",
    "    input_data=x_train_B,\n",
    "    weights=weights_B,\n",
    ")"
   ]
  },
  {
   "cell_type": "code",
   "execution_count": 33,
   "id": "fc2aef81-e8c6-4b1b-a563-2dd41b3e27d4",
   "metadata": {},
   "outputs": [
    {
     "name": "stdout",
     "output_type": "stream",
     "text": [
      "Output shape for 537 samples: (537, 16)\n",
      "537\n",
      "Output of the forward pass for first sample: \n",
      "[[0.53417969 0.46582031 0.         0.         0.         0.\n",
      "  0.         0.         0.         0.         0.         0.\n",
      "  0.         0.         0.         0.        ]\n",
      " [0.53027344 0.46972656 0.         0.         0.         0.\n",
      "  0.         0.         0.         0.         0.         0.\n",
      "  0.         0.         0.         0.        ]\n",
      " [0.41210938 0.58789062 0.         0.         0.         0.\n",
      "  0.         0.         0.         0.         0.         0.\n",
      "  0.         0.         0.         0.        ]\n",
      " [0.65722656 0.34277344 0.         0.         0.         0.\n",
      "  0.         0.         0.         0.         0.         0.\n",
      "  0.         0.         0.         0.        ]\n",
      " [0.10742188 0.30175781 0.44628906 0.14453125 0.         0.\n",
      "  0.         0.         0.         0.         0.         0.\n",
      "  0.         0.         0.         0.        ]\n",
      " [0.10449219 0.31738281 0.42089844 0.15722656 0.         0.\n",
      "  0.         0.         0.         0.         0.         0.\n",
      "  0.         0.         0.         0.        ]]\n"
     ]
    }
   ],
   "source": [
    "print(f\"Output shape for {len(x_train_B)} samples: {forward_output2[0].shape}\")\n",
    "print(len(forward_output2[0]))\n",
    "print(f\"Output of the forward pass for first sample: \\n{np.array([forward_output2[i][0] for i in range(6)])}\")"
   ]
  },
  {
   "cell_type": "code",
   "execution_count": 34,
   "id": "734f3787-0de1-44f5-8c66-c7f1425d9f11",
   "metadata": {},
   "outputs": [],
   "source": [
    "input_grad2, weights_grad2 = sampler_qcnn2._backward(\n",
    "    input_data=x_train_B,\n",
    "    weights=weights_B\n",
    ")"
   ]
  },
  {
   "cell_type": "code",
   "execution_count": 35,
   "id": "e91322c9-7a6e-4b7c-8c5d-b298dba19b07",
   "metadata": {},
   "outputs": [
    {
     "name": "stdout",
     "output_type": "stream",
     "text": [
      "Output shape for 537 samples: (537, 16, 7)\n",
      "Output of the backward pass for first sample for first subexperiment circuit: \n",
      "[[[ 0.36914062  0.          0.          0.          0.\n",
      "    0.          0.        ]\n",
      "  [-0.36914062  0.          0.          0.          0.\n",
      "    0.          0.        ]\n",
      "  [ 0.          0.          0.          0.          0.\n",
      "    0.          0.        ]\n",
      "  [ 0.          0.          0.          0.          0.\n",
      "    0.          0.        ]\n",
      "  [ 0.          0.          0.          0.          0.\n",
      "    0.          0.        ]\n",
      "  [ 0.          0.          0.          0.          0.\n",
      "    0.          0.        ]\n",
      "  [ 0.          0.          0.          0.          0.\n",
      "    0.          0.        ]\n",
      "  [ 0.          0.          0.          0.          0.\n",
      "    0.          0.        ]\n",
      "  [ 0.          0.          0.          0.          0.\n",
      "    0.          0.        ]\n",
      "  [ 0.          0.          0.          0.          0.\n",
      "    0.          0.        ]\n",
      "  [ 0.          0.          0.          0.          0.\n",
      "    0.          0.        ]\n",
      "  [ 0.          0.          0.          0.          0.\n",
      "    0.          0.        ]\n",
      "  [ 0.          0.          0.          0.          0.\n",
      "    0.          0.        ]\n",
      "  [ 0.          0.          0.          0.          0.\n",
      "    0.          0.        ]\n",
      "  [ 0.          0.          0.          0.          0.\n",
      "    0.          0.        ]\n",
      "  [ 0.          0.          0.          0.          0.\n",
      "    0.          0.        ]]\n",
      "\n",
      " [[ 0.3515625   0.          0.          0.          0.\n",
      "    0.          0.        ]\n",
      "  [-0.3515625   0.          0.          0.          0.\n",
      "    0.          0.        ]\n",
      "  [ 0.          0.          0.          0.          0.\n",
      "    0.          0.        ]\n",
      "  [ 0.          0.          0.          0.          0.\n",
      "    0.          0.        ]\n",
      "  [ 0.          0.          0.          0.          0.\n",
      "    0.          0.        ]\n",
      "  [ 0.          0.          0.          0.          0.\n",
      "    0.          0.        ]\n",
      "  [ 0.          0.          0.          0.          0.\n",
      "    0.          0.        ]\n",
      "  [ 0.          0.          0.          0.          0.\n",
      "    0.          0.        ]\n",
      "  [ 0.          0.          0.          0.          0.\n",
      "    0.          0.        ]\n",
      "  [ 0.          0.          0.          0.          0.\n",
      "    0.          0.        ]\n",
      "  [ 0.          0.          0.          0.          0.\n",
      "    0.          0.        ]\n",
      "  [ 0.          0.          0.          0.          0.\n",
      "    0.          0.        ]\n",
      "  [ 0.          0.          0.          0.          0.\n",
      "    0.          0.        ]\n",
      "  [ 0.          0.          0.          0.          0.\n",
      "    0.          0.        ]\n",
      "  [ 0.          0.          0.          0.          0.\n",
      "    0.          0.        ]\n",
      "  [ 0.          0.          0.          0.          0.\n",
      "    0.          0.        ]]\n",
      "\n",
      " [[ 0.23486328  0.          0.          0.          0.\n",
      "    0.          0.        ]\n",
      "  [ 0.30761719  0.          0.          0.          0.\n",
      "    0.          0.        ]\n",
      "  [ 0.13623047  0.          0.          0.          0.\n",
      "    0.          0.        ]\n",
      "  [-0.67871094  0.          0.          0.          0.\n",
      "    0.          0.        ]\n",
      "  [ 0.          0.          0.          0.          0.\n",
      "    0.          0.        ]\n",
      "  [ 0.          0.          0.          0.          0.\n",
      "    0.          0.        ]\n",
      "  [ 0.          0.          0.          0.          0.\n",
      "    0.          0.        ]\n",
      "  [ 0.          0.          0.          0.          0.\n",
      "    0.          0.        ]\n",
      "  [ 0.          0.          0.          0.          0.\n",
      "    0.          0.        ]\n",
      "  [ 0.          0.          0.          0.          0.\n",
      "    0.          0.        ]\n",
      "  [ 0.          0.          0.          0.          0.\n",
      "    0.          0.        ]\n",
      "  [ 0.          0.          0.          0.          0.\n",
      "    0.          0.        ]\n",
      "  [ 0.          0.          0.          0.          0.\n",
      "    0.          0.        ]\n",
      "  [ 0.          0.          0.          0.          0.\n",
      "    0.          0.        ]\n",
      "  [ 0.          0.          0.          0.          0.\n",
      "    0.          0.        ]\n",
      "  [ 0.          0.          0.          0.          0.\n",
      "    0.          0.        ]]\n",
      "\n",
      " [[ 0.22851562  0.          0.          0.          0.\n",
      "    0.          0.        ]\n",
      "  [ 0.37158203  0.          0.          0.          0.\n",
      "    0.          0.        ]\n",
      "  [ 0.12304688  0.          0.          0.          0.\n",
      "    0.          0.        ]\n",
      "  [-0.72314453  0.          0.          0.          0.\n",
      "    0.          0.        ]\n",
      "  [ 0.          0.          0.          0.          0.\n",
      "    0.          0.        ]\n",
      "  [ 0.          0.          0.          0.          0.\n",
      "    0.          0.        ]\n",
      "  [ 0.          0.          0.          0.          0.\n",
      "    0.          0.        ]\n",
      "  [ 0.          0.          0.          0.          0.\n",
      "    0.          0.        ]\n",
      "  [ 0.          0.          0.          0.          0.\n",
      "    0.          0.        ]\n",
      "  [ 0.          0.          0.          0.          0.\n",
      "    0.          0.        ]\n",
      "  [ 0.          0.          0.          0.          0.\n",
      "    0.          0.        ]\n",
      "  [ 0.          0.          0.          0.          0.\n",
      "    0.          0.        ]\n",
      "  [ 0.          0.          0.          0.          0.\n",
      "    0.          0.        ]\n",
      "  [ 0.          0.          0.          0.          0.\n",
      "    0.          0.        ]\n",
      "  [ 0.          0.          0.          0.          0.\n",
      "    0.          0.        ]\n",
      "  [ 0.          0.          0.          0.          0.\n",
      "    0.          0.        ]]\n",
      "\n",
      " [[ 0.36376953  0.          0.          0.          0.\n",
      "    0.          0.        ]\n",
      "  [-0.36376953  0.          0.          0.          0.\n",
      "    0.          0.        ]\n",
      "  [ 0.          0.          0.          0.          0.\n",
      "    0.          0.        ]\n",
      "  [ 0.          0.          0.          0.          0.\n",
      "    0.          0.        ]\n",
      "  [ 0.          0.          0.          0.          0.\n",
      "    0.          0.        ]\n",
      "  [ 0.          0.          0.          0.          0.\n",
      "    0.          0.        ]\n",
      "  [ 0.          0.          0.          0.          0.\n",
      "    0.          0.        ]\n",
      "  [ 0.          0.          0.          0.          0.\n",
      "    0.          0.        ]\n",
      "  [ 0.          0.          0.          0.          0.\n",
      "    0.          0.        ]\n",
      "  [ 0.          0.          0.          0.          0.\n",
      "    0.          0.        ]\n",
      "  [ 0.          0.          0.          0.          0.\n",
      "    0.          0.        ]\n",
      "  [ 0.          0.          0.          0.          0.\n",
      "    0.          0.        ]\n",
      "  [ 0.          0.          0.          0.          0.\n",
      "    0.          0.        ]\n",
      "  [ 0.          0.          0.          0.          0.\n",
      "    0.          0.        ]\n",
      "  [ 0.          0.          0.          0.          0.\n",
      "    0.          0.        ]\n",
      "  [ 0.          0.          0.          0.          0.\n",
      "    0.          0.        ]]\n",
      "\n",
      " [[ 0.37548828  0.          0.          0.          0.\n",
      "    0.          0.        ]\n",
      "  [-0.37548828  0.          0.          0.          0.\n",
      "    0.          0.        ]\n",
      "  [ 0.          0.          0.          0.          0.\n",
      "    0.          0.        ]\n",
      "  [ 0.          0.          0.          0.          0.\n",
      "    0.          0.        ]\n",
      "  [ 0.          0.          0.          0.          0.\n",
      "    0.          0.        ]\n",
      "  [ 0.          0.          0.          0.          0.\n",
      "    0.          0.        ]\n",
      "  [ 0.          0.          0.          0.          0.\n",
      "    0.          0.        ]\n",
      "  [ 0.          0.          0.          0.          0.\n",
      "    0.          0.        ]\n",
      "  [ 0.          0.          0.          0.          0.\n",
      "    0.          0.        ]\n",
      "  [ 0.          0.          0.          0.          0.\n",
      "    0.          0.        ]\n",
      "  [ 0.          0.          0.          0.          0.\n",
      "    0.          0.        ]\n",
      "  [ 0.          0.          0.          0.          0.\n",
      "    0.          0.        ]\n",
      "  [ 0.          0.          0.          0.          0.\n",
      "    0.          0.        ]\n",
      "  [ 0.          0.          0.          0.          0.\n",
      "    0.          0.        ]\n",
      "  [ 0.          0.          0.          0.          0.\n",
      "    0.          0.        ]\n",
      "  [ 0.          0.          0.          0.          0.\n",
      "    0.          0.        ]]]\n"
     ]
    }
   ],
   "source": [
    "print(f\"Output shape for {len(x_train_B)} samples: {weights_grad[0].shape}\")\n",
    "print(f\"Output of the backward pass for first sample for first subexperiment circuit: \\n{np.array([weights_grad[i][0] for i in range(6)])}\")"
   ]
  },
  {
   "cell_type": "markdown",
   "id": "49fdb89d-3094-44a5-8aae-078836e29602",
   "metadata": {},
   "source": [
    "## Loss and Optimization"
   ]
  },
  {
   "cell_type": "code",
   "execution_count": 36,
   "id": "73d6684f-d62d-452e-a503-5676541f9a4d",
   "metadata": {},
   "outputs": [],
   "source": [
    "from qiskit_machine_learning.utils.loss_functions import L2Loss\n",
    "from qiskit_algorithms.optimizers import COBYLA, SPSA, GradientDescent\n",
    "from objective_func import CustomMultiClassObjectiveFunction\n",
    "from optimization import create_objective, minimizer, print_optimizer_results"
   ]
  },
  {
   "cell_type": "code",
   "execution_count": 37,
   "id": "a795c0c0-88f0-44f3-9de9-dc333d2d6466",
   "metadata": {},
   "outputs": [],
   "source": [
    "def callback(nfev, params, fval, stepsize, accepted=None):\n",
    "    global objective_func_vals\n",
    "\n",
    "    if (nfev % 3) == 0:\n",
    "        objective_func_vals.append(fval)\n",
    "        print(f\"SPSA Epoch {len(objective_func_vals)}: {fval:.5f}\")"
   ]
  },
  {
   "cell_type": "code",
   "execution_count": 38,
   "id": "00fcbea5-d74a-4227-aa21-ae9fe3892fea",
   "metadata": {},
   "outputs": [],
   "source": [
    "objective_func_vals = []\n",
    "loss = L2Loss()\n",
    "# optimizer = COBYLA(maxiter=10)\n",
    "optimizer = SPSA(maxiter=10, callback=callback)\n",
    "# optimizer = GradientDescent(maxiter=2) # This doesn't work yet. The gradient shape doesn't match."
   ]
  },
  {
   "cell_type": "code",
   "execution_count": 39,
   "id": "bc3ab8f7-1902-4c28-bcd3-13035cd4c0d5",
   "metadata": {},
   "outputs": [],
   "source": [
    "# objective = create_objective(x_train_A, y_train, sampler_qcnn, loss)\n",
    "initial_point = np.random.random((7,))\n",
    "function = CustomMultiClassObjectiveFunction(x_train_A, y_train, sampler_qcnn, loss)"
   ]
  },
  {
   "cell_type": "code",
   "execution_count": null,
   "id": "6442ee44-fc35-4440-9e09-f0c241039b1d",
   "metadata": {},
   "outputs": [],
   "source": [
    "function.objective0(initial_point)"
   ]
  },
  {
   "cell_type": "code",
   "execution_count": null,
   "id": "a37f0126-20fc-4463-82bc-968fc5cbeed7",
   "metadata": {},
   "outputs": [],
   "source": [
    "function.gradient0(initial_point)"
   ]
  },
  {
   "cell_type": "code",
   "execution_count": 40,
   "id": "d3887b0c-2cc1-4194-8f1d-690915756497",
   "metadata": {},
   "outputs": [
    {
     "name": "stdout",
     "output_type": "stream",
     "text": [
      "SPSA Epoch 1: 0.52575\n",
      "SPSA Epoch 2: 0.44691\n",
      "SPSA Epoch 3: 0.39526\n",
      "SPSA Epoch 4: 0.37572\n",
      "SPSA Epoch 5: 0.36687\n",
      "SPSA Epoch 6: 0.36395\n",
      "SPSA Epoch 7: 0.36135\n",
      "SPSA Epoch 8: 0.36056\n",
      "SPSA Epoch 9: 0.36033\n",
      "SPSA Epoch 10: 0.36070\n",
      "{   'fun': 0.3607007245111732,\n",
      "    'jac': None,\n",
      "    'nfev': 30,\n",
      "    'nit': 10,\n",
      "    'njev': None,\n",
      "    'x': array([ 2.41026937,  2.25592642, -0.14782284,  0.14296764,  1.77975946,\n",
      "        0.99484641,  1.11985443])}\n"
     ]
    }
   ],
   "source": [
    "# Optimizing sub-experiment-0\n",
    "optimizer_result = minimizer(function, function.objective0, function.gradient0, initial_point, optimizer)"
   ]
  },
  {
   "cell_type": "code",
   "execution_count": 41,
   "id": "0896372c-0930-4451-b75b-5edb6733efc7",
   "metadata": {},
   "outputs": [
    {
     "name": "stdout",
     "output_type": "stream",
     "text": [
      "New params (The final point of the minimization): [ 2.41026937  2.25592642 -0.14782284  0.14296764  1.77975946  0.99484641\n",
      "  1.11985443]\n",
      "The final value of the minimization: 0.3607007245111732\n",
      "The final gradient of the minimization: None\n",
      "The total number of function evaluations: 30\n",
      "The total number of gradient evaluations: None\n",
      "The total number of iterations: 10\n"
     ]
    }
   ],
   "source": [
    "print_optimizer_results(optimizer_result)"
   ]
  },
  {
   "cell_type": "code",
   "execution_count": 42,
   "id": "d38f5b9e-b92e-429d-b715-f734eae3a76e",
   "metadata": {},
   "outputs": [
    {
     "data": {
      "text/plain": [
       "Text(0.5, 1.0, 'Training loss')"
      ]
     },
     "execution_count": 42,
     "metadata": {},
     "output_type": "execute_result"
    },
    {
     "data": {
      "image/png": "[encoded data removed]",
      "text/plain": [
       "<Figure size 640x480 with 1 Axes>"
      ]
     },
     "metadata": {},
     "output_type": "display_data"
    }
   ],
   "source": [
    "plt.plot(objective_func_vals)\n",
    "plt.xlabel(\"Number of epochs\")\n",
    "plt.title(\"Training loss\")"
   ]
  },
  {
   "cell_type": "markdown",
   "id": "ac1fc3ef-8cef-4326-8ff9-bbe594b32a23",
   "metadata": {},
   "source": [
    "## Reconstruct Expectation Values"
   ]
  },
  {
   "cell_type": "code",
   "execution_count": null,
   "id": "8824ed8a-0db9-4133-adf5-41a31171b8f3",
   "metadata": {},
   "outputs": [],
   "source": [
    "from circuit_knitting.cutting import reconstruct_expectation_values"
   ]
  },
  {
   "cell_type": "code",
   "execution_count": null,
   "id": "2fc9d67e-3710-4fe7-b679-77ddea243358",
   "metadata": {},
   "outputs": [],
   "source": [
    "import copy\n",
    "\n",
    "empty_dict = {}\n",
    "for num_samples in range(537):\n",
    "    empty_dict[num_samples] = []\n",
    "\n",
    "dists_dict = copy.deepcopy(empty_dict)\n",
    "metadata_dict = copy.deepcopy(empty_dict)\n",
    "\n",
    "for num_samples in range(537):\n",
    "    for k, v in forward_sampler_result.items():\n",
    "        # print(num_samples, k, v.quasi_dists[num_samples])\n",
    "        dists_dict[num_samples].append(v.quasi_dists[num_samples])\n",
    "        metadata_dict[num_samples].append(v.metadata[num_samples])\n",
    "\n",
    "A_dict = copy.deepcopy(empty_dict)\n",
    "for key, item in new_dict.items():\n",
    "    A_dict[key] = SamplerResult(quasi_dists=dists_dict[key], metadata=metadata_dict[key])\n",
    "\n",
    "print(len(dists_dict), len(metadata_dict[0]))\n",
    "print(len(A_dict), len(A_dict[0].quasi_dists), len(A_dict[0].metadata))"
   ]
  },
  {
   "cell_type": "code",
   "execution_count": null,
   "id": "1a407f12-661f-4c16-a58b-288089846695",
   "metadata": {},
   "outputs": [],
   "source": [
    "# B_dict\n",
    "\n",
    "dists_dict = copy.deepcopy(empty_dict)\n",
    "metadata_dict = copy.deepcopy(empty_dict)\n",
    "\n",
    "for num_samples in range(537):\n",
    "    for k, v in forward_sampler_result2.items():\n",
    "        # print(num_samples, k, v.quasi_dists[num_samples])\n",
    "        dists_dict[num_samples].append(v.quasi_dists[num_samples])\n",
    "        metadata_dict[num_samples].append(v.metadata[num_samples])\n",
    "\n",
    "B_dict = copy.deepcopy(empty_dict)\n",
    "for key, item in new_dict.items():\n",
    "    B_dict[key] = SamplerResult(quasi_dists=dists_dict[key], metadata=metadata_dict[key])\n",
    "\n",
    "print(len(dists_dict), len(metadata_dict[0]))\n",
    "print(len(B_dict), len(B_dict[0].quasi_dists), len(B_dict[0].metadata))"
   ]
  },
  {
   "cell_type": "code",
   "execution_count": null,
   "id": "32460c59-4959-4a08-9628-ac7130a4a950",
   "metadata": {},
   "outputs": [],
   "source": [
    "# combine dicts\n",
    "combine_dict = {\"A\": None, \"B\": None}\n",
    "reconstructed_expvals = []\n",
    "\n",
    "zip_dict = zip(A_dict.items(), B_dict.items())\n",
    "# print(zip_dict)\n",
    "for (num_subex1, v1), (num_subex2, v2) in zip_dict:\n",
    "    # print((num_subex1, v1), (num_subex2, v2))\n",
    "    combine_dict[\"A\"] = v1\n",
    "    combine_dict[\"B\"] = v2\n",
    "    reconstructed_expvals.append(\n",
    "        reconstruct_expectation_values(\n",
    "            combine_dict,\n",
    "            coefficients,\n",
    "            sub_observables,\n",
    "        )[0]\n",
    "    )\n",
    "\n",
    "# print(combine_dict)"
   ]
  },
  {
   "cell_type": "code",
   "execution_count": null,
   "id": "75733a3f-390d-4067-9df2-679b0d72ef75",
   "metadata": {},
   "outputs": [],
   "source": []
  }
 ],
 "metadata": {
  "kernelspec": {
   "display_name": "Python 3 (ipykernel)",
   "language": "python",
   "name": "python3"
  },
  "language_info": {
   "codemirror_mode": {
    "name": "ipython",
    "version": 3
   },
   "file_extension": ".py",
   "mimetype": "text/x-python",
   "name": "python",
   "nbconvert_exporter": "python",
   "pygments_lexer": "ipython3",
   "version": "3.8.18"
  }
 },
 "nbformat": 4,
 "nbformat_minor": 5
}
