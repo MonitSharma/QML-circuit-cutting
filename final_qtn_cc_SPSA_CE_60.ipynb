{
 "cells": [
  {
   "cell_type": "code",
   "execution_count": 1,
   "id": "initial_id",
   "metadata": {
    "ExecuteTime": {
     "end_time": "2024-02-15T18:09:19.320003Z",
     "start_time": "2024-02-15T18:09:19.308526Z"
    }
   },
   "outputs": [
    {
     "name": "stderr",
     "output_type": "stream",
     "text": [
      "/var/folders/3j/3p_dzlvs1nsdfryf9hm7gjnr0000gn/T/ipykernel_93164/2931032580.py:9: DeprecationWarning: ``qiskit.algorithms`` has been migrated to an independent package: https://github.com/qiskit-community/qiskit-algorithms. The ``qiskit.algorithms`` import path is deprecated as of qiskit-terra 0.25.0 and will be removed in Qiskit 1.0. Please run ``pip install qiskit_algorithms`` and use ``import qiskit_algorithms`` instead.\n",
      "  from qiskit.algorithms.optimizers import ADAM, SPSA\n"
     ]
    }
   ],
   "source": [
    "from circuit_knitting.cutting import partition_problem\n",
    "from qiskit.circuit import QuantumCircuit, ParameterVector\n",
    "from qiskit.quantum_info import SparsePauliOp, PauliList\n",
    "import numpy as np\n",
    "import pandas as pd\n",
    "import matplotlib.pyplot as plt\n",
    "from sklearn.model_selection import train_test_split\n",
    "from qiskit_algorithms.optimizers.cobyla import COBYLA\n",
    "from qiskit.algorithms.optimizers import ADAM, SPSA\n",
    "from qiskit_algorithms.utils import algorithm_globals\n",
    "from IPython.display import clear_output\n",
    "from loss_optimization.accuracy_score import encode_y"
   ]
  },
  {
   "cell_type": "code",
   "execution_count": 2,
   "id": "3b94d0bd-445c-48c7-949c-11d240fce1a6",
   "metadata": {},
   "outputs": [],
   "source": [
    "seed = 100"
   ]
  },
  {
   "cell_type": "markdown",
   "id": "91c00f7c-def5-4106-bd98-522927f57892",
   "metadata": {},
   "source": [
    "## Data Loading"
   ]
  },
  {
   "cell_type": "code",
   "execution_count": 3,
   "id": "84e0ff14-514d-440f-851a-63c136d80243",
   "metadata": {
    "ExecuteTime": {
     "end_time": "2024-02-15T18:09:20.482075Z",
     "start_time": "2024-02-15T18:09:20.472994Z"
    }
   },
   "outputs": [
    {
     "data": {
      "text/html": [
       "<div>\n",
       "<style scoped>\n",
       "    .dataframe tbody tr th:only-of-type {\n",
       "        vertical-align: middle;\n",
       "    }\n",
       "\n",
       "    .dataframe tbody tr th {\n",
       "        vertical-align: top;\n",
       "    }\n",
       "\n",
       "    .dataframe thead th {\n",
       "        text-align: right;\n",
       "    }\n",
       "</style>\n",
       "<table border=\"1\" class=\"dataframe\">\n",
       "  <thead>\n",
       "    <tr style=\"text-align: right;\">\n",
       "      <th></th>\n",
       "      <th>Pregnancies</th>\n",
       "      <th>Glucose</th>\n",
       "      <th>BloodPressure</th>\n",
       "      <th>SkinThickness</th>\n",
       "      <th>Insulin</th>\n",
       "      <th>BMI</th>\n",
       "      <th>DiabetesPedigreeFunction</th>\n",
       "      <th>Age</th>\n",
       "      <th>Outcome</th>\n",
       "    </tr>\n",
       "  </thead>\n",
       "  <tbody>\n",
       "    <tr>\n",
       "      <th>0</th>\n",
       "      <td>-0.923998</td>\n",
       "      <td>1.531329</td>\n",
       "      <td>0.566517</td>\n",
       "      <td>-0.920265</td>\n",
       "      <td>-3.141593</td>\n",
       "      <td>0.004682</td>\n",
       "      <td>-1.66872</td>\n",
       "      <td>-0.104720</td>\n",
       "      <td>1</td>\n",
       "    </tr>\n",
       "    <tr>\n",
       "      <th>1</th>\n",
       "      <td>-2.771994</td>\n",
       "      <td>-0.457820</td>\n",
       "      <td>0.257508</td>\n",
       "      <td>-1.301064</td>\n",
       "      <td>-3.141593</td>\n",
       "      <td>-0.650792</td>\n",
       "      <td>-2.40918</td>\n",
       "      <td>-2.094395</td>\n",
       "      <td>0</td>\n",
       "    </tr>\n",
       "  </tbody>\n",
       "</table>\n",
       "</div>"
      ],
      "text/plain": [
       "   Pregnancies   Glucose  BloodPressure  SkinThickness   Insulin       BMI  \\\n",
       "0    -0.923998  1.531329       0.566517      -0.920265 -3.141593  0.004682   \n",
       "1    -2.771994 -0.457820       0.257508      -1.301064 -3.141593 -0.650792   \n",
       "\n",
       "   DiabetesPedigreeFunction       Age  Outcome  \n",
       "0                  -1.66872 -0.104720        1  \n",
       "1                  -2.40918 -2.094395        0  "
      ]
     },
     "execution_count": 3,
     "metadata": {},
     "output_type": "execute_result"
    }
   ],
   "source": [
    "# Load data\n",
    "data = pd.read_csv(\"diabetes_normalized.csv\")\n",
    "data = data.drop([\"Unnamed: 0\"], axis=1)\n",
    "data.head(2)"
   ]
  },
  {
   "cell_type": "code",
   "execution_count": 4,
   "id": "92a101c1-41f3-4fbe-b1c4-78eee1e9d524",
   "metadata": {
    "ExecuteTime": {
     "end_time": "2024-02-15T18:09:20.926480Z",
     "start_time": "2024-02-15T18:09:20.920864Z"
    }
   },
   "outputs": [],
   "source": [
    "y = data[\"Outcome\"]\n",
    "x = data.drop([\"Outcome\"], axis=1)"
   ]
  },
  {
   "cell_type": "code",
   "execution_count": 5,
   "id": "e8ef2ba7-dda4-41ea-944f-c710c9fc9528",
   "metadata": {
    "ExecuteTime": {
     "end_time": "2024-02-15T18:09:21.304727Z",
     "start_time": "2024-02-15T18:09:21.299733Z"
    }
   },
   "outputs": [
    {
     "name": "stdout",
     "output_type": "stream",
     "text": [
      "(537, 8) (537,) (231, 8) (231,)\n"
     ]
    }
   ],
   "source": [
    "x_train, x_test, y_train, y_test = train_test_split(x, y, test_size=0.3)\n",
    "print(x_train.shape, y_train.shape, x_test.shape, y_test.shape)"
   ]
  },
  {
   "cell_type": "code",
   "execution_count": 6,
   "id": "505092d4-3e8d-4853-9f59-3391739bae30",
   "metadata": {
    "ExecuteTime": {
     "end_time": "2024-02-15T18:09:21.800966Z",
     "start_time": "2024-02-15T18:09:21.796485Z"
    }
   },
   "outputs": [],
   "source": [
    "x_train_A = x_train.iloc[:, :4]\n",
    "x_train_B = x_train.iloc[:, 4:]"
   ]
  },
  {
   "cell_type": "code",
   "execution_count": 7,
   "id": "ea2b1465-28bb-4db5-9541-4ba60e770021",
   "metadata": {
    "ExecuteTime": {
     "end_time": "2024-02-15T18:09:22.250366Z",
     "start_time": "2024-02-15T18:09:22.235445Z"
    }
   },
   "outputs": [],
   "source": [
    "x_test_A = x_test.iloc[:, :4]\n",
    "x_test_B = x_test.iloc[:, 4:]"
   ]
  },
  {
   "cell_type": "code",
   "execution_count": 8,
   "id": "878cdeed-18a8-4f22-bea4-2031a7be0a08",
   "metadata": {},
   "outputs": [],
   "source": [
    "new_y_train = encode_y(y_train)\n",
    "new_y_test = encode_y(y_test)"
   ]
  },
  {
   "cell_type": "markdown",
   "id": "202a0b22-ad7d-468f-878a-e4569cc6d0fa",
   "metadata": {},
   "source": [
    "## Data Embedding"
   ]
  },
  {
   "cell_type": "code",
   "execution_count": 9,
   "id": "23a08b2f-5a0b-4aa5-96e7-5cd2a4655aaa",
   "metadata": {
    "ExecuteTime": {
     "end_time": "2024-02-15T18:09:23.793347Z",
     "start_time": "2024-02-15T18:09:23.786288Z"
    }
   },
   "outputs": [],
   "source": [
    "# Data Embedding - Angle Encoding\n",
    "def angle_encoding(feature_dims: int):\n",
    "    embedding = QuantumCircuit(feature_dims)\n",
    "    feature_param = ParameterVector(\"Theta\", feature_dims)\n",
    "    for qubit in range(feature_dims):\n",
    "        embedding.ry(feature_param[qubit], qubit)\n",
    "    return embedding, feature_param"
   ]
  },
  {
   "cell_type": "code",
   "execution_count": 10,
   "id": "3cbfc86a-2a27-4381-84ce-2a469fb57661",
   "metadata": {
    "ExecuteTime": {
     "end_time": "2024-02-15T18:09:24.329495Z",
     "start_time": "2024-02-15T18:09:24.321044Z"
    }
   },
   "outputs": [],
   "source": [
    "embedding, feature_params = angle_encoding(4)"
   ]
  },
  {
   "cell_type": "markdown",
   "id": "09640b63-6b10-40b0-837f-7acbc1f88c47",
   "metadata": {},
   "source": [
    "## Tensor Network"
   ]
  },
  {
   "cell_type": "code",
   "execution_count": 11,
   "id": "06ed2511-a0bb-4f5b-85b9-85940a954de3",
   "metadata": {
    "ExecuteTime": {
     "end_time": "2024-02-15T18:09:25.102164Z",
     "start_time": "2024-02-15T18:09:25.070178Z"
    }
   },
   "outputs": [],
   "source": [
    "from tensor_network.ttn import TTN"
   ]
  },
  {
   "cell_type": "code",
   "execution_count": 12,
   "id": "4c2d9089-9292-4580-98e4-6f6287a59473",
   "metadata": {},
   "outputs": [
    {
     "data": {
      "image/png": "[encoded data removed]",
      "text/plain": [
       "<Figure size 705.552x702.333 with 1 Axes>"
      ]
     },
     "execution_count": 12,
     "metadata": {},
     "output_type": "execute_result"
    }
   ],
   "source": [
    "ttn = TTN(num_qubits=8).ttn_simple(complex_structure=False)\n",
    "ttn.draw(\"mpl\", style=\"iqp\")"
   ]
  },
  {
   "cell_type": "code",
   "execution_count": 13,
   "id": "ebafa996-adaf-4060-9f32-21cdb706a932",
   "metadata": {},
   "outputs": [],
   "source": [
    "# ttn.parameters"
   ]
  },
  {
   "cell_type": "markdown",
   "id": "4f81b56c-c727-47cb-94a6-e2b5359d8a19",
   "metadata": {},
   "source": [
    "## Circuit Cutting"
   ]
  },
  {
   "cell_type": "code",
   "execution_count": 14,
   "id": "6cda3f8fc3c6b2d2",
   "metadata": {
    "ExecuteTime": {
     "end_time": "2024-02-15T03:34:50.371027Z",
     "start_time": "2024-02-15T03:34:50.309487Z"
    },
    "collapsed": false,
    "jupyter": {
     "outputs_hidden": false
    }
   },
   "outputs": [],
   "source": [
    "observables = PauliList([\"ZIIIIIII\"])\n",
    "partitioned_problem = partition_problem(circuit=ttn, partition_labels=\"AAAABBBB\", observables=observables)\n",
    "sub_circuits = partitioned_problem.subcircuits\n",
    "sub_observables = partitioned_problem.subobservables\n",
    "bases = partitioned_problem.bases"
   ]
  },
  {
   "cell_type": "code",
   "execution_count": 15,
   "id": "a43241fdcd1decfe",
   "metadata": {
    "ExecuteTime": {
     "end_time": "2024-02-15T03:34:50.869863Z",
     "start_time": "2024-02-15T03:34:50.865500Z"
    },
    "collapsed": false,
    "jupyter": {
     "outputs_hidden": false
    }
   },
   "outputs": [
    {
     "data": {
      "text/plain": [
       "{'A': PauliList(['IIII']), 'B': PauliList(['ZIII'])}"
      ]
     },
     "execution_count": 15,
     "metadata": {},
     "output_type": "execute_result"
    }
   ],
   "source": [
    "sub_observables"
   ]
  },
  {
   "cell_type": "code",
   "execution_count": 16,
   "id": "81331ea7-8123-4e9b-867d-54fd786e3fe2",
   "metadata": {},
   "outputs": [
    {
     "data": {
      "image/png": "[encoded data removed]",
      "text/plain": [
       "<Figure size 723.581x367.889 with 1 Axes>"
      ]
     },
     "execution_count": 16,
     "metadata": {},
     "output_type": "execute_result"
    }
   ],
   "source": [
    "sub_circuits[\"A\"].draw(\"mpl\", style=\"iqp\")"
   ]
  },
  {
   "cell_type": "code",
   "execution_count": 17,
   "id": "2af67465-17d0-4791-8e1c-279835483dc5",
   "metadata": {},
   "outputs": [
    {
     "data": {
      "image/png": "[encoded data removed]",
      "text/plain": [
       "<Figure size 807.394x367.889 with 1 Axes>"
      ]
     },
     "execution_count": 17,
     "metadata": {},
     "output_type": "execute_result"
    }
   ],
   "source": [
    "sub_circuits[\"B\"].draw(\"mpl\", style=\"iqp\")"
   ]
  },
  {
   "cell_type": "code",
   "execution_count": 18,
   "id": "77655d0a6a0d1c81",
   "metadata": {
    "ExecuteTime": {
     "end_time": "2024-02-15T03:35:00.944952Z",
     "start_time": "2024-02-15T03:35:00.935773Z"
    },
    "collapsed": false,
    "jupyter": {
     "outputs_hidden": false
    }
   },
   "outputs": [
    {
     "name": "stdout",
     "output_type": "stream",
     "text": [
      "Sampling overhead: 9.0\n"
     ]
    }
   ],
   "source": [
    "print(f\"Sampling overhead: {np.prod([basis.overhead for basis in bases])}\")"
   ]
  },
  {
   "cell_type": "markdown",
   "id": "2df0c32d-bfd9-407f-b867-d08632f53764",
   "metadata": {},
   "source": [
    "### Sub Experiments"
   ]
  },
  {
   "cell_type": "code",
   "execution_count": 19,
   "id": "a3327e421fea3182",
   "metadata": {
    "ExecuteTime": {
     "end_time": "2024-02-15T03:35:05.890185Z",
     "start_time": "2024-02-15T03:35:05.693811Z"
    },
    "collapsed": false,
    "jupyter": {
     "outputs_hidden": false
    }
   },
   "outputs": [],
   "source": [
    "from circuit_knitting.cutting import generate_cutting_experiments\n",
    "\n",
    "subexperiments, coefficients = generate_cutting_experiments(\n",
    "    circuits=sub_circuits, observables=sub_observables, num_samples=np.inf\n",
    ")"
   ]
  },
  {
   "cell_type": "code",
   "execution_count": 20,
   "id": "560e4327-900d-4758-b747-7ae311fe2902",
   "metadata": {},
   "outputs": [
    {
     "data": {
      "text/plain": [
       "6"
      ]
     },
     "execution_count": 20,
     "metadata": {},
     "output_type": "execute_result"
    }
   ],
   "source": [
    "# subexperiments\n",
    "len(subexperiments[\"A\"])"
   ]
  },
  {
   "cell_type": "code",
   "execution_count": 21,
   "id": "5cb2b2aa32d6d16b",
   "metadata": {
    "ExecuteTime": {
     "end_time": "2024-02-15T03:35:14.153045Z",
     "start_time": "2024-02-15T03:35:14.062981Z"
    },
    "collapsed": false,
    "jupyter": {
     "outputs_hidden": false
    }
   },
   "outputs": [
    {
     "data": {
      "image/png": "[encoded data removed]",
      "text/plain": [
       "<Figure size 1060.9x451.5 with 1 Axes>"
      ]
     },
     "execution_count": 21,
     "metadata": {},
     "output_type": "execute_result"
    }
   ],
   "source": [
    "subexperiments[\"A\"][0].draw(\"mpl\", style=\"iqp\")"
   ]
  },
  {
   "cell_type": "code",
   "execution_count": 22,
   "id": "8a0e854a-f742-4b19-8367-8155a54ab2b5",
   "metadata": {},
   "outputs": [
    {
     "data": {
      "image/png": "[encoded data removed]",
      "text/plain": [
       "<Figure size 1311.74x451.5 with 1 Axes>"
      ]
     },
     "execution_count": 22,
     "metadata": {},
     "output_type": "execute_result"
    }
   ],
   "source": [
    "subexperiments[\"B\"][3].draw(\"mpl\", style=\"iqp\")"
   ]
  },
  {
   "cell_type": "markdown",
   "id": "8cce6334-c721-40fc-b46e-f720eae969c0",
   "metadata": {},
   "source": [
    "## Neural Network Training"
   ]
  },
  {
   "cell_type": "code",
   "execution_count": 23,
   "id": "2504dedb-a5f4-4d4e-b75d-1b0bed7615e4",
   "metadata": {},
   "outputs": [],
   "source": [
    "from qiskit_machine_learning.neural_networks import SamplerQNN, NeuralNetwork\n",
    "from qiskit_aer.primitives import Sampler\n",
    "from typing import Callable"
   ]
  },
  {
   "cell_type": "code",
   "execution_count": 24,
   "id": "874404ef-4077-42c4-9db0-159fb621b542",
   "metadata": {},
   "outputs": [],
   "source": [
    "sampler = Sampler(transpile_options={\"optimization_level\": 3}, run_options={\"shots\": 1024})"
   ]
  },
  {
   "cell_type": "markdown",
   "id": "b7c252b4-15d2-44e7-a577-329c684c5c78",
   "metadata": {},
   "source": [
    "### Sampler"
   ]
  },
  {
   "cell_type": "code",
   "execution_count": 25,
   "id": "0e55d30c-e279-4f58-bfe6-e9a6d9c7d446",
   "metadata": {},
   "outputs": [],
   "source": [
    "from primitives.custom_sampler_qnn import CustomSampler"
   ]
  },
  {
   "cell_type": "markdown",
   "id": "5926c303-49fe-4052-b910-9e0763014904",
   "metadata": {},
   "source": [
    "#### For subexperiments[\"A\"]"
   ]
  },
  {
   "cell_type": "code",
   "execution_count": 26,
   "id": "5aefce4e-f3fb-4694-91a3-a5161d74aee1",
   "metadata": {},
   "outputs": [],
   "source": [
    "final_circuits = [embedding.compose(subex_circuit, inplace=False) for subex_circuit in subexperiments[\"A\"]]\n",
    "# final_circuits[0].draw(\"mpl\")"
   ]
  },
  {
   "cell_type": "code",
   "execution_count": 27,
   "id": "8853b9e4-a866-43f5-a908-e1f0d968c765",
   "metadata": {},
   "outputs": [],
   "source": [
    "sampler_qcnn = CustomSampler(\n",
    "    circuits=final_circuits, \n",
    "    sampler=sampler,\n",
    "    input_params=feature_params.params,\n",
    "    weight_params=sub_circuits[\"A\"].parameters,\n",
    "    input_gradients=False,\n",
    ")"
   ]
  },
  {
   "cell_type": "code",
   "execution_count": null,
   "id": "f60076a5-2776-4eb9-b316-5e0b71ace948",
   "metadata": {},
   "outputs": [],
   "source": [
    "weights_A = algorithm_globals.random.random(7)\n",
    "forward_output = sampler_qcnn.forward(\n",
    "    input_data=x_train_A,\n",
    "    weights=weights_A,\n",
    ")"
   ]
  },
  {
   "cell_type": "code",
   "execution_count": null,
   "id": "f534f8b7-9104-4101-9646-8e0760fea432",
   "metadata": {},
   "outputs": [],
   "source": [
    "# forward output is a dictionary of 6 subex_circ items.\n",
    "print(f\"Output shape for {len(x_train_A)} samples: {forward_output[0].shape}\")\n",
    "print(len(forward_output[0]))\n",
    "print(f\"Output of the forward pass for first sample: \\n{np.array([forward_output[i][0] for i in range(6)])}\")"
   ]
  },
  {
   "cell_type": "code",
   "execution_count": null,
   "id": "d59acee2-9e90-4105-92bd-ee4801a2db86",
   "metadata": {},
   "outputs": [],
   "source": [
    "input_grad, weights_grad = sampler_qcnn.backward(\n",
    "    input_data=x_train_A,\n",
    "    weights=weights_A\n",
    ")"
   ]
  },
  {
   "cell_type": "code",
   "execution_count": null,
   "id": "9b081ccf-6d7b-4d8b-bece-61518575b4cc",
   "metadata": {},
   "outputs": [],
   "source": [
    "print(f\"Output shape for {len(x_train_A)} samples: {weights_grad[0].shape}\")\n",
    "print(f\"Output of the backward pass for first sample for first subexperiment circuit: \\n{np.array([weights_grad[i][0] for i in range(6)])}\")"
   ]
  },
  {
   "cell_type": "markdown",
   "id": "bf7a3765-0f3f-434b-bbad-adb88c863fc7",
   "metadata": {},
   "source": [
    "#### For subexperiments[\"B\"]"
   ]
  },
  {
   "cell_type": "code",
   "execution_count": 28,
   "id": "476fd0f1-1156-4a1a-96a8-17a2c1812c49",
   "metadata": {},
   "outputs": [],
   "source": [
    "final_circuits2 = [embedding.compose(subex_circuit, inplace=False) for subex_circuit in subexperiments[\"B\"]]"
   ]
  },
  {
   "cell_type": "code",
   "execution_count": 29,
   "id": "c4cb1766-d548-4c35-b0c5-c612372e0d7c",
   "metadata": {},
   "outputs": [],
   "source": [
    "sampler_qcnn2 = CustomSampler(\n",
    "    circuits=final_circuits2, \n",
    "    sampler=sampler,\n",
    "    input_params=feature_params.params,\n",
    "    weight_params=sub_circuits[\"B\"].parameters,\n",
    ")"
   ]
  },
  {
   "cell_type": "code",
   "execution_count": null,
   "id": "35b3ceb5-5e16-4f30-b89d-56a5651c7f1c",
   "metadata": {},
   "outputs": [],
   "source": [
    "weights_B = algorithm_globals.random.random(8)\n",
    "forward_output2 = sampler_qcnn2._forward(\n",
    "    input_data=x_train_B,\n",
    "    weights=weights_B,\n",
    ")"
   ]
  },
  {
   "cell_type": "code",
   "execution_count": null,
   "id": "fc2aef81-e8c6-4b1b-a563-2dd41b3e27d4",
   "metadata": {},
   "outputs": [],
   "source": [
    "print(f\"Output shape for {len(x_train_A)} samples: {forward_output2[0].shape}\")\n",
    "print(len(forward_output2[0]))\n",
    "print(f\"Output of the forward pass for first sample: \\n{np.array([forward_output2[i][0] for i in range(6)])}\")"
   ]
  },
  {
   "cell_type": "code",
   "execution_count": null,
   "id": "734f3787-0de1-44f5-8c66-c7f1425d9f11",
   "metadata": {},
   "outputs": [],
   "source": [
    "input_grad2, weights_grad2 = sampler_qcnn2._backward(\n",
    "    input_data=x_train_B,\n",
    "    weights=weights_B\n",
    ")"
   ]
  },
  {
   "cell_type": "code",
   "execution_count": null,
   "id": "e91322c9-7a6e-4b7c-8c5d-b298dba19b07",
   "metadata": {},
   "outputs": [],
   "source": [
    "print(f\"Output shape for {len(x_train_B)} samples: {weights_grad2[0].shape}\")\n",
    "print(f\"Output of the backward pass for first sample for first subexperiment circuit: \\n{np.array([weights_grad2[i][0] for i in range(6)])}\")"
   ]
  },
  {
   "cell_type": "markdown",
   "id": "49fdb89d-3094-44a5-8aae-078836e29602",
   "metadata": {},
   "source": [
    "## Loss and Optimization"
   ]
  },
  {
   "cell_type": "code",
   "execution_count": 30,
   "id": "73d6684f-d62d-452e-a503-5676541f9a4d",
   "metadata": {},
   "outputs": [],
   "source": [
    "from qiskit_machine_learning.utils.loss_functions import L2Loss\n",
    "from loss_optimization.custom_cross_entropy_loss import CustomCrossEntropyLoss\n",
    "from qiskit_algorithms.optimizers import COBYLA, SPSA, GradientDescent\n",
    "from loss_optimization.objective_func import CustomMultiClassObjectiveFunction\n",
    "# from loss_optimization.callback import callback\n",
    "from loss_optimization.optimization import create_objective, minimizer, print_optimizer_results"
   ]
  },
  {
   "cell_type": "code",
   "execution_count": 31,
   "id": "a795c0c0-88f0-44f3-9de9-dc333d2d6466",
   "metadata": {},
   "outputs": [],
   "source": [
    "def callback_spsa(nfev=None, params=None, fval=None, stepsize=None, accepted=None):\n",
    "    \"\"\"\n",
    "    nfev: the number of function evals\n",
    "    params: the current parameters\n",
    "    fval: the current function value\n",
    "    stepsize: size of the update step\n",
    "    accepted: whether the step was accepted (not used for )\n",
    "    \"\"\"\n",
    "    # objective_func_vals = loss\n",
    "    global objective_func_vals\n",
    "\n",
    "    if (nfev % 3) == 0:\n",
    "        objective_func_vals.append(fval)\n",
    "        print(f\"SPSA Epoch {len(objective_func_vals)}: {fval:.5f}\")\n",
    "\n",
    "def callback_cobyla(weights, obj_func_eval):\n",
    "    # clear_output(wait=True)\n",
    "    objective_func_vals.append(obj_func_eval)\n",
    "    print(f\"COBYLA Epoch {len(objective_func_vals)}: {obj_func_eval:.5f}\")"
   ]
  },
  {
   "cell_type": "code",
   "execution_count": 33,
   "id": "00fcbea5-d74a-4227-aa21-ae9fe3892fea",
   "metadata": {},
   "outputs": [],
   "source": [
    "objective_func_vals = []\n",
    "# loss = L2Loss()\n",
    "loss = CustomCrossEntropyLoss()\n",
    "# optimizer = COBYLA(maxiter=5)\n",
    "optimizer = SPSA(maxiter=5, callback=callback_spsa)\n",
    "# optimizer = GradientDescent(maxiter=2) # This doesn't work yet. The gradient shape doesn't match."
   ]
  },
  {
   "cell_type": "markdown",
   "id": "dba6ba3e-791d-4f6a-92d8-116d7e03d4d6",
   "metadata": {},
   "source": [
    "#### Optimizer Result for sub-circuits[\"A\"]"
   ]
  },
  {
   "cell_type": "code",
   "execution_count": 34,
   "id": "bc3ab8f7-1902-4c28-bcd3-13035cd4c0d5",
   "metadata": {},
   "outputs": [],
   "source": [
    "initial_point = np.random.random((7,))\n",
    "function = CustomMultiClassObjectiveFunction(x_train_A, y_train, sampler_qcnn, loss)"
   ]
  },
  {
   "cell_type": "code",
   "execution_count": 35,
   "id": "8269a9e8-beae-4ee3-b9da-2f727af3b1f4",
   "metadata": {},
   "outputs": [
    {
     "name": "stderr",
     "output_type": "stream",
     "text": [
      "/Users/saashajoshi/anaconda3/envs/qiskit_x86/lib/python3.8/site-packages/numpy/linalg/linalg.py:2154: RuntimeWarning: divide by zero encountered in det\n",
      "  r = _umath_linalg.det(a, signature=signature)\n",
      "/Users/saashajoshi/anaconda3/envs/qiskit_x86/lib/python3.8/site-packages/numpy/linalg/linalg.py:2154: RuntimeWarning: invalid value encountered in det\n",
      "  r = _umath_linalg.det(a, signature=signature)\n"
     ]
    },
    {
     "name": "stdout",
     "output_type": "stream",
     "text": [
      "SPSA Epoch 1: 2017.20249\n",
      "SPSA Epoch 2: 1796.41939\n",
      "SPSA Epoch 3: 1722.68946\n",
      "SPSA Epoch 4: 1697.97726\n",
      "SPSA Epoch 5: 1678.27687\n",
      "{   'fun': 1678.276871894209,\n",
      "    'jac': None,\n",
      "    'nfev': 15,\n",
      "    'nit': 5,\n",
      "    'njev': None,\n",
      "    'x': array([-0.88535767,  0.53916205, -0.02939879,  0.47010934,  0.42312291,\n",
      "       -0.31246783,  1.71759114])}\n",
      "SPSA Epoch 6: 2005.86310\n",
      "SPSA Epoch 7: 1785.29531\n",
      "SPSA Epoch 8: 1721.32587\n",
      "SPSA Epoch 9: 1692.43914\n",
      "SPSA Epoch 10: 1679.83185\n",
      "{   'fun': 1679.8318508928853,\n",
      "    'jac': None,\n",
      "    'nfev': 15,\n",
      "    'nit': 5,\n",
      "    'njev': None,\n",
      "    'x': array([-0.89384804, -0.13572443, -0.09475481,  1.28411771,  0.96585009,\n",
      "       -0.70167567,  1.25648341])}\n",
      "SPSA Epoch 11: 527.16605\n",
      "SPSA Epoch 12: 526.31627\n",
      "SPSA Epoch 13: 507.59316\n",
      "SPSA Epoch 14: 472.29056\n",
      "SPSA Epoch 15: 461.45140\n",
      "{   'fun': 461.45139507154744,\n",
      "    'jac': None,\n",
      "    'nfev': 15,\n",
      "    'nit': 5,\n",
      "    'njev': None,\n",
      "    'x': array([-0.83579222,  0.94268562,  1.45363803, -0.22365791,  0.98976977,\n",
      "        1.06173338, -0.0534474 ])}\n",
      "SPSA Epoch 16: 1129.79535\n",
      "SPSA Epoch 17: 1041.64692\n",
      "SPSA Epoch 18: 991.11485\n",
      "SPSA Epoch 19: 910.86663\n",
      "SPSA Epoch 20: 734.81714\n",
      "{   'fun': 734.8171398948928,\n",
      "    'jac': None,\n",
      "    'nfev': 15,\n",
      "    'nit': 5,\n",
      "    'njev': None,\n",
      "    'x': array([-1.04320634, -0.96432536,  0.37341895,  0.14965857, -0.97577454,\n",
      "        1.49513788,  0.91469488])}\n",
      "SPSA Epoch 21: 2017.14268\n",
      "SPSA Epoch 22: 1794.63715\n",
      "SPSA Epoch 23: 1721.98374\n",
      "SPSA Epoch 24: 1690.23825\n",
      "SPSA Epoch 25: 1684.85563\n",
      "{   'fun': 1684.8556291963002,\n",
      "    'jac': None,\n",
      "    'nfev': 15,\n",
      "    'nit': 5,\n",
      "    'njev': None,\n",
      "    'x': array([-0.88917971,  0.94847061,  0.51674727,  0.72048442,  0.5083458 ,\n",
      "        1.06751836, -0.01148164])}\n",
      "SPSA Epoch 26: 2006.60471\n",
      "SPSA Epoch 27: 1793.97927\n",
      "SPSA Epoch 28: 1721.08664\n",
      "SPSA Epoch 29: 1688.40816\n",
      "SPSA Epoch 30: 1678.33668\n",
      "{   'fun': 1678.3366787787736,\n",
      "    'jac': None,\n",
      "    'nfev': 15,\n",
      "    'nit': 5,\n",
      "    'njev': None,\n",
      "    'x': array([-0.8925441 , -0.18428817, -0.08085251,  1.07749253,  1.22653335,\n",
      "       -0.06524042,  0.51196466])}\n"
     ]
    }
   ],
   "source": [
    "# Optimizer result for 0th circuit for sub-circuit-A\n",
    "optimizer_result_A0 = minimizer(function, function.objective0, function.gradient0, initial_point, optimizer)\n",
    "optimizer_result_A1 = minimizer(function, function.objective1, function.gradient1, initial_point, optimizer)\n",
    "optimizer_result_A2 = minimizer(function, function.objective2, function.gradient2, initial_point, optimizer)\n",
    "optimizer_result_A3 = minimizer(function, function.objective3, function.gradient3, initial_point, optimizer)\n",
    "optimizer_result_A4 = minimizer(function, function.objective4, function.gradient4, initial_point, optimizer)\n",
    "optimizer_result_A5 = minimizer(function, function.objective5, function.gradient5, initial_point, optimizer)"
   ]
  },
  {
   "cell_type": "code",
   "execution_count": 36,
   "id": "3d06fd73-6d5f-4251-b91f-7803a4eb8098",
   "metadata": {},
   "outputs": [],
   "source": [
    "optimizer_results_A = [optimizer_result_A0, optimizer_result_A1, optimizer_result_A2, optimizer_result_A3, optimizer_result_A4, optimizer_result_A5]"
   ]
  },
  {
   "cell_type": "code",
   "execution_count": 37,
   "id": "62002702-1c92-4bec-942b-7a6cfa2ee79d",
   "metadata": {},
   "outputs": [
    {
     "name": "stdout",
     "output_type": "stream",
     "text": [
      "New params (The final point of the minimization): [-0.88535767  0.53916205 -0.02939879  0.47010934  0.42312291 -0.31246783\n",
      "  1.71759114]\n",
      "The final value of the minimization: 1678.276871894209\n",
      "The final gradient of the minimization: None\n",
      "The total number of function evaluations: 15\n",
      "The total number of gradient evaluations: None\n",
      "The total number of iterations: 5\n",
      "New params (The final point of the minimization): [-0.89384804 -0.13572443 -0.09475481  1.28411771  0.96585009 -0.70167567\n",
      "  1.25648341]\n",
      "The final value of the minimization: 1679.8318508928853\n",
      "The final gradient of the minimization: None\n",
      "The total number of function evaluations: 15\n",
      "The total number of gradient evaluations: None\n",
      "The total number of iterations: 5\n",
      "New params (The final point of the minimization): [-0.83579222  0.94268562  1.45363803 -0.22365791  0.98976977  1.06173338\n",
      " -0.0534474 ]\n",
      "The final value of the minimization: 461.45139507154744\n",
      "The final gradient of the minimization: None\n",
      "The total number of function evaluations: 15\n",
      "The total number of gradient evaluations: None\n",
      "The total number of iterations: 5\n",
      "New params (The final point of the minimization): [-1.04320634 -0.96432536  0.37341895  0.14965857 -0.97577454  1.49513788\n",
      "  0.91469488]\n",
      "The final value of the minimization: 734.8171398948928\n",
      "The final gradient of the minimization: None\n",
      "The total number of function evaluations: 15\n",
      "The total number of gradient evaluations: None\n",
      "The total number of iterations: 5\n",
      "New params (The final point of the minimization): [-0.88917971  0.94847061  0.51674727  0.72048442  0.5083458   1.06751836\n",
      " -0.01148164]\n",
      "The final value of the minimization: 1684.8556291963002\n",
      "The final gradient of the minimization: None\n",
      "The total number of function evaluations: 15\n",
      "The total number of gradient evaluations: None\n",
      "The total number of iterations: 5\n",
      "New params (The final point of the minimization): [-0.8925441  -0.18428817 -0.08085251  1.07749253  1.22653335 -0.06524042\n",
      "  0.51196466]\n",
      "The final value of the minimization: 1678.3366787787736\n",
      "The final gradient of the minimization: None\n",
      "The total number of function evaluations: 15\n",
      "The total number of gradient evaluations: None\n",
      "The total number of iterations: 5\n"
     ]
    }
   ],
   "source": [
    "# Print results from 6 sub-experiments of sub-circuit-A\n",
    "for opt_result in optimizer_results_A:\n",
    "    print_optimizer_results(opt_result)"
   ]
  },
  {
   "cell_type": "code",
   "execution_count": 38,
   "id": "8be438f3-e234-4217-bd1c-7e313b393e18",
   "metadata": {},
   "outputs": [
    {
     "data": {
      "text/plain": [
       "Text(0.5, 1.0, 'Training loss')"
      ]
     },
     "execution_count": 38,
     "metadata": {},
     "output_type": "execute_result"
    },
    {
     "data": {
      "image/png": "[encoded data removed]",
      "text/plain": [
       "<Figure size 640x480 with 1 Axes>"
      ]
     },
     "metadata": {},
     "output_type": "display_data"
    }
   ],
   "source": [
    "plt.plot(objective_func_vals[:10], label=\"A Subex-1\")\n",
    "plt.plot(objective_func_vals[10:20], label=\"A Subex-2\")\n",
    "plt.plot(objective_func_vals[20:30], label=\"A Subex-3\")\n",
    "plt.plot(objective_func_vals[30:40], label=\"A Subex-4\")\n",
    "plt.plot(objective_func_vals[40:50], label=\"A Subex-5\")\n",
    "plt.plot(objective_func_vals[50:60], label=\"A Subex-6\")\n",
    "plt.legend()\n",
    "plt.xlabel(\"Number of epochs\")\n",
    "plt.title(\"Training loss\")"
   ]
  },
  {
   "cell_type": "code",
   "execution_count": 39,
   "id": "621adb10-e0d3-4016-ad2b-615a998ada42",
   "metadata": {},
   "outputs": [
    {
     "data": {
      "text/plain": [
       "[]"
      ]
     },
     "execution_count": 39,
     "metadata": {},
     "output_type": "execute_result"
    }
   ],
   "source": [
    "objective_func_vals.clear()\n",
    "objective_func_vals"
   ]
  },
  {
   "cell_type": "markdown",
   "id": "8310166a-4dc2-4ffd-b1cf-2d8f83aa3548",
   "metadata": {},
   "source": [
    "#### Optimizer Result for sub-circuits[\"B\"]"
   ]
  },
  {
   "cell_type": "code",
   "execution_count": 40,
   "id": "2d4424fc-7ce6-41f0-b177-543f3708c0c3",
   "metadata": {},
   "outputs": [],
   "source": [
    "initial_point2 = np.random.random((8,))\n",
    "function2 = CustomMultiClassObjectiveFunction(x_train_B, y_train, sampler_qcnn2, loss)"
   ]
  },
  {
   "cell_type": "code",
   "execution_count": 41,
   "id": "60edb6f0-937d-4faf-b4f2-24fc1cd5c731",
   "metadata": {},
   "outputs": [
    {
     "name": "stdout",
     "output_type": "stream",
     "text": [
      "SPSA Epoch 1: 2613.94362\n",
      "SPSA Epoch 2: 1982.65803\n",
      "SPSA Epoch 3: 1956.49850\n",
      "SPSA Epoch 4: 1762.13809\n",
      "SPSA Epoch 5: 1742.78458\n",
      "{   'fun': 1742.784577585442,\n",
      "    'jac': None,\n",
      "    'nfev': 15,\n",
      "    'nit': 5,\n",
      "    'njev': None,\n",
      "    'x': array([ 0.9538272 ,  0.08183514,  1.48212395,  0.45501885,  1.25978738,\n",
      "        0.46624862,  0.26188325, -1.42175622])}\n",
      "SPSA Epoch 6: 2774.35765\n",
      "SPSA Epoch 7: 2698.33113\n",
      "SPSA Epoch 8: 2688.04435\n",
      "SPSA Epoch 9: 2627.47194\n",
      "SPSA Epoch 10: 2458.01511\n",
      "{   'fun': 2458.0151100918865,\n",
      "    'jac': None,\n",
      "    'nfev': 15,\n",
      "    'nit': 5,\n",
      "    'njev': None,\n",
      "    'x': array([-0.00726522, -0.28943792,  1.36502571, -0.64253619, -0.65419547,\n",
      "        1.14982251,  0.05190601, -1.12220887])}\n",
      "SPSA Epoch 11: 3544.33540\n",
      "SPSA Epoch 12: 3463.84729\n",
      "SPSA Epoch 13: 2396.62932\n",
      "SPSA Epoch 14: 2027.74046\n",
      "SPSA Epoch 15: 1951.65414\n",
      "{   'fun': 1951.6541412383817,\n",
      "    'jac': None,\n",
      "    'nfev': 15,\n",
      "    'nit': 5,\n",
      "    'njev': None,\n",
      "    'x': array([-0.83433493, -0.40957662,  0.72065908,  0.18780079, -0.00385748,\n",
      "        0.05334265, -0.54761304, -0.53423057])}\n",
      "SPSA Epoch 16: 2602.93915\n",
      "SPSA Epoch 17: 2467.64402\n",
      "SPSA Epoch 18: 2605.03239\n",
      "SPSA Epoch 19: 2381.12738\n",
      "SPSA Epoch 20: 2323.00705\n",
      "{   'fun': 2323.0070488760616,\n",
      "    'jac': None,\n",
      "    'nfev': 15,\n",
      "    'nit': 5,\n",
      "    'njev': None,\n",
      "    'x': array([ 1.77046528, -1.36695936, -0.78846325, -0.56595204, -1.37618218,\n",
      "       -0.69734884,  1.71067775, -0.8699801 ])}\n",
      "SPSA Epoch 21: 91.15610\n",
      "SPSA Epoch 22: -131.08452\n",
      "SPSA Epoch 23: -131.38021\n",
      "SPSA Epoch 24: -131.28942\n",
      "SPSA Epoch 25: -131.39364\n",
      "{   'fun': -131.39363652234636,\n",
      "    'jac': None,\n",
      "    'nfev': 15,\n",
      "    'nit': 5,\n",
      "    'njev': None,\n",
      "    'x': array([ 0.54311756,  0.44653182,  2.34317579,  0.71770706, -1.25713405,\n",
      "        0.92815367, -0.12501182,  1.57054885])}\n",
      "SPSA Epoch 26: 150.84879\n",
      "SPSA Epoch 27: 4.37190\n",
      "SPSA Epoch 28: -79.85114\n",
      "SPSA Epoch 29: -82.20259\n",
      "SPSA Epoch 30: -83.25462\n",
      "{   'fun': -83.25461524810184,\n",
      "    'jac': None,\n",
      "    'nfev': 15,\n",
      "    'nit': 5,\n",
      "    'njev': None,\n",
      "    'x': array([ 0.37257738,  0.90847872,  0.03622051,  1.62202636,  1.07563321,\n",
      "       -0.90150257,  1.21109214,  1.54683889])}\n"
     ]
    }
   ],
   "source": [
    "# Optimizer result for 0th circuit for sub-circuit-B\n",
    "optimizer_result_B0 = minimizer(function2, function2.objective0, function2.gradient0, initial_point2, optimizer)\n",
    "optimizer_result_B1 = minimizer(function2, function2.objective1, function2.gradient1, initial_point2, optimizer)\n",
    "optimizer_result_B2 = minimizer(function2, function2.objective2, function2.gradient2, initial_point2, optimizer)\n",
    "optimizer_result_B3 = minimizer(function2, function2.objective3, function2.gradient3, initial_point2, optimizer)\n",
    "optimizer_result_B4 = minimizer(function2, function2.objective4, function2.gradient4, initial_point2, optimizer)\n",
    "optimizer_result_B5 = minimizer(function2, function2.objective5, function2.gradient5, initial_point2, optimizer)"
   ]
  },
  {
   "cell_type": "code",
   "execution_count": 42,
   "id": "d6607356-2e2a-4e70-85ff-f258c2f5cbc1",
   "metadata": {},
   "outputs": [],
   "source": [
    "optimizer_results_B = [optimizer_result_B0, optimizer_result_B1, optimizer_result_B2, optimizer_result_B3, optimizer_result_B4, optimizer_result_B5]"
   ]
  },
  {
   "cell_type": "code",
   "execution_count": 43,
   "id": "0896372c-0930-4451-b75b-5edb6733efc7",
   "metadata": {},
   "outputs": [
    {
     "name": "stdout",
     "output_type": "stream",
     "text": [
      "New params (The final point of the minimization): [ 0.9538272   0.08183514  1.48212395  0.45501885  1.25978738  0.46624862\n",
      "  0.26188325 -1.42175622]\n",
      "The final value of the minimization: 1742.784577585442\n",
      "The final gradient of the minimization: None\n",
      "The total number of function evaluations: 15\n",
      "The total number of gradient evaluations: None\n",
      "The total number of iterations: 5\n",
      "New params (The final point of the minimization): [-0.00726522 -0.28943792  1.36502571 -0.64253619 -0.65419547  1.14982251\n",
      "  0.05190601 -1.12220887]\n",
      "The final value of the minimization: 2458.0151100918865\n",
      "The final gradient of the minimization: None\n",
      "The total number of function evaluations: 15\n",
      "The total number of gradient evaluations: None\n",
      "The total number of iterations: 5\n",
      "New params (The final point of the minimization): [-0.83433493 -0.40957662  0.72065908  0.18780079 -0.00385748  0.05334265\n",
      " -0.54761304 -0.53423057]\n",
      "The final value of the minimization: 1951.6541412383817\n",
      "The final gradient of the minimization: None\n",
      "The total number of function evaluations: 15\n",
      "The total number of gradient evaluations: None\n",
      "The total number of iterations: 5\n",
      "New params (The final point of the minimization): [ 1.77046528 -1.36695936 -0.78846325 -0.56595204 -1.37618218 -0.69734884\n",
      "  1.71067775 -0.8699801 ]\n",
      "The final value of the minimization: 2323.0070488760616\n",
      "The final gradient of the minimization: None\n",
      "The total number of function evaluations: 15\n",
      "The total number of gradient evaluations: None\n",
      "The total number of iterations: 5\n",
      "New params (The final point of the minimization): [ 0.54311756  0.44653182  2.34317579  0.71770706 -1.25713405  0.92815367\n",
      " -0.12501182  1.57054885]\n",
      "The final value of the minimization: -131.39363652234636\n",
      "The final gradient of the minimization: None\n",
      "The total number of function evaluations: 15\n",
      "The total number of gradient evaluations: None\n",
      "The total number of iterations: 5\n",
      "New params (The final point of the minimization): [ 0.37257738  0.90847872  0.03622051  1.62202636  1.07563321 -0.90150257\n",
      "  1.21109214  1.54683889]\n",
      "The final value of the minimization: -83.25461524810184\n",
      "The final gradient of the minimization: None\n",
      "The total number of function evaluations: 15\n",
      "The total number of gradient evaluations: None\n",
      "The total number of iterations: 5\n"
     ]
    }
   ],
   "source": [
    "# Print results from 6 sub-experiments of sub-circuit-B\n",
    "for opt_result in optimizer_results_B:\n",
    "    print_optimizer_results(opt_result)"
   ]
  },
  {
   "cell_type": "code",
   "execution_count": 44,
   "id": "d38f5b9e-b92e-429d-b715-f734eae3a76e",
   "metadata": {},
   "outputs": [
    {
     "data": {
      "text/plain": [
       "Text(0.5, 1.0, 'Training loss')"
      ]
     },
     "execution_count": 44,
     "metadata": {},
     "output_type": "execute_result"
    },
    {
     "data": {
      "image/png": "[encoded data removed]",
      "text/plain": [
       "<Figure size 640x480 with 1 Axes>"
      ]
     },
     "metadata": {},
     "output_type": "display_data"
    }
   ],
   "source": [
    "plt.plot(objective_func_vals[:10], label=\"B Subex1\")\n",
    "plt.plot(objective_func_vals[10:20], label=\"B Subex2\")\n",
    "plt.plot(objective_func_vals[20:30], label=\"B Subex3\")\n",
    "plt.plot(objective_func_vals[30:40], label=\"B Subex4\")\n",
    "plt.plot(objective_func_vals[40:50], label=\"B Subex5\")\n",
    "plt.plot(objective_func_vals[50:60], label=\"B Subex6\")\n",
    "plt.legend()\n",
    "plt.xlabel(\"Number of epochs\")\n",
    "plt.title(\"Training loss\")"
   ]
  },
  {
   "cell_type": "code",
   "execution_count": 45,
   "id": "ed7eacba-18a0-476e-97ba-53acde85b048",
   "metadata": {},
   "outputs": [
    {
     "data": {
      "text/plain": [
       "[]"
      ]
     },
     "execution_count": 45,
     "metadata": {},
     "output_type": "execute_result"
    }
   ],
   "source": [
    "objective_func_vals.clear()\n",
    "objective_func_vals"
   ]
  },
  {
   "cell_type": "markdown",
   "id": "8068f82d-6639-4886-a96f-f605d23f34bb",
   "metadata": {},
   "source": [
    "### At this point, the training is complete. \n",
    "We have 12 lists of 7 or 8 parameter values that will now be used to make predictions on the test cases. \n",
    "New subcircuits will be built using these parameter values and then their results will be used to reconstruct expectation values. This process will occur for all the inputs in the test set.\n",
    "\n",
    "\n",
    "Let us think of the training process as a box that we can tune/edit while training on the train set. However, once the training process is complete, the box is locked and provided to the user. The user can now send test data to the box and get its desired output.\n",
    "\n",
    "However, in the case of circuit cutting, instead of having one box, we have multiple boxes. In our case, we have a total of 12 boxes (6 boxes per cut). These 12 boxes are trained independently of each other and locked after the training process is complete. The user, now, instead of sending the test data to one box, splits it into 2 parts that are sent to these 12 boxes. The 12 boxes produce quasi-probability distributions respective to the circuits they implement which are then reconstructed to produce the expectation value according to the test input. This process is repeated for every data point in the test dataset."
   ]
  },
  {
   "cell_type": "markdown",
   "id": "ac1fc3ef-8cef-4326-8ff9-bbe594b32a23",
   "metadata": {},
   "source": [
    "## Reconstruct Expectation Values and Testing"
   ]
  },
  {
   "cell_type": "code",
   "execution_count": 46,
   "id": "8824ed8a-0db9-4133-adf5-41a31171b8f3",
   "metadata": {},
   "outputs": [],
   "source": [
    "from circuit_knitting.cutting import reconstruct_expectation_values\n",
    "from qiskit_aer.primitives import Sampler\n",
    "from qiskit.primitives import SamplerResult\n",
    "from loss_optimization.accuracy_score import get_accuracy_score, predict\n",
    "from circuit_cut.reconstruct_exp_val import get_subcircuit_results, get_dict_sampler_results, get_reconstructed_expvals"
   ]
  },
  {
   "cell_type": "markdown",
   "id": "be3f4e61-4039-40d7-8604-bfbad8adbc6a",
   "metadata": {},
   "source": [
    "### Reconstructing for train accuracy"
   ]
  },
  {
   "cell_type": "code",
   "execution_count": null,
   "id": "2331db8c-82ab-43a1-b9c7-2f401fc78493",
   "metadata": {},
   "outputs": [],
   "source": [
    "final_circuits = [embedding.compose(subex_circuit, inplace=False) for subex_circuit in subexperiments[\"A\"]]"
   ]
  },
  {
   "cell_type": "code",
   "execution_count": null,
   "id": "ed0d1504-3faa-483c-b78e-54ef28d13de2",
   "metadata": {},
   "outputs": [],
   "source": [
    "final_circuits2 = [embedding.compose(subex_circuit, inplace=False) for subex_circuit in subexperiments[\"B\"]]"
   ]
  },
  {
   "cell_type": "code",
   "execution_count": 48,
   "id": "22d2c629-840b-4d59-af33-90cdeb74649b",
   "metadata": {},
   "outputs": [],
   "source": [
    "train_results_A = get_subcircuit_results(x_train_A, final_circuits, optimizer_results_A, sampler)\n",
    "train_results_B = get_subcircuit_results(x_train_B, final_circuits2, optimizer_results_B, sampler)"
   ]
  },
  {
   "cell_type": "code",
   "execution_count": 49,
   "id": "6d812aa1-58ec-4db9-98c5-102d5a7a2611",
   "metadata": {},
   "outputs": [],
   "source": [
    "# Dict of SamplerResults of 6 sub-circuits A and B for each 537 train data inputs\n",
    "A_dict = get_dict_sampler_results(x_train_A, subexperiments[\"A\"], train_results_A)\n",
    "B_dict = get_dict_sampler_results(x_train_B, subexperiments[\"B\"], train_results_B)"
   ]
  },
  {
   "cell_type": "code",
   "execution_count": 50,
   "id": "17f6e961-c44f-472c-bbd9-a8989db338ba",
   "metadata": {},
   "outputs": [],
   "source": [
    "reconstructed_expvals = get_reconstructed_expvals(A_dict, B_dict, coefficients, sub_observables)"
   ]
  },
  {
   "cell_type": "code",
   "execution_count": 51,
   "id": "5a7d686f-8dbb-4f07-9ba5-b7dabd1f8eed",
   "metadata": {},
   "outputs": [],
   "source": [
    "y_predicted = predict(reconstructed_expvals)"
   ]
  },
  {
   "cell_type": "code",
   "execution_count": 52,
   "id": "307e1bed-0b68-4578-a52c-78974b35a50c",
   "metadata": {},
   "outputs": [
    {
     "name": "stdout",
     "output_type": "stream",
     "text": [
      "The Train Accuracy of the model is: (0.6052141527001862, 0.6052141527001862)\n"
     ]
    }
   ],
   "source": [
    "# accuracy_score function encodes y_train inside the function. Therefore, pass original y_train here.\n",
    "train_score1 = get_accuracy_score(new_y_train, y_predicted)\n",
    "train_score2 = get_accuracy_score(y_train, y_predicted)\n",
    "print(f\"The Train Accuracy of the model is: {train_score1, train_score2}\")"
   ]
  },
  {
   "cell_type": "markdown",
   "id": "ae4897db-5983-4c81-8fdc-7d2fddb947fa",
   "metadata": {},
   "source": [
    "### Reconstructing for test accuracy"
   ]
  },
  {
   "cell_type": "code",
   "execution_count": null,
   "id": "c74ec028-ab75-4414-8430-c587149f33b0",
   "metadata": {},
   "outputs": [],
   "source": [
    "final_circuits = [embedding.compose(subex_circuit, inplace=False) for subex_circuit in subexperiments[\"A\"]]"
   ]
  },
  {
   "cell_type": "code",
   "execution_count": null,
   "id": "d1830f0a-ea9b-4d25-9a29-afefe51e1e99",
   "metadata": {},
   "outputs": [],
   "source": [
    "final_circuits2 = [embedding.compose(subex_circuit, inplace=False) for subex_circuit in subexperiments[\"B\"]]"
   ]
  },
  {
   "cell_type": "code",
   "execution_count": null,
   "id": "ff3c0935-3633-4ce9-af6a-99b4e7715944",
   "metadata": {},
   "outputs": [],
   "source": [
    "test_results_A = get_subcircuit_results(x_test_A, final_circuits, optimizer_results_A, sampler)\n",
    "test_results_B = get_subcircuit_results(x_test_B, final_circuits2, optimizer_results_B, sampler)"
   ]
  },
  {
   "cell_type": "code",
   "execution_count": null,
   "id": "ea59d60c-3e63-4210-b67e-3078362bd26b",
   "metadata": {},
   "outputs": [],
   "source": [
    "# Dict of SamplerResults of 6 sub-circuits A and B for each 231 test data inputs\n",
    "A_dict = get_dict_sampler_results(x_test_A, subexperiments[\"A\"], test_results_A)\n",
    "B_dict = get_dict_sampler_results(x_test_B, subexperiments[\"B\"], test_results_B)"
   ]
  },
  {
   "cell_type": "code",
   "execution_count": null,
   "id": "d7c9624b-ab21-4aee-99b7-4749885197dd",
   "metadata": {},
   "outputs": [],
   "source": [
    "reconstructed_expvals = get_reconstructed_expvals(A_dict, B_dict, coefficients, sub_observables)"
   ]
  },
  {
   "cell_type": "code",
   "execution_count": null,
   "id": "69dded00-c876-44e4-a143-5f5bb4032dc0",
   "metadata": {},
   "outputs": [],
   "source": [
    "y_predicted = predict(reconstructed_expvals)"
   ]
  },
  {
   "cell_type": "code",
   "execution_count": null,
   "id": "f5fd5b7d-5afc-45bc-831b-8e715f7f99af",
   "metadata": {},
   "outputs": [],
   "source": [
    "# Pass original y_test here.\n",
    "test_score1 = get_accuracy_score(new_y_test, y_predicted)\n",
    "test_score2 = get_accuracy_score(y_test, y_predicted)\n",
    "print(f\"The Test Accuracy of the model is: {test_score1, test_score2}\")"
   ]
  },
  {
   "cell_type": "code",
   "execution_count": null,
   "id": "687229a8-a1bc-45cd-a063-4b19c46e4ee1",
   "metadata": {},
   "outputs": [],
   "source": [
    "# brand_new_y_train = new_y_train.replace({-1: 1, 1: -1})\n",
    "# brand_new_y_test = new_y_test.replace({-1: 1, 1: -1})"
   ]
  },
  {
   "cell_type": "code",
   "execution_count": null,
   "id": "cb5854fa-04cb-4991-8a8a-b17af63d2c5a",
   "metadata": {},
   "outputs": [],
   "source": []
  },
  {
   "cell_type": "code",
   "execution_count": null,
   "id": "059bba06-e0d9-44f7-8a59-0bbdf3eb9dfe",
   "metadata": {},
   "outputs": [],
   "source": []
  },
  {
   "cell_type": "code",
   "execution_count": null,
   "id": "ba9466da-de3c-41ae-8656-320b7804ea79",
   "metadata": {},
   "outputs": [],
   "source": []
  },
  {
   "cell_type": "markdown",
   "id": "40b0e231-939a-489f-8567-6b973a87fdb2",
   "metadata": {},
   "source": [
    "## Test original circuit for x_test[0]"
   ]
  },
  {
   "cell_type": "code",
   "execution_count": 64,
   "id": "aec16e6c-9909-4fbb-84bb-19daa47e7354",
   "metadata": {},
   "outputs": [],
   "source": [
    "from qiskit_machine_learning.neural_networks import EstimatorQNN\n",
    "from qiskit_machine_learning.algorithms import NeuralNetworkClassifier\n",
    "from qiskit.primitives import BackendEstimator\n",
    "from qiskit_aer import AerSimulator"
   ]
  },
  {
   "cell_type": "code",
   "execution_count": 65,
   "id": "cfb7a3be-ddf5-4d96-9bd0-76d02eac5dc2",
   "metadata": {},
   "outputs": [],
   "source": [
    "embedding, features = angle_encoding(8)\n",
    "new_ttn = TTN(num_qubits=8).ttn_simple(complex_structure=False)\n",
    "org_circuit = embedding.compose(new_ttn)\n",
    "# final_circuit.draw()"
   ]
  },
  {
   "cell_type": "code",
   "execution_count": 66,
   "id": "dfed65af-ebb2-495b-8258-cb0b5af6c914",
   "metadata": {},
   "outputs": [],
   "source": [
    "# gpu_simulator = AerSimulator(device='GPU')\n",
    "# simulator = AerSimulator()\n",
    "# backend = BackendEstimator(backend=simulator)"
   ]
  },
  {
   "cell_type": "code",
   "execution_count": 66,
   "id": "f67c702c-de14-48ee-a04a-e5ae82092c82",
   "metadata": {},
   "outputs": [],
   "source": [
    "observable = SparsePauliOp([\"ZIIIIIII\"])\n",
    "estimator_qnn = EstimatorQNN(\n",
    "    # estimator=backend,\n",
    "    circuit=org_circuit,\n",
    "    observables=observable,\n",
    "    input_params=features.params,\n",
    "    weight_params=new_ttn.parameters,\n",
    ")"
   ]
  },
  {
   "cell_type": "code",
   "execution_count": 67,
   "id": "d0b6b000-2d96-4d31-8b4e-525712575671",
   "metadata": {},
   "outputs": [],
   "source": [
    "weights = np.random.random(len(new_ttn.parameters))"
   ]
  },
  {
   "cell_type": "code",
   "execution_count": 68,
   "id": "268bba60-b00f-4cda-8217-f5ced8f8d27a",
   "metadata": {},
   "outputs": [
    {
     "name": "stdout",
     "output_type": "stream",
     "text": [
      "Output shape for 768 samples: (537, 1)\n",
      "Output of the forward pass for first sample: [0.08623017]\n"
     ]
    }
   ],
   "source": [
    "# Forward pass\n",
    "output = estimator_qnn.forward(x_train, weights)\n",
    "print(f\"Output shape for {len(x)} samples: {output.shape}\")\n",
    "print(f\"Output of the forward pass for first sample: {output[0]}\")"
   ]
  },
  {
   "cell_type": "code",
   "execution_count": null,
   "id": "723e885f-c12c-44a6-8224-f1e80f457434",
   "metadata": {},
   "outputs": [],
   "source": [
    "# Backward pass\n",
    "_, weights_grad = estimator_qnn.backward(x_train, weights)\n",
    "print(f\"Output shape for {len(x)} samples: {weights_grad.shape}\")\n",
    "print(f\"Output of the backward pass for first sample: {weights_grad[0]}\")"
   ]
  },
  {
   "cell_type": "code",
   "execution_count": 69,
   "id": "c36d86e1-a036-4137-b27d-90ab4849f897",
   "metadata": {},
   "outputs": [],
   "source": [
    "initial_point = np.random.random((len(new_ttn.parameters),))"
   ]
  },
  {
   "cell_type": "code",
   "execution_count": null,
   "id": "0fb2319e-c998-487e-af51-26002fd16e21",
   "metadata": {},
   "outputs": [],
   "source": [
    "# def encode_y(y):\n",
    "#     y_encoded = y.replace({0: -1, 1: 1})\n",
    "#     return y_encoded\n",
    "\n",
    "# new_y = encode_y(y_test)\n",
    "# new_y_train = encode_y(y_train)"
   ]
  },
  {
   "cell_type": "code",
   "execution_count": 70,
   "id": "d77f89c6-a938-4068-bfff-08398099255f",
   "metadata": {},
   "outputs": [],
   "source": [
    "classifier = NeuralNetworkClassifier(\n",
    "    estimator_qnn,\n",
    "    # optimizer=SPSA(maxiter=10, callback=callback),\n",
    "    optimizer=COBYLA(maxiter=10),\n",
    "    initial_point=initial_point,\n",
    ")"
   ]
  },
  {
   "cell_type": "code",
   "execution_count": 73,
   "id": "370ae6ca-1f60-417a-a7b7-5514280c2bf7",
   "metadata": {},
   "outputs": [
    {
     "name": "stdout",
     "output_type": "stream",
     "text": [
      "231 231\n"
     ]
    }
   ],
   "source": [
    "print(len(x_test.values), len(new_y_test.values))"
   ]
  },
  {
   "cell_type": "code",
   "execution_count": 72,
   "id": "be3c666f-dbde-4091-871b-a0afdf836e39",
   "metadata": {},
   "outputs": [
    {
     "data": {
      "text/plain": [
       "<qiskit_machine_learning.algorithms.classifiers.neural_network_classifier.NeuralNetworkClassifier at 0x287283100>"
      ]
     },
     "execution_count": 72,
     "metadata": {},
     "output_type": "execute_result"
    }
   ],
   "source": [
    "classifier.fit(x_train, new_y_train)"
   ]
  },
  {
   "cell_type": "code",
   "execution_count": null,
   "id": "065c196d-eab9-4924-85d1-2ca43c50ea58",
   "metadata": {},
   "outputs": [],
   "source": [
    "# plt.plot(objective_func_vals)\n",
    "# plt.xlabel(\"Number of epochs\")\n",
    "# plt.title(\"Training loss\")"
   ]
  },
  {
   "cell_type": "code",
   "execution_count": 74,
   "id": "0b24d698-69c9-4243-8386-c6414619981d",
   "metadata": {},
   "outputs": [],
   "source": [
    "y_test_pred = classifier.predict(x_test)\n",
    "# y_test_pred"
   ]
  },
  {
   "cell_type": "code",
   "execution_count": 75,
   "id": "058ccbbf-3b51-45fc-9149-7b196c685b0b",
   "metadata": {},
   "outputs": [
    {
     "data": {
      "text/plain": [
       "0.5021645021645021"
      ]
     },
     "execution_count": 75,
     "metadata": {},
     "output_type": "execute_result"
    }
   ],
   "source": [
    "classifier.score(x_test, new_y_test)"
   ]
  },
  {
   "cell_type": "code",
   "execution_count": 76,
   "id": "55fc154f-aa3f-4051-8968-bf5181a6dbb5",
   "metadata": {},
   "outputs": [
    {
     "data": {
      "text/plain": [
       "0.48044692737430167"
      ]
     },
     "execution_count": 76,
     "metadata": {},
     "output_type": "execute_result"
    }
   ],
   "source": [
    "classifier.score(x_train, new_y_train)"
   ]
  },
  {
   "cell_type": "code",
   "execution_count": null,
   "id": "57ecde04-79db-49d3-9710-421cfef35b7a",
   "metadata": {},
   "outputs": [],
   "source": []
  },
  {
   "cell_type": "code",
   "execution_count": null,
   "id": "e2cff8e7-8f11-4d34-bf80-31ec886461d5",
   "metadata": {},
   "outputs": [],
   "source": []
  },
  {
   "cell_type": "code",
   "execution_count": null,
   "id": "2a6fc64f-fd49-4220-9642-8b1f3018718d",
   "metadata": {},
   "outputs": [],
   "source": []
  },
  {
   "cell_type": "code",
   "execution_count": null,
   "id": "52b89a65-71e2-4880-bfb1-83fb8d6ca645",
   "metadata": {},
   "outputs": [],
   "source": []
  },
  {
   "cell_type": "code",
   "execution_count": null,
   "id": "1ab51f72-0540-40a6-8b3e-02c723be785f",
   "metadata": {},
   "outputs": [],
   "source": []
  },
  {
   "cell_type": "code",
   "execution_count": null,
   "id": "e11ca7af-c7c2-4cfa-8903-326f48a56a80",
   "metadata": {},
   "outputs": [],
   "source": []
  }
 ],
 "metadata": {
  "kernelspec": {
   "display_name": "Python 3 (ipykernel)",
   "language": "python",
   "name": "python3"
  },
  "language_info": {
   "codemirror_mode": {
    "name": "ipython",
    "version": 3
   },
   "file_extension": ".py",
   "mimetype": "text/x-python",
   "name": "python",
   "nbconvert_exporter": "python",
   "pygments_lexer": "ipython3",
   "version": "3.8.18"
  }
 },
 "nbformat": 4,
 "nbformat_minor": 5
}
