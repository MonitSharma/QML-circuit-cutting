{
 "cells": [
  {
   "cell_type": "code",
   "execution_count": 1,
   "id": "initial_id",
   "metadata": {
    "ExecuteTime": {
     "end_time": "2024-02-15T18:09:19.320003Z",
     "start_time": "2024-02-15T18:09:19.308526Z"
    },
    "tags": []
   },
   "outputs": [
    {
     "name": "stderr",
     "output_type": "stream",
     "text": [
      "/tmp/ipykernel_32520/2279893312.py:5: DeprecationWarning: \n",
      "Pyarrow will become a required dependency of pandas in the next major release of pandas (pandas 3.0),\n",
      "(to allow more performant data types, such as the Arrow string type, and better interoperability with other libraries)\n",
      "but was not found to be installed on your system.\n",
      "If this would cause problems for you,\n",
      "please provide us feedback at https://github.com/pandas-dev/pandas/issues/54466\n",
      "        \n",
      "  import pandas as pd\n",
      "/tmp/ipykernel_32520/2279893312.py:9: DeprecationWarning: ``qiskit.algorithms`` has been migrated to an independent package: https://github.com/qiskit-community/qiskit-algorithms. The ``qiskit.algorithms`` import path is deprecated as of qiskit-terra 0.25.0 and will be removed in Qiskit 1.0. Please run ``pip install qiskit_algorithms`` and use ``import qiskit_algorithms`` instead.\n",
      "  from qiskit.algorithms.optimizers import ADAM, SPSA\n"
     ]
    }
   ],
   "source": [
    "from circuit_knitting.cutting import partition_problem\n",
    "from qiskit.circuit import QuantumCircuit, ParameterVector\n",
    "from qiskit.quantum_info import SparsePauliOp, PauliList\n",
    "import numpy as np\n",
    "import pandas as pd\n",
    "import matplotlib.pyplot as plt\n",
    "from sklearn.model_selection import train_test_split\n",
    "from qiskit_algorithms.optimizers.cobyla import COBYLA\n",
    "from qiskit.algorithms.optimizers import ADAM, SPSA\n",
    "from qiskit_algorithms.utils import algorithm_globals\n",
    "from IPython.display import clear_output\n",
    "from loss_optimization.accuracy_score import encode_y\n",
    "import time"
   ]
  },
  {
   "cell_type": "code",
   "execution_count": 2,
   "id": "3b94d0bd-445c-48c7-949c-11d240fce1a6",
   "metadata": {
    "tags": []
   },
   "outputs": [],
   "source": [
    "seed = 100"
   ]
  },
  {
   "cell_type": "markdown",
   "id": "25a998ef-cc41-407e-80d9-4ef13cc6e64d",
   "metadata": {},
   "source": [
    "## AWS imports"
   ]
  },
  {
   "cell_type": "code",
   "execution_count": 3,
   "id": "bd53ac89-0774-4ce2-80af-0bc17aac5710",
   "metadata": {
    "tags": []
   },
   "outputs": [],
   "source": [
    "from qiskit_braket_provider import AWSBraketProvider, BraketLocalBackend"
   ]
  },
  {
   "cell_type": "code",
   "execution_count": 4,
   "id": "dc3b1f6e-2890-4b2f-92e5-033473d480d1",
   "metadata": {
    "tags": []
   },
   "outputs": [],
   "source": [
    "aws_provider = AWSBraketProvider()\n",
    "# backends = aws_provider.backends()\n",
    "\n",
    "online_sim = aws_provider.get_backend(\"TN1\")\n",
    "local_sim = BraketLocalBackend()"
   ]
  },
  {
   "cell_type": "markdown",
   "id": "91c00f7c-def5-4106-bd98-522927f57892",
   "metadata": {},
   "source": [
    "## Data Loading"
   ]
  },
  {
   "cell_type": "code",
   "execution_count": 5,
   "id": "84e0ff14-514d-440f-851a-63c136d80243",
   "metadata": {
    "ExecuteTime": {
     "end_time": "2024-02-15T18:09:20.482075Z",
     "start_time": "2024-02-15T18:09:20.472994Z"
    },
    "tags": []
   },
   "outputs": [
    {
     "data": {
      "text/html": [
       "<div>\n",
       "<style scoped>\n",
       "    .dataframe tbody tr th:only-of-type {\n",
       "        vertical-align: middle;\n",
       "    }\n",
       "\n",
       "    .dataframe tbody tr th {\n",
       "        vertical-align: top;\n",
       "    }\n",
       "\n",
       "    .dataframe thead th {\n",
       "        text-align: right;\n",
       "    }\n",
       "</style>\n",
       "<table border=\"1\" class=\"dataframe\">\n",
       "  <thead>\n",
       "    <tr style=\"text-align: right;\">\n",
       "      <th></th>\n",
       "      <th>Pregnancies</th>\n",
       "      <th>Glucose</th>\n",
       "      <th>BloodPressure</th>\n",
       "      <th>SkinThickness</th>\n",
       "      <th>Insulin</th>\n",
       "      <th>BMI</th>\n",
       "      <th>DiabetesPedigreeFunction</th>\n",
       "      <th>Age</th>\n",
       "      <th>Outcome</th>\n",
       "    </tr>\n",
       "  </thead>\n",
       "  <tbody>\n",
       "    <tr>\n",
       "      <th>0</th>\n",
       "      <td>-0.923998</td>\n",
       "      <td>1.531329</td>\n",
       "      <td>0.566517</td>\n",
       "      <td>-0.920265</td>\n",
       "      <td>-3.141593</td>\n",
       "      <td>0.004682</td>\n",
       "      <td>-1.66872</td>\n",
       "      <td>-0.104720</td>\n",
       "      <td>1</td>\n",
       "    </tr>\n",
       "    <tr>\n",
       "      <th>1</th>\n",
       "      <td>-2.771994</td>\n",
       "      <td>-0.457820</td>\n",
       "      <td>0.257508</td>\n",
       "      <td>-1.301064</td>\n",
       "      <td>-3.141593</td>\n",
       "      <td>-0.650792</td>\n",
       "      <td>-2.40918</td>\n",
       "      <td>-2.094395</td>\n",
       "      <td>0</td>\n",
       "    </tr>\n",
       "  </tbody>\n",
       "</table>\n",
       "</div>"
      ],
      "text/plain": [
       "   Pregnancies   Glucose  BloodPressure  SkinThickness   Insulin       BMI  \\\n",
       "0    -0.923998  1.531329       0.566517      -0.920265 -3.141593  0.004682   \n",
       "1    -2.771994 -0.457820       0.257508      -1.301064 -3.141593 -0.650792   \n",
       "\n",
       "   DiabetesPedigreeFunction       Age  Outcome  \n",
       "0                  -1.66872 -0.104720        1  \n",
       "1                  -2.40918 -2.094395        0  "
      ]
     },
     "execution_count": 5,
     "metadata": {},
     "output_type": "execute_result"
    }
   ],
   "source": [
    "# Load data\n",
    "data = pd.read_csv(\"diabetes_normalized.csv\")\n",
    "data = data.drop([\"Unnamed: 0\"], axis=1)\n",
    "data.head(2)"
   ]
  },
  {
   "cell_type": "code",
   "execution_count": 6,
   "id": "92a101c1-41f3-4fbe-b1c4-78eee1e9d524",
   "metadata": {
    "ExecuteTime": {
     "end_time": "2024-02-15T18:09:20.926480Z",
     "start_time": "2024-02-15T18:09:20.920864Z"
    },
    "tags": []
   },
   "outputs": [],
   "source": [
    "y = data[\"Outcome\"]\n",
    "x = data.drop([\"Outcome\"], axis=1)"
   ]
  },
  {
   "cell_type": "code",
   "execution_count": 7,
   "id": "e8ef2ba7-dda4-41ea-944f-c710c9fc9528",
   "metadata": {
    "ExecuteTime": {
     "end_time": "2024-02-15T18:09:21.304727Z",
     "start_time": "2024-02-15T18:09:21.299733Z"
    },
    "tags": []
   },
   "outputs": [
    {
     "name": "stdout",
     "output_type": "stream",
     "text": [
      "(537, 8) (537,) (231, 8) (231,)\n"
     ]
    }
   ],
   "source": [
    "x_train, x_test, y_train, y_test = train_test_split(x, y, test_size=0.3)\n",
    "print(x_train.shape, y_train.shape, x_test.shape, y_test.shape)"
   ]
  },
  {
   "cell_type": "code",
   "execution_count": 8,
   "id": "505092d4-3e8d-4853-9f59-3391739bae30",
   "metadata": {
    "ExecuteTime": {
     "end_time": "2024-02-15T18:09:21.800966Z",
     "start_time": "2024-02-15T18:09:21.796485Z"
    },
    "tags": []
   },
   "outputs": [],
   "source": [
    "x_train_A = x_train.iloc[:, :4]\n",
    "x_train_B = x_train.iloc[:, 4:]"
   ]
  },
  {
   "cell_type": "code",
   "execution_count": 9,
   "id": "ea2b1465-28bb-4db5-9541-4ba60e770021",
   "metadata": {
    "ExecuteTime": {
     "end_time": "2024-02-15T18:09:22.250366Z",
     "start_time": "2024-02-15T18:09:22.235445Z"
    },
    "tags": []
   },
   "outputs": [],
   "source": [
    "x_test_A = x_test.iloc[:, :4]\n",
    "x_test_B = x_test.iloc[:, 4:]"
   ]
  },
  {
   "cell_type": "code",
   "execution_count": 10,
   "id": "878cdeed-18a8-4f22-bea4-2031a7be0a08",
   "metadata": {
    "tags": []
   },
   "outputs": [],
   "source": [
    "new_y_train = encode_y(y_train)\n",
    "new_y_test = encode_y(y_test)"
   ]
  },
  {
   "cell_type": "markdown",
   "id": "202a0b22-ad7d-468f-878a-e4569cc6d0fa",
   "metadata": {},
   "source": [
    "## Data Embedding"
   ]
  },
  {
   "cell_type": "code",
   "execution_count": 11,
   "id": "23a08b2f-5a0b-4aa5-96e7-5cd2a4655aaa",
   "metadata": {
    "ExecuteTime": {
     "end_time": "2024-02-15T18:09:23.793347Z",
     "start_time": "2024-02-15T18:09:23.786288Z"
    },
    "tags": []
   },
   "outputs": [],
   "source": [
    "# Data Embedding - Angle Encoding\n",
    "def angle_encoding(feature_dims: int):\n",
    "    embedding = QuantumCircuit(feature_dims)\n",
    "    feature_param = ParameterVector(\"Theta\", feature_dims)\n",
    "    for qubit in range(feature_dims):\n",
    "        embedding.ry(feature_param[qubit], qubit)\n",
    "    return embedding, feature_param"
   ]
  },
  {
   "cell_type": "code",
   "execution_count": 12,
   "id": "3cbfc86a-2a27-4381-84ce-2a469fb57661",
   "metadata": {
    "ExecuteTime": {
     "end_time": "2024-02-15T18:09:24.329495Z",
     "start_time": "2024-02-15T18:09:24.321044Z"
    },
    "tags": []
   },
   "outputs": [],
   "source": [
    "embedding, feature_params = angle_encoding(4)"
   ]
  },
  {
   "cell_type": "markdown",
   "id": "09640b63-6b10-40b0-837f-7acbc1f88c47",
   "metadata": {},
   "source": [
    "## Tensor Network"
   ]
  },
  {
   "cell_type": "code",
   "execution_count": 13,
   "id": "06ed2511-a0bb-4f5b-85b9-85940a954de3",
   "metadata": {
    "ExecuteTime": {
     "end_time": "2024-02-15T18:09:25.102164Z",
     "start_time": "2024-02-15T18:09:25.070178Z"
    },
    "tags": []
   },
   "outputs": [],
   "source": [
    "from tensor_network.ttn import TTN"
   ]
  },
  {
   "cell_type": "code",
   "execution_count": 14,
   "id": "4c2d9089-9292-4580-98e4-6f6287a59473",
   "metadata": {
    "tags": []
   },
   "outputs": [
    {
     "data": {
      "image/png": "[encoded data removed]",
      "text/plain": [
       "<Figure size 705.552x702.333 with 1 Axes>"
      ]
     },
     "execution_count": 14,
     "metadata": {},
     "output_type": "execute_result"
    }
   ],
   "source": [
    "ttn = TTN(num_qubits=8).ttn_simple(complex_structure=False)\n",
    "ttn.draw(\"mpl\", style=\"iqp\")"
   ]
  },
  {
   "cell_type": "code",
   "execution_count": 15,
   "id": "ebafa996-adaf-4060-9f32-21cdb706a932",
   "metadata": {
    "tags": []
   },
   "outputs": [],
   "source": [
    "# ttn.parameters"
   ]
  },
  {
   "cell_type": "markdown",
   "id": "4f81b56c-c727-47cb-94a6-e2b5359d8a19",
   "metadata": {},
   "source": [
    "## Circuit Cutting"
   ]
  },
  {
   "cell_type": "code",
   "execution_count": 16,
   "id": "6cda3f8fc3c6b2d2",
   "metadata": {
    "ExecuteTime": {
     "end_time": "2024-02-15T03:34:50.371027Z",
     "start_time": "2024-02-15T03:34:50.309487Z"
    },
    "collapsed": false,
    "jupyter": {
     "outputs_hidden": false
    },
    "tags": []
   },
   "outputs": [],
   "source": [
    "observables = PauliList([\"ZIIIIIII\"])\n",
    "partitioned_problem = partition_problem(circuit=ttn, partition_labels=\"AAAABBBB\", observables=observables)\n",
    "sub_circuits = partitioned_problem.subcircuits\n",
    "sub_observables = partitioned_problem.subobservables\n",
    "bases = partitioned_problem.bases"
   ]
  },
  {
   "cell_type": "code",
   "execution_count": 17,
   "id": "a43241fdcd1decfe",
   "metadata": {
    "ExecuteTime": {
     "end_time": "2024-02-15T03:34:50.869863Z",
     "start_time": "2024-02-15T03:34:50.865500Z"
    },
    "collapsed": false,
    "jupyter": {
     "outputs_hidden": false
    },
    "tags": []
   },
   "outputs": [
    {
     "data": {
      "text/plain": [
       "{'A': PauliList(['IIII']), 'B': PauliList(['ZIII'])}"
      ]
     },
     "execution_count": 17,
     "metadata": {},
     "output_type": "execute_result"
    }
   ],
   "source": [
    "sub_observables"
   ]
  },
  {
   "cell_type": "code",
   "execution_count": 18,
   "id": "81331ea7-8123-4e9b-867d-54fd786e3fe2",
   "metadata": {
    "tags": []
   },
   "outputs": [
    {
     "data": {
      "image/png": "[encoded data removed]",
      "text/plain": [
       "<Figure size 723.581x367.889 with 1 Axes>"
      ]
     },
     "execution_count": 18,
     "metadata": {},
     "output_type": "execute_result"
    }
   ],
   "source": [
    "sub_circuits[\"A\"].draw(\"mpl\", style=\"iqp\")"
   ]
  },
  {
   "cell_type": "code",
   "execution_count": 19,
   "id": "2af67465-17d0-4791-8e1c-279835483dc5",
   "metadata": {
    "tags": []
   },
   "outputs": [
    {
     "data": {
      "image/png": "[encoded data removed]",
      "text/plain": [
       "<Figure size 807.394x367.889 with 1 Axes>"
      ]
     },
     "execution_count": 19,
     "metadata": {},
     "output_type": "execute_result"
    }
   ],
   "source": [
    "sub_circuits[\"B\"].draw(\"mpl\", style=\"iqp\")"
   ]
  },
  {
   "cell_type": "code",
   "execution_count": 20,
   "id": "77655d0a6a0d1c81",
   "metadata": {
    "ExecuteTime": {
     "end_time": "2024-02-15T03:35:00.944952Z",
     "start_time": "2024-02-15T03:35:00.935773Z"
    },
    "collapsed": false,
    "jupyter": {
     "outputs_hidden": false
    },
    "tags": []
   },
   "outputs": [
    {
     "name": "stdout",
     "output_type": "stream",
     "text": [
      "Sampling overhead: 9.0\n"
     ]
    }
   ],
   "source": [
    "print(f\"Sampling overhead: {np.prod([basis.overhead for basis in bases])}\")"
   ]
  },
  {
   "cell_type": "markdown",
   "id": "2df0c32d-bfd9-407f-b867-d08632f53764",
   "metadata": {},
   "source": [
    "### Sub Experiments"
   ]
  },
  {
   "cell_type": "code",
   "execution_count": 21,
   "id": "a3327e421fea3182",
   "metadata": {
    "ExecuteTime": {
     "end_time": "2024-02-15T03:35:05.890185Z",
     "start_time": "2024-02-15T03:35:05.693811Z"
    },
    "collapsed": false,
    "jupyter": {
     "outputs_hidden": false
    },
    "tags": []
   },
   "outputs": [],
   "source": [
    "from circuit_knitting.cutting import generate_cutting_experiments\n",
    "\n",
    "subexperiments, coefficients = generate_cutting_experiments(\n",
    "    circuits=sub_circuits, observables=sub_observables, num_samples=np.inf\n",
    ")"
   ]
  },
  {
   "cell_type": "code",
   "execution_count": 22,
   "id": "560e4327-900d-4758-b747-7ae311fe2902",
   "metadata": {
    "tags": []
   },
   "outputs": [
    {
     "data": {
      "text/plain": [
       "6"
      ]
     },
     "execution_count": 22,
     "metadata": {},
     "output_type": "execute_result"
    }
   ],
   "source": [
    "# subexperiments\n",
    "len(subexperiments[\"A\"])"
   ]
  },
  {
   "cell_type": "code",
   "execution_count": 23,
   "id": "5cb2b2aa32d6d16b",
   "metadata": {
    "ExecuteTime": {
     "end_time": "2024-02-15T03:35:14.153045Z",
     "start_time": "2024-02-15T03:35:14.062981Z"
    },
    "collapsed": false,
    "jupyter": {
     "outputs_hidden": false
    },
    "tags": []
   },
   "outputs": [
    {
     "data": {
      "image/png": "[encoded data removed]",
      "text/plain": [
       "<Figure size 1060.9x451.5 with 1 Axes>"
      ]
     },
     "execution_count": 23,
     "metadata": {},
     "output_type": "execute_result"
    }
   ],
   "source": [
    "subexperiments[\"A\"][0].draw(\"mpl\", style=\"iqp\")"
   ]
  },
  {
   "cell_type": "code",
   "execution_count": 24,
   "id": "8a0e854a-f742-4b19-8367-8155a54ab2b5",
   "metadata": {
    "tags": []
   },
   "outputs": [
    {
     "data": {
      "image/png": "[encoded data removed]",
      "text/plain": [
       "<Figure size 1311.74x451.5 with 1 Axes>"
      ]
     },
     "execution_count": 24,
     "metadata": {},
     "output_type": "execute_result"
    }
   ],
   "source": [
    "subexperiments[\"B\"][3].draw(\"mpl\", style=\"iqp\")"
   ]
  },
  {
   "cell_type": "markdown",
   "id": "8cce6334-c721-40fc-b46e-f720eae969c0",
   "metadata": {},
   "source": [
    "## Neural Network Training"
   ]
  },
  {
   "cell_type": "code",
   "execution_count": 25,
   "id": "2504dedb-a5f4-4d4e-b75d-1b0bed7615e4",
   "metadata": {
    "tags": []
   },
   "outputs": [],
   "source": [
    "from qiskit_machine_learning.neural_networks import SamplerQNN, NeuralNetwork\n",
    "from qiskit_aer.primitives import Sampler\n",
    "from typing import Callable"
   ]
  },
  {
   "cell_type": "code",
   "execution_count": 26,
   "id": "4ca6e83e-5a98-4f06-9089-c20523852013",
   "metadata": {
    "tags": []
   },
   "outputs": [],
   "source": [
    "# sampler = Sampler(backend_options={\"simulator\": local_sim}, transpile_options={\"optimization_level\": 3})\n",
    "sampler = Sampler(backend_options={\"simulator\": online_sim})"
   ]
  },
  {
   "cell_type": "markdown",
   "id": "b7c252b4-15d2-44e7-a577-329c684c5c78",
   "metadata": {},
   "source": [
    "### Sampler"
   ]
  },
  {
   "cell_type": "code",
   "execution_count": 27,
   "id": "0e55d30c-e279-4f58-bfe6-e9a6d9c7d446",
   "metadata": {
    "tags": []
   },
   "outputs": [],
   "source": [
    "from primitives.custom_sampler_qnn import CustomSampler"
   ]
  },
  {
   "cell_type": "markdown",
   "id": "5926c303-49fe-4052-b910-9e0763014904",
   "metadata": {},
   "source": [
    "#### For subexperiments[\"A\"]"
   ]
  },
  {
   "cell_type": "code",
   "execution_count": 28,
   "id": "5aefce4e-f3fb-4694-91a3-a5161d74aee1",
   "metadata": {
    "tags": []
   },
   "outputs": [],
   "source": [
    "final_circuits = [embedding.compose(subex_circuit, inplace=False) for subex_circuit in subexperiments[\"A\"]]\n",
    "# final_circuits[0].draw(\"mpl\")"
   ]
  },
  {
   "cell_type": "code",
   "execution_count": 29,
   "id": "8853b9e4-a866-43f5-a908-e1f0d968c765",
   "metadata": {
    "tags": []
   },
   "outputs": [],
   "source": [
    "sampler_qcnn = CustomSampler(\n",
    "    circuits=final_circuits, \n",
    "    sampler=sampler,\n",
    "    input_params=feature_params.params,\n",
    "    weight_params=sub_circuits[\"A\"].parameters,\n",
    "    input_gradients=False,\n",
    ")"
   ]
  },
  {
   "cell_type": "code",
   "execution_count": 30,
   "id": "f60076a5-2776-4eb9-b316-5e0b71ace948",
   "metadata": {
    "tags": []
   },
   "outputs": [
    {
     "name": "stdout",
     "output_type": "stream",
     "text": [
      "Running Time for Forward Pass: %s seconds 6.814657211303711\n"
     ]
    }
   ],
   "source": [
    "weights_A = algorithm_globals.random.random(7)\n",
    "forward_output = sampler_qcnn.forward(\n",
    "    input_data=x_train_A,\n",
    "    weights=weights_A,\n",
    ")"
   ]
  },
  {
   "cell_type": "code",
   "execution_count": 31,
   "id": "f534f8b7-9104-4101-9646-8e0760fea432",
   "metadata": {},
   "outputs": [
    {
     "name": "stdout",
     "output_type": "stream",
     "text": [
      "Output shape for 537 samples: (537, 16)\n",
      "537\n",
      "Output of the forward pass for first sample: \n",
      "[[0.3046875  0.6953125  0.         0.         0.         0.\n",
      "  0.         0.         0.         0.         0.         0.\n",
      "  0.         0.         0.         0.        ]\n",
      " [0.31054688 0.68945312 0.         0.         0.         0.\n",
      "  0.         0.         0.         0.         0.         0.\n",
      "  0.         0.         0.         0.        ]\n",
      " [0.10351562 0.06835938 0.20117188 0.62695312 0.         0.\n",
      "  0.         0.         0.         0.         0.         0.\n",
      "  0.         0.         0.         0.        ]\n",
      " [0.10351562 0.06738281 0.20605469 0.62304688 0.         0.\n",
      "  0.         0.         0.         0.         0.         0.\n",
      "  0.         0.         0.         0.        ]\n",
      " [0.29785156 0.70214844 0.         0.         0.         0.\n",
      "  0.         0.         0.         0.         0.         0.\n",
      "  0.         0.         0.         0.        ]\n",
      " [0.328125   0.671875   0.         0.         0.         0.\n",
      "  0.         0.         0.         0.         0.         0.\n",
      "  0.         0.         0.         0.        ]]\n"
     ]
    }
   ],
   "source": [
    "# forward output is a dictionary of 6 subex_circ items.\n",
    "print(f\"Output shape for {len(x_train_A)} samples: {forward_output[0].shape}\")\n",
    "print(len(forward_output[0]))\n",
    "print(f\"Output of the forward pass for first sample: \\n{np.array([forward_output[i][0] for i in range(6)])}\")"
   ]
  },
  {
   "cell_type": "code",
   "execution_count": 32,
   "id": "d59acee2-9e90-4105-92bd-ee4801a2db86",
   "metadata": {},
   "outputs": [
    {
     "name": "stdout",
     "output_type": "stream",
     "text": [
      "Running Time for Backward Pass: %s seconds 153.4615454673767\n"
     ]
    }
   ],
   "source": [
    "input_grad, weights_grad = sampler_qcnn.backward(\n",
    "    input_data=x_train_A,\n",
    "    weights=weights_A\n",
    ")"
   ]
  },
  {
   "cell_type": "code",
   "execution_count": 33,
   "id": "9b081ccf-6d7b-4d8b-bece-61518575b4cc",
   "metadata": {},
   "outputs": [
    {
     "name": "stdout",
     "output_type": "stream",
     "text": [
      "Output shape for 537 samples: (537, 16, 7)\n",
      "Output of the backward pass for first sample for first subexperiment circuit: \n",
      "[[[ 0.953125    0.          0.          0.          0.\n",
      "    0.          0.        ]\n",
      "  [-0.953125    0.          0.          0.          0.\n",
      "    0.          0.        ]\n",
      "  [ 0.          0.          0.          0.          0.\n",
      "    0.          0.        ]\n",
      "  [ 0.          0.          0.          0.          0.\n",
      "    0.          0.        ]\n",
      "  [ 0.          0.          0.          0.          0.\n",
      "    0.          0.        ]\n",
      "  [ 0.          0.          0.          0.          0.\n",
      "    0.          0.        ]\n",
      "  [ 0.          0.          0.          0.          0.\n",
      "    0.          0.        ]\n",
      "  [ 0.          0.          0.          0.          0.\n",
      "    0.          0.        ]\n",
      "  [ 0.          0.          0.          0.          0.\n",
      "    0.          0.        ]\n",
      "  [ 0.          0.          0.          0.          0.\n",
      "    0.          0.        ]\n",
      "  [ 0.          0.          0.          0.          0.\n",
      "    0.          0.        ]\n",
      "  [ 0.          0.          0.          0.          0.\n",
      "    0.          0.        ]\n",
      "  [ 0.          0.          0.          0.          0.\n",
      "    0.          0.        ]\n",
      "  [ 0.          0.          0.          0.          0.\n",
      "    0.          0.        ]\n",
      "  [ 0.          0.          0.          0.          0.\n",
      "    0.          0.        ]\n",
      "  [ 0.          0.          0.          0.          0.\n",
      "    0.          0.        ]]\n",
      "\n",
      " [[ 0.92919922  0.          0.          0.          0.\n",
      "    0.          0.        ]\n",
      "  [-0.92919922  0.          0.          0.          0.\n",
      "    0.          0.        ]\n",
      "  [ 0.          0.          0.          0.          0.\n",
      "    0.          0.        ]\n",
      "  [ 0.          0.          0.          0.          0.\n",
      "    0.          0.        ]\n",
      "  [ 0.          0.          0.          0.          0.\n",
      "    0.          0.        ]\n",
      "  [ 0.          0.          0.          0.          0.\n",
      "    0.          0.        ]\n",
      "  [ 0.          0.          0.          0.          0.\n",
      "    0.          0.        ]\n",
      "  [ 0.          0.          0.          0.          0.\n",
      "    0.          0.        ]\n",
      "  [ 0.          0.          0.          0.          0.\n",
      "    0.          0.        ]\n",
      "  [ 0.          0.          0.          0.          0.\n",
      "    0.          0.        ]\n",
      "  [ 0.          0.          0.          0.          0.\n",
      "    0.          0.        ]\n",
      "  [ 0.          0.          0.          0.          0.\n",
      "    0.          0.        ]\n",
      "  [ 0.          0.          0.          0.          0.\n",
      "    0.          0.        ]\n",
      "  [ 0.          0.          0.          0.          0.\n",
      "    0.          0.        ]\n",
      "  [ 0.          0.          0.          0.          0.\n",
      "    0.          0.        ]\n",
      "  [ 0.          0.          0.          0.          0.\n",
      "    0.          0.        ]]\n",
      "\n",
      " [[-0.25        0.          0.          0.          0.\n",
      "    0.          0.        ]\n",
      "  [ 0.01953125  0.          0.          0.          0.\n",
      "    0.          0.        ]\n",
      "  [ 1.19677734  0.          0.          0.          0.\n",
      "    0.          0.        ]\n",
      "  [-0.96630859  0.          0.          0.          0.\n",
      "    0.          0.        ]\n",
      "  [ 0.          0.          0.          0.          0.\n",
      "    0.          0.        ]\n",
      "  [ 0.          0.          0.          0.          0.\n",
      "    0.          0.        ]\n",
      "  [ 0.          0.          0.          0.          0.\n",
      "    0.          0.        ]\n",
      "  [ 0.          0.          0.          0.          0.\n",
      "    0.          0.        ]\n",
      "  [ 0.          0.          0.          0.          0.\n",
      "    0.          0.        ]\n",
      "  [ 0.          0.          0.          0.          0.\n",
      "    0.          0.        ]\n",
      "  [ 0.          0.          0.          0.          0.\n",
      "    0.          0.        ]\n",
      "  [ 0.          0.          0.          0.          0.\n",
      "    0.          0.        ]\n",
      "  [ 0.          0.          0.          0.          0.\n",
      "    0.          0.        ]\n",
      "  [ 0.          0.          0.          0.          0.\n",
      "    0.          0.        ]\n",
      "  [ 0.          0.          0.          0.          0.\n",
      "    0.          0.        ]\n",
      "  [ 0.          0.          0.          0.          0.\n",
      "    0.          0.        ]]\n",
      "\n",
      " [[-0.26953125  0.          0.          0.          0.\n",
      "    0.          0.        ]\n",
      "  [ 0.05664062  0.          0.          0.          0.\n",
      "    0.          0.        ]\n",
      "  [ 1.18505859  0.          0.          0.          0.\n",
      "    0.          0.        ]\n",
      "  [-0.97216797  0.          0.          0.          0.\n",
      "    0.          0.        ]\n",
      "  [ 0.          0.          0.          0.          0.\n",
      "    0.          0.        ]\n",
      "  [ 0.          0.          0.          0.          0.\n",
      "    0.          0.        ]\n",
      "  [ 0.          0.          0.          0.          0.\n",
      "    0.          0.        ]\n",
      "  [ 0.          0.          0.          0.          0.\n",
      "    0.          0.        ]\n",
      "  [ 0.          0.          0.          0.          0.\n",
      "    0.          0.        ]\n",
      "  [ 0.          0.          0.          0.          0.\n",
      "    0.          0.        ]\n",
      "  [ 0.          0.          0.          0.          0.\n",
      "    0.          0.        ]\n",
      "  [ 0.          0.          0.          0.          0.\n",
      "    0.          0.        ]\n",
      "  [ 0.          0.          0.          0.          0.\n",
      "    0.          0.        ]\n",
      "  [ 0.          0.          0.          0.          0.\n",
      "    0.          0.        ]\n",
      "  [ 0.          0.          0.          0.          0.\n",
      "    0.          0.        ]\n",
      "  [ 0.          0.          0.          0.          0.\n",
      "    0.          0.        ]]\n",
      "\n",
      " [[ 0.87353516  0.          0.          0.          0.\n",
      "    0.          0.        ]\n",
      "  [-0.87353516  0.          0.          0.          0.\n",
      "    0.          0.        ]\n",
      "  [ 0.          0.          0.          0.          0.\n",
      "    0.          0.        ]\n",
      "  [ 0.          0.          0.          0.          0.\n",
      "    0.          0.        ]\n",
      "  [ 0.          0.          0.          0.          0.\n",
      "    0.          0.        ]\n",
      "  [ 0.          0.          0.          0.          0.\n",
      "    0.          0.        ]\n",
      "  [ 0.          0.          0.          0.          0.\n",
      "    0.          0.        ]\n",
      "  [ 0.          0.          0.          0.          0.\n",
      "    0.          0.        ]\n",
      "  [ 0.          0.          0.          0.          0.\n",
      "    0.          0.        ]\n",
      "  [ 0.          0.          0.          0.          0.\n",
      "    0.          0.        ]\n",
      "  [ 0.          0.          0.          0.          0.\n",
      "    0.          0.        ]\n",
      "  [ 0.          0.          0.          0.          0.\n",
      "    0.          0.        ]\n",
      "  [ 0.          0.          0.          0.          0.\n",
      "    0.          0.        ]\n",
      "  [ 0.          0.          0.          0.          0.\n",
      "    0.          0.        ]\n",
      "  [ 0.          0.          0.          0.          0.\n",
      "    0.          0.        ]\n",
      "  [ 0.          0.          0.          0.          0.\n",
      "    0.          0.        ]]\n",
      "\n",
      " [[ 0.89453125  0.          0.          0.          0.\n",
      "    0.          0.        ]\n",
      "  [-0.89453125  0.          0.          0.          0.\n",
      "    0.          0.        ]\n",
      "  [ 0.          0.          0.          0.          0.\n",
      "    0.          0.        ]\n",
      "  [ 0.          0.          0.          0.          0.\n",
      "    0.          0.        ]\n",
      "  [ 0.          0.          0.          0.          0.\n",
      "    0.          0.        ]\n",
      "  [ 0.          0.          0.          0.          0.\n",
      "    0.          0.        ]\n",
      "  [ 0.          0.          0.          0.          0.\n",
      "    0.          0.        ]\n",
      "  [ 0.          0.          0.          0.          0.\n",
      "    0.          0.        ]\n",
      "  [ 0.          0.          0.          0.          0.\n",
      "    0.          0.        ]\n",
      "  [ 0.          0.          0.          0.          0.\n",
      "    0.          0.        ]\n",
      "  [ 0.          0.          0.          0.          0.\n",
      "    0.          0.        ]\n",
      "  [ 0.          0.          0.          0.          0.\n",
      "    0.          0.        ]\n",
      "  [ 0.          0.          0.          0.          0.\n",
      "    0.          0.        ]\n",
      "  [ 0.          0.          0.          0.          0.\n",
      "    0.          0.        ]\n",
      "  [ 0.          0.          0.          0.          0.\n",
      "    0.          0.        ]\n",
      "  [ 0.          0.          0.          0.          0.\n",
      "    0.          0.        ]]]\n"
     ]
    }
   ],
   "source": [
    "print(f\"Output shape for {len(x_train_A)} samples: {weights_grad[0].shape}\")\n",
    "print(f\"Output of the backward pass for first sample for first subexperiment circuit: \\n{np.array([weights_grad[i][0] for i in range(6)])}\")"
   ]
  },
  {
   "cell_type": "markdown",
   "id": "bf7a3765-0f3f-434b-bbad-adb88c863fc7",
   "metadata": {},
   "source": [
    "#### For subexperiments[\"B\"]"
   ]
  },
  {
   "cell_type": "code",
   "execution_count": 34,
   "id": "476fd0f1-1156-4a1a-96a8-17a2c1812c49",
   "metadata": {
    "tags": []
   },
   "outputs": [],
   "source": [
    "final_circuits2 = [embedding.compose(subex_circuit, inplace=False) for subex_circuit in subexperiments[\"B\"]]"
   ]
  },
  {
   "cell_type": "code",
   "execution_count": 35,
   "id": "c4cb1766-d548-4c35-b0c5-c612372e0d7c",
   "metadata": {
    "tags": []
   },
   "outputs": [],
   "source": [
    "sampler_qcnn2 = CustomSampler(\n",
    "    circuits=final_circuits2, \n",
    "    sampler=sampler,\n",
    "    input_params=feature_params.params,\n",
    "    weight_params=sub_circuits[\"B\"].parameters,\n",
    ")"
   ]
  },
  {
   "cell_type": "code",
   "execution_count": 36,
   "id": "35b3ceb5-5e16-4f30-b89d-56a5651c7f1c",
   "metadata": {},
   "outputs": [
    {
     "name": "stdout",
     "output_type": "stream",
     "text": [
      "Running Time for Forward Pass: %s seconds 24.65860366821289\n"
     ]
    }
   ],
   "source": [
    "weights_B = algorithm_globals.random.random(8)\n",
    "forward_output2 = sampler_qcnn2._forward(\n",
    "    input_data=x_train_B,\n",
    "    weights=weights_B,\n",
    ")"
   ]
  },
  {
   "cell_type": "code",
   "execution_count": 37,
   "id": "fc2aef81-e8c6-4b1b-a563-2dd41b3e27d4",
   "metadata": {},
   "outputs": [
    {
     "name": "stdout",
     "output_type": "stream",
     "text": [
      "Output shape for 537 samples: (537, 16)\n",
      "537\n",
      "Output of the forward pass for first sample: \n",
      "[[0.60839844 0.39160156 0.         0.         0.         0.\n",
      "  0.         0.         0.         0.         0.         0.\n",
      "  0.         0.         0.         0.        ]\n",
      " [0.6015625  0.3984375  0.         0.         0.         0.\n",
      "  0.         0.         0.         0.         0.         0.\n",
      "  0.         0.         0.         0.        ]\n",
      " [0.84667969 0.15332031 0.         0.         0.         0.\n",
      "  0.         0.         0.         0.         0.         0.\n",
      "  0.         0.         0.         0.        ]\n",
      " [0.33691406 0.66308594 0.         0.         0.         0.\n",
      "  0.         0.         0.         0.         0.         0.\n",
      "  0.         0.         0.         0.        ]\n",
      " [0.05859375 0.08300781 0.53027344 0.328125   0.         0.\n",
      "  0.         0.         0.         0.         0.         0.\n",
      "  0.         0.         0.         0.        ]\n",
      " [0.05273438 0.08691406 0.5390625  0.32128906 0.         0.\n",
      "  0.         0.         0.         0.         0.         0.\n",
      "  0.         0.         0.         0.        ]]\n"
     ]
    }
   ],
   "source": [
    "print(f\"Output shape for {len(x_train_A)} samples: {forward_output2[0].shape}\")\n",
    "print(len(forward_output2[0]))\n",
    "print(f\"Output of the forward pass for first sample: \\n{np.array([forward_output2[i][0] for i in range(6)])}\")"
   ]
  },
  {
   "cell_type": "code",
   "execution_count": 38,
   "id": "734f3787-0de1-44f5-8c66-c7f1425d9f11",
   "metadata": {},
   "outputs": [
    {
     "name": "stdout",
     "output_type": "stream",
     "text": [
      "Running Time for Backward Pass: %s seconds 587.3339047431946\n"
     ]
    }
   ],
   "source": [
    "input_grad2, weights_grad2 = sampler_qcnn2._backward(\n",
    "    input_data=x_train_B,\n",
    "    weights=weights_B\n",
    ")"
   ]
  },
  {
   "cell_type": "code",
   "execution_count": 39,
   "id": "e91322c9-7a6e-4b7c-8c5d-b298dba19b07",
   "metadata": {},
   "outputs": [
    {
     "name": "stdout",
     "output_type": "stream",
     "text": [
      "Output shape for 537 samples: (537, 16, 8)\n",
      "Output of the backward pass for first sample for first subexperiment circuit: \n",
      "[[[ 0.26416016  0.          0.          0.          0.\n",
      "    0.          0.          0.        ]\n",
      "  [-0.26416016  0.          0.          0.          0.\n",
      "    0.          0.          0.        ]\n",
      "  [ 0.          0.          0.          0.          0.\n",
      "    0.          0.          0.        ]\n",
      "  [ 0.          0.          0.          0.          0.\n",
      "    0.          0.          0.        ]\n",
      "  [ 0.          0.          0.          0.          0.\n",
      "    0.          0.          0.        ]\n",
      "  [ 0.          0.          0.          0.          0.\n",
      "    0.          0.          0.        ]\n",
      "  [ 0.          0.          0.          0.          0.\n",
      "    0.          0.          0.        ]\n",
      "  [ 0.          0.          0.          0.          0.\n",
      "    0.          0.          0.        ]\n",
      "  [ 0.          0.          0.          0.          0.\n",
      "    0.          0.          0.        ]\n",
      "  [ 0.          0.          0.          0.          0.\n",
      "    0.          0.          0.        ]\n",
      "  [ 0.          0.          0.          0.          0.\n",
      "    0.          0.          0.        ]\n",
      "  [ 0.          0.          0.          0.          0.\n",
      "    0.          0.          0.        ]\n",
      "  [ 0.          0.          0.          0.          0.\n",
      "    0.          0.          0.        ]\n",
      "  [ 0.          0.          0.          0.          0.\n",
      "    0.          0.          0.        ]\n",
      "  [ 0.          0.          0.          0.          0.\n",
      "    0.          0.          0.        ]\n",
      "  [ 0.          0.          0.          0.          0.\n",
      "    0.          0.          0.        ]]\n",
      "\n",
      " [[ 0.29003906  0.          0.          0.          0.\n",
      "    0.          0.          0.        ]\n",
      "  [-0.29003906  0.          0.          0.          0.\n",
      "    0.          0.          0.        ]\n",
      "  [ 0.          0.          0.          0.          0.\n",
      "    0.          0.          0.        ]\n",
      "  [ 0.          0.          0.          0.          0.\n",
      "    0.          0.          0.        ]\n",
      "  [ 0.          0.          0.          0.          0.\n",
      "    0.          0.          0.        ]\n",
      "  [ 0.          0.          0.          0.          0.\n",
      "    0.          0.          0.        ]\n",
      "  [ 0.          0.          0.          0.          0.\n",
      "    0.          0.          0.        ]\n",
      "  [ 0.          0.          0.          0.          0.\n",
      "    0.          0.          0.        ]\n",
      "  [ 0.          0.          0.          0.          0.\n",
      "    0.          0.          0.        ]\n",
      "  [ 0.          0.          0.          0.          0.\n",
      "    0.          0.          0.        ]\n",
      "  [ 0.          0.          0.          0.          0.\n",
      "    0.          0.          0.        ]\n",
      "  [ 0.          0.          0.          0.          0.\n",
      "    0.          0.          0.        ]\n",
      "  [ 0.          0.          0.          0.          0.\n",
      "    0.          0.          0.        ]\n",
      "  [ 0.          0.          0.          0.          0.\n",
      "    0.          0.          0.        ]\n",
      "  [ 0.          0.          0.          0.          0.\n",
      "    0.          0.          0.        ]\n",
      "  [ 0.          0.          0.          0.          0.\n",
      "    0.          0.          0.        ]]\n",
      "\n",
      " [[ 0.36083984  0.          0.          0.          0.\n",
      "    0.          0.          0.        ]\n",
      "  [-0.36083984  0.          0.          0.          0.\n",
      "    0.          0.          0.        ]\n",
      "  [ 0.          0.          0.          0.          0.\n",
      "    0.          0.          0.        ]\n",
      "  [ 0.          0.          0.          0.          0.\n",
      "    0.          0.          0.        ]\n",
      "  [ 0.          0.          0.          0.          0.\n",
      "    0.          0.          0.        ]\n",
      "  [ 0.          0.          0.          0.          0.\n",
      "    0.          0.          0.        ]\n",
      "  [ 0.          0.          0.          0.          0.\n",
      "    0.          0.          0.        ]\n",
      "  [ 0.          0.          0.          0.          0.\n",
      "    0.          0.          0.        ]\n",
      "  [ 0.          0.          0.          0.          0.\n",
      "    0.          0.          0.        ]\n",
      "  [ 0.          0.          0.          0.          0.\n",
      "    0.          0.          0.        ]\n",
      "  [ 0.          0.          0.          0.          0.\n",
      "    0.          0.          0.        ]\n",
      "  [ 0.          0.          0.          0.          0.\n",
      "    0.          0.          0.        ]\n",
      "  [ 0.          0.          0.          0.          0.\n",
      "    0.          0.          0.        ]\n",
      "  [ 0.          0.          0.          0.          0.\n",
      "    0.          0.          0.        ]\n",
      "  [ 0.          0.          0.          0.          0.\n",
      "    0.          0.          0.        ]\n",
      "  [ 0.          0.          0.          0.          0.\n",
      "    0.          0.          0.        ]]\n",
      "\n",
      " [[-0.03466797  0.          0.          0.          0.\n",
      "    0.          0.          0.        ]\n",
      "  [ 0.03466797  0.          0.          0.          0.\n",
      "    0.          0.          0.        ]\n",
      "  [ 0.          0.          0.          0.          0.\n",
      "    0.          0.          0.        ]\n",
      "  [ 0.          0.          0.          0.          0.\n",
      "    0.          0.          0.        ]\n",
      "  [ 0.          0.          0.          0.          0.\n",
      "    0.          0.          0.        ]\n",
      "  [ 0.          0.          0.          0.          0.\n",
      "    0.          0.          0.        ]\n",
      "  [ 0.          0.          0.          0.          0.\n",
      "    0.          0.          0.        ]\n",
      "  [ 0.          0.          0.          0.          0.\n",
      "    0.          0.          0.        ]\n",
      "  [ 0.          0.          0.          0.          0.\n",
      "    0.          0.          0.        ]\n",
      "  [ 0.          0.          0.          0.          0.\n",
      "    0.          0.          0.        ]\n",
      "  [ 0.          0.          0.          0.          0.\n",
      "    0.          0.          0.        ]\n",
      "  [ 0.          0.          0.          0.          0.\n",
      "    0.          0.          0.        ]\n",
      "  [ 0.          0.          0.          0.          0.\n",
      "    0.          0.          0.        ]\n",
      "  [ 0.          0.          0.          0.          0.\n",
      "    0.          0.          0.        ]\n",
      "  [ 0.          0.          0.          0.          0.\n",
      "    0.          0.          0.        ]\n",
      "  [ 0.          0.          0.          0.          0.\n",
      "    0.          0.          0.        ]]\n",
      "\n",
      " [[ 0.05712891  0.          0.          0.          0.\n",
      "    0.          0.          0.        ]\n",
      "  [ 0.13378906  0.          0.          0.          0.\n",
      "    0.          0.          0.        ]\n",
      "  [ 0.35644531  0.          0.          0.          0.\n",
      "    0.          0.          0.        ]\n",
      "  [-0.54736328  0.          0.          0.          0.\n",
      "    0.          0.          0.        ]\n",
      "  [ 0.          0.          0.          0.          0.\n",
      "    0.          0.          0.        ]\n",
      "  [ 0.          0.          0.          0.          0.\n",
      "    0.          0.          0.        ]\n",
      "  [ 0.          0.          0.          0.          0.\n",
      "    0.          0.          0.        ]\n",
      "  [ 0.          0.          0.          0.          0.\n",
      "    0.          0.          0.        ]\n",
      "  [ 0.          0.          0.          0.          0.\n",
      "    0.          0.          0.        ]\n",
      "  [ 0.          0.          0.          0.          0.\n",
      "    0.          0.          0.        ]\n",
      "  [ 0.          0.          0.          0.          0.\n",
      "    0.          0.          0.        ]\n",
      "  [ 0.          0.          0.          0.          0.\n",
      "    0.          0.          0.        ]\n",
      "  [ 0.          0.          0.          0.          0.\n",
      "    0.          0.          0.        ]\n",
      "  [ 0.          0.          0.          0.          0.\n",
      "    0.          0.          0.        ]\n",
      "  [ 0.          0.          0.          0.          0.\n",
      "    0.          0.          0.        ]\n",
      "  [ 0.          0.          0.          0.          0.\n",
      "    0.          0.          0.        ]]\n",
      "\n",
      " [[ 0.02880859  0.          0.          0.          0.\n",
      "    0.          0.          0.        ]\n",
      "  [ 0.12109375  0.          0.          0.          0.\n",
      "    0.          0.          0.        ]\n",
      "  [ 0.32519531  0.          0.          0.          0.\n",
      "    0.          0.          0.        ]\n",
      "  [-0.47509766  0.          0.          0.          0.\n",
      "    0.          0.          0.        ]\n",
      "  [ 0.          0.          0.          0.          0.\n",
      "    0.          0.          0.        ]\n",
      "  [ 0.          0.          0.          0.          0.\n",
      "    0.          0.          0.        ]\n",
      "  [ 0.          0.          0.          0.          0.\n",
      "    0.          0.          0.        ]\n",
      "  [ 0.          0.          0.          0.          0.\n",
      "    0.          0.          0.        ]\n",
      "  [ 0.          0.          0.          0.          0.\n",
      "    0.          0.          0.        ]\n",
      "  [ 0.          0.          0.          0.          0.\n",
      "    0.          0.          0.        ]\n",
      "  [ 0.          0.          0.          0.          0.\n",
      "    0.          0.          0.        ]\n",
      "  [ 0.          0.          0.          0.          0.\n",
      "    0.          0.          0.        ]\n",
      "  [ 0.          0.          0.          0.          0.\n",
      "    0.          0.          0.        ]\n",
      "  [ 0.          0.          0.          0.          0.\n",
      "    0.          0.          0.        ]\n",
      "  [ 0.          0.          0.          0.          0.\n",
      "    0.          0.          0.        ]\n",
      "  [ 0.          0.          0.          0.          0.\n",
      "    0.          0.          0.        ]]]\n"
     ]
    }
   ],
   "source": [
    "print(f\"Output shape for {len(x_train_B)} samples: {weights_grad2[0].shape}\")\n",
    "print(f\"Output of the backward pass for first sample for first subexperiment circuit: \\n{np.array([weights_grad2[i][0] for i in range(6)])}\")"
   ]
  },
  {
   "cell_type": "markdown",
   "id": "49fdb89d-3094-44a5-8aae-078836e29602",
   "metadata": {},
   "source": [
    "## Loss and Optimization"
   ]
  },
  {
   "cell_type": "code",
   "execution_count": 40,
   "id": "73d6684f-d62d-452e-a503-5676541f9a4d",
   "metadata": {
    "tags": []
   },
   "outputs": [],
   "source": [
    "from qiskit_machine_learning.utils.loss_functions import L2Loss\n",
    "from qiskit_algorithms.optimizers import COBYLA, SPSA, GradientDescent\n",
    "from loss_optimization.objective_func import CustomMultiClassObjectiveFunction\n",
    "from loss_optimization.custom_cross_entropy_loss import CustomCrossEntropyLoss\n",
    "# from loss_optimization.callback import callback\n",
    "from loss_optimization.optimization import create_objective, minimizer, print_optimizer_results"
   ]
  },
  {
   "cell_type": "code",
   "execution_count": 41,
   "id": "a795c0c0-88f0-44f3-9de9-dc333d2d6466",
   "metadata": {
    "tags": []
   },
   "outputs": [],
   "source": [
    "def callback_spsa(nfev=None, params=None, fval=None, stepsize=None, accepted=None):\n",
    "    \"\"\"\n",
    "    nfev: the number of function evals\n",
    "    params: the current parameters\n",
    "    fval: the current function value\n",
    "    stepsize: size of the update step\n",
    "    accepted: whether the step was accepted (not used for )\n",
    "    \"\"\"\n",
    "    # objective_func_vals = loss\n",
    "    global objective_func_vals\n",
    "\n",
    "    if (nfev % 3) == 0:\n",
    "        objective_func_vals.append(fval)\n",
    "        print(f\"SPSA Epoch {len(objective_func_vals)}: {fval:.5f}\")"
   ]
  },
  {
   "cell_type": "code",
   "execution_count": 42,
   "id": "00fcbea5-d74a-4227-aa21-ae9fe3892fea",
   "metadata": {
    "tags": []
   },
   "outputs": [],
   "source": [
    "objective_func_vals = []\n",
    "# loss = L2Loss()\n",
    "loss = CustomCrossEntropyLoss()\n",
    "# optimizer = COBYLA(maxiter=10)\n",
    "optimizer = SPSA(maxiter=5, callback=callback_spsa)\n",
    "# optimizer = GradientDescent(maxiter=2) # This doesn't work yet. The gradient shape doesn't match."
   ]
  },
  {
   "cell_type": "markdown",
   "id": "dba6ba3e-791d-4f6a-92d8-116d7e03d4d6",
   "metadata": {},
   "source": [
    "#### Optimizer Result for sub-circuits[\"A\"]"
   ]
  },
  {
   "cell_type": "code",
   "execution_count": 43,
   "id": "bc3ab8f7-1902-4c28-bcd3-13035cd4c0d5",
   "metadata": {
    "tags": []
   },
   "outputs": [],
   "source": [
    "initial_point = np.random.random((7,))\n",
    "function = CustomMultiClassObjectiveFunction(x_train_A, new_y_train, sampler_qcnn, loss)"
   ]
  },
  {
   "cell_type": "code",
   "execution_count": null,
   "id": "8269a9e8-beae-4ee3-b9da-2f727af3b1f4",
   "metadata": {
    "tags": []
   },
   "outputs": [
    {
     "name": "stdout",
     "output_type": "stream",
     "text": [
      "Running Time for Forward Pass: %s seconds 6.043295860290527\n",
      "Running Time for Forward Pass: %s seconds 6.067039728164673\n",
      "Running Time for Forward Pass: %s seconds 6.251935243606567\n",
      "Running Time for Forward Pass: %s seconds 6.2559568881988525\n",
      "Running Time for Forward Pass: %s seconds 6.011391639709473\n",
      "Running Time for Forward Pass: %s seconds 6.581056356430054\n",
      "Running Time for Forward Pass: %s seconds 6.392679214477539\n",
      "Running Time for Forward Pass: %s seconds 5.90235161781311\n",
      "Running Time for Forward Pass: %s seconds 6.566442251205444\n",
      "Running Time for Forward Pass: %s seconds 5.9861900806427\n",
      "Running Time for Forward Pass: %s seconds 6.266240835189819\n",
      "Running Time for Forward Pass: %s seconds 5.807137489318848\n",
      "Running Time for Forward Pass: %s seconds 6.12001895904541\n",
      "Running Time for Forward Pass: %s seconds 6.598379135131836\n",
      "Running Time for Forward Pass: %s seconds 6.1858179569244385\n",
      "Running Time for Forward Pass: %s seconds 6.664969205856323\n",
      "Running Time for Forward Pass: %s seconds 7.651705980300903\n",
      "Running Time for Forward Pass: %s seconds 6.737748146057129\n",
      "Running Time for Forward Pass: %s seconds 6.206405878067017\n",
      "Running Time for Forward Pass: %s seconds 6.892968416213989\n",
      "Running Time for Forward Pass: %s seconds 5.64066481590271\n",
      "Running Time for Forward Pass: %s seconds 5.9300878047943115\n",
      "Running Time for Forward Pass: %s seconds 6.441159009933472\n",
      "Running Time for Forward Pass: %s seconds 6.206338405609131\n",
      "Running Time for Forward Pass: %s seconds 7.160090684890747\n",
      "Running Time for Forward Pass: %s seconds 6.262035608291626\n",
      "Running Time for Forward Pass: %s seconds 6.392176628112793\n",
      "Running Time for Forward Pass: %s seconds 6.178062200546265\n",
      "Running Time for Forward Pass: %s seconds 6.465284824371338\n",
      "Running Time for Forward Pass: %s seconds 6.352230072021484\n",
      "Running Time for Forward Pass: %s seconds 6.522807359695435\n",
      "Running Time for Forward Pass: %s seconds 6.503458261489868\n",
      "Running Time for Forward Pass: %s seconds 6.223819732666016\n",
      "Running Time for Forward Pass: %s seconds 7.015453577041626\n",
      "Running Time for Forward Pass: %s seconds 6.2307679653167725\n",
      "Running Time for Forward Pass: %s seconds 6.302886724472046\n",
      "Running Time for Forward Pass: %s seconds 6.650176525115967\n",
      "Running Time for Forward Pass: %s seconds 6.151211977005005\n",
      "Running Time for Forward Pass: %s seconds 6.738265752792358\n",
      "Running Time for Forward Pass: %s seconds 5.893779993057251\n",
      "Running Time for Forward Pass: %s seconds 6.145744562149048\n",
      "Running Time for Forward Pass: %s seconds 6.555668354034424\n",
      "Running Time for Forward Pass: %s seconds 6.288965940475464\n",
      "Running Time for Forward Pass: %s seconds 6.582944869995117\n",
      "Running Time for Forward Pass: %s seconds 7.745128870010376\n",
      "Running Time for Forward Pass: %s seconds 6.526332139968872\n",
      "Running Time for Forward Pass: %s seconds 6.3174967765808105\n",
      "Running Time for Forward Pass: %s seconds 6.640529155731201\n",
      "Running Time for Forward Pass: %s seconds 6.494515895843506\n",
      "Running Time for Forward Pass: %s seconds 6.447435617446899\n",
      "Running Time for Forward Pass: %s seconds 6.628211975097656\n",
      "Running Time for Forward Pass: %s seconds 6.226389169692993\n",
      "Running Time for Forward Pass: %s seconds 6.722661972045898\n",
      "SPSA Epoch 1: -6.82677\n",
      "Running Time for Forward Pass: %s seconds 6.36667275428772\n",
      "Running Time for Forward Pass: %s seconds 6.766683340072632\n",
      "Running Time for Forward Pass: %s seconds 6.361257076263428\n",
      "SPSA Epoch 2: -7.02339\n",
      "Running Time for Forward Pass: %s seconds 6.476662874221802\n",
      "Running Time for Forward Pass: %s seconds 6.777965545654297\n",
      "Running Time for Forward Pass: %s seconds 6.016891956329346\n",
      "SPSA Epoch 3: -7.08505\n",
      "Running Time for Forward Pass: %s seconds 6.251931667327881\n",
      "Running Time for Forward Pass: %s seconds 6.060129642486572\n",
      "Running Time for Forward Pass: %s seconds 6.691417694091797\n",
      "SPSA Epoch 4: -7.09596\n",
      "Running Time for Forward Pass: %s seconds 6.504234313964844\n",
      "Running Time for Forward Pass: %s seconds 6.637292385101318\n",
      "Running Time for Forward Pass: %s seconds 6.903577089309692\n",
      "SPSA Epoch 5: -7.10871\n",
      "{   'fun': -7.108707970295499,\n",
      "    'jac': None,\n",
      "    'nfev': 15,\n",
      "    'nit': 5,\n",
      "    'njev': None,\n",
      "    'x': array([ 1.92460819,  1.08123869,  0.68230983,  1.54001489, -0.04515279,\n",
      "        0.23760917,  0.78371237])}\n",
      "Running Time for optimizing Subex-A1: %s seconds 418.5108804702759\n",
      "Running Time for Forward Pass: %s seconds 6.102735996246338\n",
      "Running Time for Forward Pass: %s seconds 6.799691200256348\n",
      "Running Time for Forward Pass: %s seconds 6.265264511108398\n",
      "Running Time for Forward Pass: %s seconds 6.368427276611328\n",
      "Running Time for Forward Pass: %s seconds 6.664103031158447\n",
      "Running Time for Forward Pass: %s seconds 6.440171241760254\n",
      "Running Time for Forward Pass: %s seconds 7.695387125015259\n",
      "Running Time for Forward Pass: %s seconds 6.821424245834351\n",
      "Running Time for Forward Pass: %s seconds 6.188804388046265\n",
      "Running Time for Forward Pass: %s seconds 5.934671878814697\n",
      "Running Time for Forward Pass: %s seconds 6.451108932495117\n",
      "Running Time for Forward Pass: %s seconds 6.328646659851074\n",
      "Running Time for Forward Pass: %s seconds 6.3931474685668945\n",
      "Running Time for Forward Pass: %s seconds 6.420044898986816\n",
      "Running Time for Forward Pass: %s seconds 6.808675765991211\n",
      "Running Time for Forward Pass: %s seconds 6.411139726638794\n",
      "Running Time for Forward Pass: %s seconds 6.201876878738403\n",
      "Running Time for Forward Pass: %s seconds 5.831893682479858\n",
      "Running Time for Forward Pass: %s seconds 5.898198843002319\n",
      "Running Time for Forward Pass: %s seconds 6.646995782852173\n",
      "Running Time for Forward Pass: %s seconds 6.5275044441223145\n",
      "Running Time for Forward Pass: %s seconds 6.041381597518921\n",
      "Running Time for Forward Pass: %s seconds 6.51755428314209\n",
      "Running Time for Forward Pass: %s seconds 5.948457717895508\n",
      "Running Time for Forward Pass: %s seconds 6.633540630340576\n",
      "Running Time for Forward Pass: %s seconds 6.115115165710449\n",
      "Running Time for Forward Pass: %s seconds 6.341781377792358\n",
      "Running Time for Forward Pass: %s seconds 6.260136127471924\n",
      "Running Time for Forward Pass: %s seconds 6.806690692901611\n",
      "Running Time for Forward Pass: %s seconds 6.516268968582153\n",
      "Running Time for Forward Pass: %s seconds 6.231635332107544\n",
      "Running Time for Forward Pass: %s seconds 6.246490716934204\n",
      "Running Time for Forward Pass: %s seconds 6.327488422393799\n",
      "Running Time for Forward Pass: %s seconds 6.666594982147217\n",
      "Running Time for Forward Pass: %s seconds 7.639896392822266\n",
      "Running Time for Forward Pass: %s seconds 6.999732494354248\n",
      "Running Time for Forward Pass: %s seconds 6.5829081535339355\n",
      "Running Time for Forward Pass: %s seconds 6.117846488952637\n",
      "Running Time for Forward Pass: %s seconds 6.334343671798706\n",
      "Running Time for Forward Pass: %s seconds 6.416078090667725\n",
      "Running Time for Forward Pass: %s seconds 6.25104546546936\n",
      "Running Time for Forward Pass: %s seconds 6.5591816902160645\n",
      "Running Time for Forward Pass: %s seconds 6.841447830200195\n",
      "Running Time for Forward Pass: %s seconds 6.420848608016968\n",
      "Running Time for Forward Pass: %s seconds 5.860272169113159\n",
      "Running Time for Forward Pass: %s seconds 6.601141691207886\n",
      "Running Time for Forward Pass: %s seconds 6.21173357963562\n",
      "Running Time for Forward Pass: %s seconds 6.290448904037476\n",
      "Running Time for Forward Pass: %s seconds 6.230183362960815\n",
      "Running Time for Forward Pass: %s seconds 5.974573135375977\n",
      "Running Time for Forward Pass: %s seconds 6.445469617843628\n",
      "Running Time for Forward Pass: %s seconds 6.384112119674683\n",
      "Running Time for Forward Pass: %s seconds 6.490422487258911\n",
      "SPSA Epoch 6: -6.82441\n",
      "Running Time for Forward Pass: %s seconds 5.9721839427948\n",
      "Running Time for Forward Pass: %s seconds 6.238009929656982\n",
      "Running Time for Forward Pass: %s seconds 6.741623878479004\n",
      "SPSA Epoch 7: -7.02456\n",
      "Running Time for Forward Pass: %s seconds 6.216174364089966\n",
      "Running Time for Forward Pass: %s seconds 6.436516046524048\n",
      "Running Time for Forward Pass: %s seconds 6.320688486099243\n",
      "SPSA Epoch 8: -7.08060\n",
      "Running Time for Forward Pass: %s seconds 6.580101013183594\n",
      "Running Time for Forward Pass: %s seconds 6.000468969345093\n",
      "Running Time for Forward Pass: %s seconds 7.359799861907959\n",
      "SPSA Epoch 9: -7.10374\n",
      "Running Time for Forward Pass: %s seconds 7.4613189697265625\n",
      "Running Time for Forward Pass: %s seconds 6.437783718109131\n",
      "Running Time for Forward Pass: %s seconds 6.276983976364136\n",
      "SPSA Epoch 10: -7.10238\n",
      "{   'fun': -7.102378315535572,\n",
      "    'jac': None,\n",
      "    'nfev': 15,\n",
      "    'nit': 5,\n",
      "    'njev': None,\n",
      "    'x': array([ 1.92129285, -0.05937963,  1.06766458,  0.8896559 ,  1.1701145 ,\n",
      "        0.62219548,  1.17857829])}\n",
      "Running Time for optimizing Subex-A2: %s seconds 419.42446088790894\n",
      "Running Time for Forward Pass: %s seconds 6.69395112991333\n",
      "Running Time for Forward Pass: %s seconds 6.273415565490723\n",
      "Running Time for Forward Pass: %s seconds 6.297377824783325\n",
      "Running Time for Forward Pass: %s seconds 6.372800827026367\n",
      "Running Time for Forward Pass: %s seconds 6.833607196807861\n",
      "Running Time for Forward Pass: %s seconds 6.700855493545532\n",
      "Running Time for Forward Pass: %s seconds 6.162142038345337\n",
      "Running Time for Forward Pass: %s seconds 6.379928112030029\n",
      "Running Time for Forward Pass: %s seconds 6.102015495300293\n",
      "Running Time for Forward Pass: %s seconds 6.004765510559082\n",
      "Running Time for Forward Pass: %s seconds 6.028544902801514\n",
      "Running Time for Forward Pass: %s seconds 6.92988920211792\n",
      "Running Time for Forward Pass: %s seconds 5.844584941864014\n",
      "Running Time for Forward Pass: %s seconds 6.47004508972168\n",
      "Running Time for Forward Pass: %s seconds 6.352818489074707\n",
      "Running Time for Forward Pass: %s seconds 6.220546722412109\n",
      "Running Time for Forward Pass: %s seconds 5.600985527038574\n",
      "Running Time for Forward Pass: %s seconds 6.32520055770874\n",
      "Running Time for Forward Pass: %s seconds 6.691431522369385\n",
      "Running Time for Forward Pass: %s seconds 6.418744087219238\n",
      "Running Time for Forward Pass: %s seconds 6.599343776702881\n",
      "Running Time for Forward Pass: %s seconds 6.409280300140381\n",
      "Running Time for Forward Pass: %s seconds 6.6798996925354\n",
      "Running Time for Forward Pass: %s seconds 6.072181224822998\n",
      "Running Time for Forward Pass: %s seconds 7.086898326873779\n",
      "Running Time for Forward Pass: %s seconds 8.381065130233765\n",
      "Running Time for Forward Pass: %s seconds 6.812044858932495\n",
      "Running Time for Forward Pass: %s seconds 6.57581901550293\n",
      "Running Time for Forward Pass: %s seconds 6.321197032928467\n",
      "Running Time for Forward Pass: %s seconds 6.99496603012085\n",
      "Running Time for Forward Pass: %s seconds 6.690901041030884\n",
      "Running Time for Forward Pass: %s seconds 6.25628137588501\n",
      "Running Time for Forward Pass: %s seconds 6.473351240158081\n",
      "Running Time for Forward Pass: %s seconds 6.687673807144165\n",
      "Running Time for Forward Pass: %s seconds 6.56641411781311\n",
      "Running Time for Forward Pass: %s seconds 6.375327825546265\n",
      "Running Time for Forward Pass: %s seconds 5.930993556976318\n",
      "Running Time for Forward Pass: %s seconds 6.538464307785034\n",
      "Running Time for Forward Pass: %s seconds 6.352737188339233\n",
      "Running Time for Forward Pass: %s seconds 6.785691499710083\n",
      "Running Time for Forward Pass: %s seconds 5.751980304718018\n",
      "Running Time for Forward Pass: %s seconds 6.2655298709869385\n",
      "Running Time for Forward Pass: %s seconds 6.349684715270996\n",
      "Running Time for Forward Pass: %s seconds 6.21345853805542\n",
      "Running Time for Forward Pass: %s seconds 6.388166666030884\n",
      "Running Time for Forward Pass: %s seconds 6.33011269569397\n",
      "Running Time for Forward Pass: %s seconds 6.196053981781006\n",
      "Running Time for Forward Pass: %s seconds 6.3081042766571045\n",
      "Running Time for Forward Pass: %s seconds 6.693129062652588\n",
      "Running Time for Forward Pass: %s seconds 5.955363750457764\n",
      "Running Time for Forward Pass: %s seconds 6.4122302532196045\n",
      "Running Time for Forward Pass: %s seconds 7.249831438064575\n",
      "Running Time for Forward Pass: %s seconds 6.450284481048584\n",
      "SPSA Epoch 11: -3.59083\n",
      "Running Time for Forward Pass: %s seconds 8.338863849639893\n",
      "Running Time for Forward Pass: %s seconds 6.2194836139678955\n",
      "Running Time for Forward Pass: %s seconds 6.752431869506836\n",
      "SPSA Epoch 12: -3.97992\n",
      "Running Time for Forward Pass: %s seconds 6.233137130737305\n",
      "Running Time for Forward Pass: %s seconds 6.520797252655029\n",
      "Running Time for Forward Pass: %s seconds 6.360280752182007\n",
      "SPSA Epoch 13: -4.57923\n",
      "Running Time for Forward Pass: %s seconds 6.239372491836548\n",
      "Running Time for Forward Pass: %s seconds 6.770793199539185\n",
      "Running Time for Forward Pass: %s seconds 6.677255868911743\n",
      "SPSA Epoch 14: -4.58439\n",
      "Running Time for Forward Pass: %s seconds 6.1736860275268555\n",
      "Running Time for Forward Pass: %s seconds 6.216546535491943\n",
      "Running Time for Forward Pass: %s seconds 6.573373317718506\n",
      "SPSA Epoch 15: -5.32209\n",
      "{   'fun': -5.322093173787746,\n",
      "    'jac': None,\n",
      "    'nfev': 15,\n",
      "    'nit': 5,\n",
      "    'njev': None,\n",
      "    'x': array([ 2.27158872,  0.70752877,  0.24770143,  0.67590738,  0.75952765,\n",
      "       -0.5494493 ,  1.30616798])}\n",
      "Running Time for optimizing Subex-A3: %s seconds 421.83006739616394\n",
      "Running Time for Forward Pass: %s seconds 6.523826360702515\n",
      "Running Time for Forward Pass: %s seconds 6.77744722366333\n",
      "Running Time for Forward Pass: %s seconds 6.33411169052124\n",
      "Running Time for Forward Pass: %s seconds 7.683483839035034\n",
      "Running Time for Forward Pass: %s seconds 5.83623743057251\n",
      "Running Time for Forward Pass: %s seconds 6.56418514251709\n",
      "Running Time for Forward Pass: %s seconds 5.968784809112549\n",
      "Running Time for Forward Pass: %s seconds 5.891390323638916\n",
      "Running Time for Forward Pass: %s seconds 6.108904123306274\n",
      "Running Time for Forward Pass: %s seconds 6.571633815765381\n",
      "Running Time for Forward Pass: %s seconds 6.31058406829834\n",
      "Running Time for Forward Pass: %s seconds 6.268482208251953\n",
      "Running Time for Forward Pass: %s seconds 6.4521260261535645\n",
      "Running Time for Forward Pass: %s seconds 5.849802017211914\n",
      "Running Time for Forward Pass: %s seconds 6.368067264556885\n",
      "Running Time for Forward Pass: %s seconds 6.619860887527466\n",
      "Running Time for Forward Pass: %s seconds 6.733502626419067\n",
      "Running Time for Forward Pass: %s seconds 5.948704242706299\n",
      "Running Time for Forward Pass: %s seconds 6.024096250534058\n",
      "Running Time for Forward Pass: %s seconds 6.437031030654907\n",
      "Running Time for Forward Pass: %s seconds 6.939023971557617\n",
      "Running Time for Forward Pass: %s seconds 6.5063605308532715\n",
      "Running Time for Forward Pass: %s seconds 5.793060779571533\n",
      "Running Time for Forward Pass: %s seconds 6.729390621185303\n",
      "Running Time for Forward Pass: %s seconds 6.4201061725616455\n",
      "Running Time for Forward Pass: %s seconds 5.902738571166992\n",
      "Running Time for Forward Pass: %s seconds 6.514101505279541\n",
      "Running Time for Forward Pass: %s seconds 6.347651720046997\n",
      "Running Time for Forward Pass: %s seconds 6.428186893463135\n",
      "Running Time for Forward Pass: %s seconds 6.415517091751099\n",
      "Running Time for Forward Pass: %s seconds 6.368345022201538\n",
      "Running Time for Forward Pass: %s seconds 8.137380599975586\n",
      "Running Time for Forward Pass: %s seconds 6.14415168762207\n",
      "Running Time for Forward Pass: %s seconds 6.306982517242432\n",
      "Running Time for Forward Pass: %s seconds 6.377017974853516\n",
      "Running Time for Forward Pass: %s seconds 6.444845199584961\n",
      "Running Time for Forward Pass: %s seconds 6.300703525543213\n",
      "Running Time for Forward Pass: %s seconds 6.24019193649292\n",
      "Running Time for Forward Pass: %s seconds 7.3151023387908936\n",
      "Running Time for Forward Pass: %s seconds 6.360072612762451\n",
      "Running Time for Forward Pass: %s seconds 6.5509631633758545\n",
      "Running Time for Forward Pass: %s seconds 6.528831243515015\n",
      "Running Time for Forward Pass: %s seconds 6.422200918197632\n",
      "Running Time for Forward Pass: %s seconds 6.195278167724609\n",
      "Running Time for Forward Pass: %s seconds 6.47956919670105\n",
      "Running Time for Forward Pass: %s seconds 6.197718381881714\n",
      "Running Time for Forward Pass: %s seconds 6.064504623413086\n",
      "Running Time for Forward Pass: %s seconds 6.487624645233154\n",
      "Running Time for Forward Pass: %s seconds 7.5721375942230225\n",
      "Running Time for Forward Pass: %s seconds 6.357293128967285\n",
      "SPSA Epoch 21: -6.84025\n",
      "Running Time for Forward Pass: %s seconds 6.394328594207764\n",
      "Running Time for Forward Pass: %s seconds 6.0866076946258545\n",
      "Running Time for Forward Pass: %s seconds 6.498124837875366\n",
      "SPSA Epoch 22: -7.03094\n",
      "Running Time for Forward Pass: %s seconds 6.355143070220947\n",
      "Running Time for Forward Pass: %s seconds 6.625967979431152\n",
      "Running Time for Forward Pass: %s seconds 6.321792840957642\n",
      "SPSA Epoch 23: -7.08372\n",
      "Running Time for Forward Pass: %s seconds 6.595130205154419\n",
      "Running Time for Forward Pass: %s seconds 7.145542860031128\n",
      "Running Time for Forward Pass: %s seconds 7.323233366012573\n",
      "SPSA Epoch 24: -7.09910\n",
      "Running Time for Forward Pass: %s seconds 6.9267027378082275\n",
      "Running Time for Forward Pass: %s seconds 5.91550612449646\n",
      "Running Time for Forward Pass: %s seconds 6.476846694946289\n",
      "SPSA Epoch 25: -7.11232\n",
      "{   'fun': -7.112317442844547,\n",
      "    'jac': None,\n",
      "    'nfev': 15,\n",
      "    'nit': 5,\n",
      "    'njev': None,\n",
      "    'x': array([ 1.92134987,  1.09128987,  0.45845359,  1.60620219, -0.36150858,\n",
      "        1.37055503,  0.98929593])}\n",
      "Running Time for optimizing Subex-A5: %s seconds 420.52907156944275\n",
      "Running Time for Forward Pass: %s seconds 6.403785943984985\n",
      "Running Time for Forward Pass: %s seconds 6.5364861488342285\n",
      "Running Time for Forward Pass: %s seconds 6.341782331466675\n",
      "Running Time for Forward Pass: %s seconds 5.975269079208374\n",
      "Running Time for Forward Pass: %s seconds 6.424525260925293\n",
      "Running Time for Forward Pass: %s seconds 6.072812795639038\n",
      "Running Time for Forward Pass: %s seconds 6.237454891204834\n",
      "Running Time for Forward Pass: %s seconds 6.2621190547943115\n",
      "Running Time for Forward Pass: %s seconds 6.735600709915161\n",
      "Running Time for Forward Pass: %s seconds 6.258676767349243\n",
      "Running Time for Forward Pass: %s seconds 6.67939829826355\n",
      "Running Time for Forward Pass: %s seconds 6.448937177658081\n",
      "Running Time for Forward Pass: %s seconds 6.428893089294434\n",
      "Running Time for Forward Pass: %s seconds 7.462273120880127\n",
      "Running Time for Forward Pass: %s seconds 6.578388452529907\n",
      "Running Time for Forward Pass: %s seconds 6.69843316078186\n",
      "Running Time for Forward Pass: %s seconds 6.886230230331421\n",
      "Running Time for Forward Pass: %s seconds 6.05733585357666\n",
      "Running Time for Forward Pass: %s seconds 6.4706597328186035\n",
      "Running Time for Forward Pass: %s seconds 6.407244682312012\n",
      "Running Time for Forward Pass: %s seconds 6.5351293087005615\n",
      "Running Time for Forward Pass: %s seconds 6.364525318145752\n",
      "Running Time for Forward Pass: %s seconds 7.374361515045166\n",
      "Running Time for Forward Pass: %s seconds 6.3491480350494385\n",
      "Running Time for Forward Pass: %s seconds 8.408715724945068\n",
      "Running Time for Forward Pass: %s seconds 7.115978717803955\n",
      "Running Time for Forward Pass: %s seconds 6.3657238483428955\n",
      "Running Time for Forward Pass: %s seconds 6.540362358093262\n",
      "Running Time for Forward Pass: %s seconds 6.760977506637573\n",
      "Running Time for Forward Pass: %s seconds 7.047267913818359\n",
      "Running Time for Forward Pass: %s seconds 6.585832357406616\n",
      "Running Time for Forward Pass: %s seconds 7.429126024246216\n",
      "Running Time for Forward Pass: %s seconds 6.862270355224609\n",
      "Running Time for Forward Pass: %s seconds 6.0817835330963135\n",
      "Running Time for Forward Pass: %s seconds 6.5673301219940186\n",
      "Running Time for Forward Pass: %s seconds 6.559921741485596\n",
      "Running Time for Forward Pass: %s seconds 6.507153034210205\n",
      "Running Time for Forward Pass: %s seconds 6.525354623794556\n",
      "Running Time for Forward Pass: %s seconds 6.560556650161743\n",
      "Running Time for Forward Pass: %s seconds 6.775709390640259\n",
      "Running Time for Forward Pass: %s seconds 7.091947317123413\n",
      "Running Time for Forward Pass: %s seconds 7.202236175537109\n",
      "Running Time for Forward Pass: %s seconds 6.974715709686279\n",
      "Running Time for Forward Pass: %s seconds 6.577060222625732\n",
      "Running Time for Forward Pass: %s seconds 6.235037565231323\n",
      "Running Time for Forward Pass: %s seconds 6.480703592300415\n",
      "Running Time for Forward Pass: %s seconds 6.941289663314819\n",
      "Running Time for Forward Pass: %s seconds 6.5524516105651855\n",
      "Running Time for Forward Pass: %s seconds 6.752203464508057\n",
      "Running Time for Forward Pass: %s seconds 6.930330991744995\n",
      "Running Time for Forward Pass: %s seconds 8.335107564926147\n",
      "Running Time for Forward Pass: %s seconds 6.429394006729126\n",
      "Running Time for Forward Pass: %s seconds 6.291286945343018\n",
      "SPSA Epoch 26: -6.83460\n",
      "Running Time for Forward Pass: %s seconds 6.614579439163208\n",
      "Running Time for Forward Pass: %s seconds 6.169931888580322\n",
      "Running Time for Forward Pass: %s seconds 6.5888512134552\n",
      "SPSA Epoch 27: -7.02253\n",
      "Running Time for Forward Pass: %s seconds 6.2120139598846436\n",
      "Running Time for Forward Pass: %s seconds 6.576163291931152\n",
      "Running Time for Forward Pass: %s seconds 7.482536315917969\n",
      "SPSA Epoch 28: -7.08852\n",
      "Running Time for Forward Pass: %s seconds 6.693866491317749\n",
      "Running Time for Forward Pass: %s seconds 6.421365976333618\n",
      "Running Time for Forward Pass: %s seconds 6.21250057220459\n",
      "SPSA Epoch 29: -7.09933\n",
      "Running Time for Forward Pass: %s seconds 6.888769626617432\n",
      "Running Time for Forward Pass: %s seconds 6.7224507331848145\n",
      "Running Time for Forward Pass: %s seconds 6.2391533851623535\n",
      "SPSA Epoch 30: -7.10227\n",
      "{   'fun': -7.102273693142846,\n",
      "    'jac': None,\n",
      "    'nfev': 15,\n",
      "    'nit': 5,\n",
      "    'njev': None,\n",
      "    'x': array([ 1.92371456, -0.61643006, -0.94073727,  0.23853382, -0.62170845,\n",
      "        0.18157099, -0.3815412 ])}\n",
      "Running Time for optimizing Subex-A6: %s seconds 433.2862458229065\n"
     ]
    }
   ],
   "source": [
    "# Optimizer result for 0th circuit for sub-circuit-A\n",
    "start_time = time.time()\n",
    "optimizer_result_A0 = minimizer(function, function.objective0, function.gradient0, initial_point, optimizer)\n",
    "end_time = time.time()\n",
    "running_time = end_time - start_time\n",
    "print(\"Running Time for optimizing Subex-A1: %s seconds\", running_time)\n",
    "\n",
    "start_time = time.time()\n",
    "optimizer_result_A1 = minimizer(function, function.objective1, function.gradient1, initial_point, optimizer)\n",
    "end_time = time.time()\n",
    "running_time = end_time - start_time\n",
    "print(\"Running Time for optimizing Subex-A2: %s seconds\", running_time)\n",
    "\n",
    "start_time = time.time()\n",
    "optimizer_result_A2 = minimizer(function, function.objective2, function.gradient2, initial_point, optimizer)\n",
    "end_time = time.time()\n",
    "running_time = end_time - start_time\n",
    "print(\"Running Time for optimizing Subex-A3: %s seconds\", running_time)\n",
    "\n",
    "start_time = time.time()\n",
    "optimizer_result_A3 = minimizer(function, function.objective3, function.gradient3, initial_point, optimizer)\n",
    "end_time = time.time()\n",
    "running_time = end_time - start_time\n",
    "print(\"Running Time for optimizing Subex-A4: %s seconds\", running_time)\n",
    "\n",
    "start_time = time.time()\n",
    "optimizer_result_A4 = minimizer(function, function.objective4, function.gradient4, initial_point, optimizer)\n",
    "end_time = time.time()\n",
    "running_time = end_time - start_time\n",
    "print(\"Running Time for optimizing Subex-A5: %s seconds\", running_time)\n",
    "\n",
    "start_time = time.time()\n",
    "optimizer_result_A5 = minimizer(function, function.objective5, function.gradient5, initial_point, optimizer)\n",
    "end_time = time.time()\n",
    "running_time = end_time - start_time\n",
    "print(\"Running Time for optimizing Subex-A6: %s seconds\", running_time)"
   ]
  },
  {
   "cell_type": "code",
   "execution_count": null,
   "id": "3d06fd73-6d5f-4251-b91f-7803a4eb8098",
   "metadata": {},
   "outputs": [],
   "source": [
    "optimizer_results_A = [optimizer_result_A0, optimizer_result_A1, optimizer_result_A2, optimizer_result_A3, optimizer_result_A4, optimizer_result_A5]"
   ]
  },
  {
   "cell_type": "code",
   "execution_count": null,
   "id": "62002702-1c92-4bec-942b-7a6cfa2ee79d",
   "metadata": {},
   "outputs": [
    {
     "name": "stdout",
     "output_type": "stream",
     "text": [
      "New params (The final point of the minimization): [ 1.92460819  1.08123869  0.68230983  1.54001489 -0.04515279  0.23760917\n",
      "  0.78371237]\n",
      "The final value of the minimization: -7.108707970295499\n",
      "The final gradient of the minimization: None\n",
      "The total number of function evaluations: 15\n",
      "The total number of gradient evaluations: None\n",
      "The total number of iterations: 5\n",
      "New params (The final point of the minimization): [ 1.92129285 -0.05937963  1.06766458  0.8896559   1.1701145   0.62219548\n",
      "  1.17857829]\n",
      "The final value of the minimization: -7.102378315535572\n",
      "The final gradient of the minimization: None\n",
      "The total number of function evaluations: 15\n",
      "The total number of gradient evaluations: None\n",
      "The total number of iterations: 5\n",
      "New params (The final point of the minimization): [ 2.27158872  0.70752877  0.24770143  0.67590738  0.75952765 -0.5494493\n",
      "  1.30616798]\n",
      "The final value of the minimization: -5.322093173787746\n",
      "The final gradient of the minimization: None\n",
      "The total number of function evaluations: 15\n",
      "The total number of gradient evaluations: None\n",
      "The total number of iterations: 5\n",
      "New params (The final point of the minimization): [ 1.42734849 -0.46839693  0.8090601   0.0393028   0.78102977  0.26555437\n",
      "  2.01559168]\n",
      "The final value of the minimization: -4.79703674039397\n",
      "The final gradient of the minimization: None\n",
      "The total number of function evaluations: 15\n",
      "The total number of gradient evaluations: None\n",
      "The total number of iterations: 5\n",
      "New params (The final point of the minimization): [ 1.92134987  1.09128987  0.45845359  1.60620219 -0.36150858  1.37055503\n",
      "  0.98929593]\n",
      "The final value of the minimization: -7.112317442844547\n",
      "The final gradient of the minimization: None\n",
      "The total number of function evaluations: 15\n",
      "The total number of gradient evaluations: None\n",
      "The total number of iterations: 5\n",
      "New params (The final point of the minimization): [ 1.92371456 -0.61643006 -0.94073727  0.23853382 -0.62170845  0.18157099\n",
      " -0.3815412 ]\n",
      "The final value of the minimization: -7.102273693142846\n",
      "The final gradient of the minimization: None\n",
      "The total number of function evaluations: 15\n",
      "The total number of gradient evaluations: None\n",
      "The total number of iterations: 5\n"
     ]
    }
   ],
   "source": [
    "# Print results from 6 sub-experiments of sub-circuit-A\n",
    "for opt_result in optimizer_results_A:\n",
    "    print_optimizer_results(opt_result)"
   ]
  },
  {
   "cell_type": "code",
   "execution_count": null,
   "id": "8be438f3-e234-4217-bd1c-7e313b393e18",
   "metadata": {},
   "outputs": [
    {
     "data": {
      "text/plain": [
       "Text(0.5, 1.0, 'Training loss')"
      ]
     },
     "execution_count": 47,
     "metadata": {},
     "output_type": "execute_result"
    },
    {
     "data": {
      "image/png": "[encoded data removed]",
      "text/plain": [
       "<Figure size 640x480 with 1 Axes>"
      ]
     },
     "metadata": {},
     "output_type": "display_data"
    }
   ],
   "source": [
    "plt.plot(objective_func_vals[:5], label=\"B Subex1\")\n",
    "plt.plot(objective_func_vals[5:10], label=\"B Subex2\")\n",
    "plt.plot(objective_func_vals[10:15], label=\"B Subex3\")\n",
    "plt.plot(objective_func_vals[15:20], label=\"B Subex4\")\n",
    "plt.plot(objective_func_vals[20:25], label=\"B Subex5\")\n",
    "plt.plot(objective_func_vals[25:30], label=\"B Subex6\")\n",
    "plt.legend()\n",
    "plt.xlabel(\"Number of epochs\")\n",
    "plt.title(\"Training loss\")"
   ]
  },
  {
   "cell_type": "code",
   "execution_count": null,
   "id": "15b7a7f5-8003-43cd-af0f-90535b6f61bc",
   "metadata": {},
   "outputs": [
    {
     "data": {
      "text/plain": [
       "[-6.826768058964233,\n",
       " -7.0233884090274,\n",
       " -7.085045872473956,\n",
       " -7.095961475448374,\n",
       " -7.108707970295499,\n",
       " -6.824414055127897,\n",
       " -7.02455669241284,\n",
       " -7.080599420783098,\n",
       " -7.103738406641011,\n",
       " -7.102378315535572,\n",
       " -3.5908315902344703,\n",
       " -3.9799184373924605,\n",
       " -4.579233589691054,\n",
       " -4.584387370704388,\n",
       " -5.322093173787746,\n",
       " -3.0913816361982716,\n",
       " -3.1512275900645044,\n",
       " -3.9243560472602854,\n",
       " -3.970127734038934,\n",
       " -4.79703674039397,\n",
       " -6.840246910560439,\n",
       " -7.030938658369131,\n",
       " -7.083720655499427,\n",
       " -7.099100147230156,\n",
       " -7.112317442844547,\n",
       " -6.834597301353233,\n",
       " -7.022533992820137,\n",
       " -7.08851584849937,\n",
       " -7.099326829081063,\n",
       " -7.102273693142846]"
      ]
     },
     "execution_count": 48,
     "metadata": {},
     "output_type": "execute_result"
    }
   ],
   "source": [
    "objective_func_vals"
   ]
  },
  {
   "cell_type": "code",
   "execution_count": null,
   "id": "621adb10-e0d3-4016-ad2b-615a998ada42",
   "metadata": {},
   "outputs": [
    {
     "data": {
      "text/plain": [
       "[]"
      ]
     },
     "execution_count": 49,
     "metadata": {},
     "output_type": "execute_result"
    }
   ],
   "source": [
    "objective_func_vals.clear()\n",
    "objective_func_vals"
   ]
  },
  {
   "cell_type": "markdown",
   "id": "8310166a-4dc2-4ffd-b1cf-2d8f83aa3548",
   "metadata": {},
   "source": [
    "#### Optimizer Result for sub-circuits[\"B\"]"
   ]
  },
  {
   "cell_type": "code",
   "execution_count": null,
   "id": "2d4424fc-7ce6-41f0-b177-543f3708c0c3",
   "metadata": {},
   "outputs": [],
   "source": [
    "initial_point2 = np.random.random((8,))\n",
    "function2 = CustomMultiClassObjectiveFunction(x_train_B, new_y_train, sampler_qcnn2, loss)"
   ]
  },
  {
   "cell_type": "code",
   "execution_count": null,
   "id": "60edb6f0-937d-4faf-b4f2-24fc1cd5c731",
   "metadata": {},
   "outputs": [
    {
     "name": "stdout",
     "output_type": "stream",
     "text": [
      "Running Time for Forward Pass: %s seconds 22.825103282928467\n",
      "Running Time for Forward Pass: %s seconds 24.66137981414795\n",
      "Running Time for Forward Pass: %s seconds 25.896605491638184\n",
      "Running Time for Forward Pass: %s seconds 28.102799654006958\n",
      "Running Time for Forward Pass: %s seconds 25.2848379611969\n",
      "Running Time for Forward Pass: %s seconds 25.260991096496582\n",
      "Running Time for Forward Pass: %s seconds 25.00179100036621\n",
      "Running Time for Forward Pass: %s seconds 24.78080940246582\n",
      "Running Time for Forward Pass: %s seconds 25.821868181228638\n",
      "Running Time for Forward Pass: %s seconds 24.273216724395752\n",
      "Running Time for Forward Pass: %s seconds 28.617063760757446\n",
      "Running Time for Forward Pass: %s seconds 25.58833408355713\n",
      "Running Time for Forward Pass: %s seconds 24.99327850341797\n",
      "Running Time for Forward Pass: %s seconds 25.47034764289856\n",
      "Running Time for Forward Pass: %s seconds 24.03127360343933\n",
      "Running Time for Forward Pass: %s seconds 25.136029720306396\n",
      "Running Time for Forward Pass: %s seconds 25.44098687171936\n",
      "Running Time for Forward Pass: %s seconds 25.731511116027832\n",
      "Running Time for Forward Pass: %s seconds 25.703096628189087\n",
      "Running Time for Forward Pass: %s seconds 26.04001522064209\n",
      "Running Time for Forward Pass: %s seconds 25.478816032409668\n",
      "Running Time for Forward Pass: %s seconds 25.582245349884033\n",
      "Running Time for Forward Pass: %s seconds 22.971097946166992\n",
      "Running Time for Forward Pass: %s seconds 25.225401878356934\n",
      "Running Time for Forward Pass: %s seconds 28.654420137405396\n",
      "Running Time for Forward Pass: %s seconds 25.704617977142334\n",
      "Running Time for Forward Pass: %s seconds 26.56728482246399\n",
      "Running Time for Forward Pass: %s seconds 25.200394868850708\n",
      "Running Time for Forward Pass: %s seconds 26.323575973510742\n",
      "Running Time for Forward Pass: %s seconds 24.482831716537476\n",
      "Running Time for Forward Pass: %s seconds 26.376904487609863\n",
      "Running Time for Forward Pass: %s seconds 24.685376405715942\n",
      "Running Time for Forward Pass: %s seconds 25.551836490631104\n",
      "Running Time for Forward Pass: %s seconds 24.838248252868652\n",
      "Running Time for Forward Pass: %s seconds 25.87968349456787\n",
      "Running Time for Forward Pass: %s seconds 25.971911191940308\n",
      "Running Time for Forward Pass: %s seconds 22.337077856063843\n",
      "Running Time for Forward Pass: %s seconds 23.832658290863037\n",
      "Running Time for Forward Pass: %s seconds 29.24165964126587\n",
      "Running Time for Forward Pass: %s seconds 25.780790328979492\n",
      "Running Time for Forward Pass: %s seconds 25.920878171920776\n",
      "Running Time for Forward Pass: %s seconds 25.391479969024658\n",
      "Running Time for Forward Pass: %s seconds 25.115037441253662\n",
      "Running Time for Forward Pass: %s seconds 26.080657958984375\n",
      "Running Time for Forward Pass: %s seconds 24.575494527816772\n",
      "Running Time for Forward Pass: %s seconds 28.482722759246826\n",
      "Running Time for Forward Pass: %s seconds 24.794257164001465\n",
      "Running Time for Forward Pass: %s seconds 25.59365963935852\n",
      "Running Time for Forward Pass: %s seconds 25.898110389709473\n",
      "Running Time for Forward Pass: %s seconds 23.396623373031616\n",
      "Running Time for Forward Pass: %s seconds 25.043187618255615\n",
      "Running Time for Forward Pass: %s seconds 23.818976640701294\n",
      "Running Time for Forward Pass: %s seconds 28.054988145828247\n",
      "SPSA Epoch 1: -5.34488\n",
      "Running Time for Forward Pass: %s seconds 24.52505850791931\n",
      "Running Time for Forward Pass: %s seconds 23.68948483467102\n",
      "Running Time for Forward Pass: %s seconds 22.991256952285767\n",
      "SPSA Epoch 2: -6.53063\n",
      "Running Time for Forward Pass: %s seconds 25.879059314727783\n",
      "Running Time for Forward Pass: %s seconds 26.593304872512817\n",
      "Running Time for Forward Pass: %s seconds 26.0562264919281\n",
      "SPSA Epoch 3: -6.49447\n",
      "Running Time for Forward Pass: %s seconds 27.063310861587524\n",
      "Running Time for Forward Pass: %s seconds 25.659598112106323\n",
      "Running Time for Forward Pass: %s seconds 26.898149013519287\n",
      "SPSA Epoch 4: -6.50753\n",
      "Running Time for Forward Pass: %s seconds 25.016974925994873\n",
      "Running Time for Forward Pass: %s seconds 23.37017321586609\n",
      "Running Time for Forward Pass: %s seconds 24.013744115829468\n",
      "SPSA Epoch 5: -6.50683\n",
      "{   'fun': -6.506832782007954,\n",
      "    'jac': None,\n",
      "    'nfev': 15,\n",
      "    'nit': 5,\n",
      "    'njev': None,\n",
      "    'x': array([ 0.92127705,  1.44861498,  1.12481966,  1.31080125,  1.4835467 ,\n",
      "       -0.14597746,  0.08105209,  1.0249137 ])}\n",
      "Running Time for optimizing Subex-B1: %s seconds 1654.113070487976\n",
      "Running Time for Forward Pass: %s seconds 25.204562664031982\n",
      "Running Time for Forward Pass: %s seconds 24.386186361312866\n",
      "Running Time for Forward Pass: %s seconds 26.290399074554443\n",
      "Running Time for Forward Pass: %s seconds 24.397077798843384\n",
      "Running Time for Forward Pass: %s seconds 24.945475816726685\n",
      "Running Time for Forward Pass: %s seconds 22.460588693618774\n",
      "Running Time for Forward Pass: %s seconds 26.230518341064453\n",
      "Running Time for Forward Pass: %s seconds 25.537954807281494\n",
      "Running Time for Forward Pass: %s seconds 25.774527072906494\n",
      "Running Time for Forward Pass: %s seconds 27.612169981002808\n",
      "Running Time for Forward Pass: %s seconds 23.564829349517822\n",
      "Running Time for Forward Pass: %s seconds 23.72862935066223\n",
      "Running Time for Forward Pass: %s seconds 25.15703058242798\n",
      "Running Time for Forward Pass: %s seconds 23.111730337142944\n",
      "Running Time for Forward Pass: %s seconds 25.61606526374817\n",
      "Running Time for Forward Pass: %s seconds 24.768046617507935\n",
      "Running Time for Forward Pass: %s seconds 28.834397077560425\n",
      "Running Time for Forward Pass: %s seconds 26.11172127723694\n",
      "Running Time for Forward Pass: %s seconds 23.443572282791138\n",
      "Running Time for Forward Pass: %s seconds 25.978129625320435\n",
      "Running Time for Forward Pass: %s seconds 26.15309476852417\n",
      "Running Time for Forward Pass: %s seconds 25.558246612548828\n",
      "Running Time for Forward Pass: %s seconds 24.126087427139282\n",
      "Running Time for Forward Pass: %s seconds 25.923846006393433\n",
      "Running Time for Forward Pass: %s seconds 22.43262481689453\n",
      "Running Time for Forward Pass: %s seconds 23.968286752700806\n",
      "Running Time for Forward Pass: %s seconds 25.160929918289185\n",
      "Running Time for Forward Pass: %s seconds 26.434104681015015\n",
      "Running Time for Forward Pass: %s seconds 26.580779790878296\n",
      "Running Time for Forward Pass: %s seconds 25.92988109588623\n",
      "Running Time for Forward Pass: %s seconds 28.60514760017395\n",
      "Running Time for Forward Pass: %s seconds 25.442639350891113\n",
      "Running Time for Forward Pass: %s seconds 26.163167238235474\n",
      "Running Time for Forward Pass: %s seconds 24.86333155632019\n",
      "Running Time for Forward Pass: %s seconds 25.91948890686035\n",
      "Running Time for Forward Pass: %s seconds 25.885522842407227\n",
      "Running Time for Forward Pass: %s seconds 24.40369176864624\n",
      "Running Time for Forward Pass: %s seconds 28.89370632171631\n",
      "Running Time for Forward Pass: %s seconds 25.132203817367554\n",
      "Running Time for Forward Pass: %s seconds 23.981979846954346\n",
      "Running Time for Forward Pass: %s seconds 23.498249769210815\n",
      "Running Time for Forward Pass: %s seconds 25.625789642333984\n",
      "Running Time for Forward Pass: %s seconds 23.50435161590576\n",
      "Running Time for Forward Pass: %s seconds 24.897073984146118\n",
      "Running Time for Forward Pass: %s seconds 28.36266803741455\n"
     ]
    }
   ],
   "source": [
    "# Optimizer result for 0th circuit for sub-circuit-B\n",
    "start_time = time.time()\n",
    "optimizer_result_B0 = minimizer(function2, function2.objective0, function2.gradient0, initial_point2, optimizer)\n",
    "end_time = time.time()\n",
    "running_time = end_time - start_time\n",
    "print(\"Running Time for optimizing Subex-B1: %s seconds\", running_time)\n",
    "\n",
    "start_time = time.time()\n",
    "optimizer_result_B1 = minimizer(function2, function2.objective1, function2.gradient1, initial_point2, optimizer)\n",
    "end_time = time.time()\n",
    "running_time = end_time - start_time\n",
    "print(\"Running Time for optimizing Subex-B2: %s seconds\", running_time)\n",
    "\n",
    "start_time = time.time()\n",
    "optimizer_result_B2 = minimizer(function2, function2.objective2, function2.gradient2, initial_point2, optimizer)\n",
    "end_time = time.time()\n",
    "running_time = end_time - start_time\n",
    "print(\"Running Time for optimizing Subex-B3: %s seconds\", running_time)\n",
    "\n",
    "start_time = time.time()\n",
    "optimizer_result_B3 = minimizer(function2, function2.objective3, function2.gradient3, initial_point2, optimizer)\n",
    "end_time = time.time()\n",
    "running_time = end_time - start_time\n",
    "print(\"Running Time for optimizing Subex-B4: %s seconds\", running_time)\n",
    "\n",
    "start_time = time.time()\n",
    "optimizer_result_B4 = minimizer(function2, function2.objective4, function2.gradient4, initial_point2, optimizer)\n",
    "end_time = time.time()\n",
    "running_time = end_time - start_time\n",
    "print(\"Running Time for optimizing Subex-B5: %s seconds\", running_time)\n",
    "\n",
    "start_time = time.time()\n",
    "optimizer_result_B5 = minimizer(function2, function2.objective5, function2.gradient5, initial_point2, optimizer)\n",
    "end_time = time.time()\n",
    "running_time = end_time - start_time\n",
    "print(\"Running Time for optimizing Subex-B6: %s seconds\", running_time)"
   ]
  },
  {
   "cell_type": "code",
   "execution_count": null,
   "id": "d6607356-2e2a-4e70-85ff-f258c2f5cbc1",
   "metadata": {},
   "outputs": [],
   "source": [
    "optimizer_results_B = [optimizer_result_B0, optimizer_result_B1, optimizer_result_B2, optimizer_result_B3, optimizer_result_B4, optimizer_result_B5]"
   ]
  },
  {
   "cell_type": "code",
   "execution_count": null,
   "id": "0896372c-0930-4451-b75b-5edb6733efc7",
   "metadata": {},
   "outputs": [],
   "source": [
    "# Print results from 6 sub-experiments of sub-circuit-B\n",
    "for opt_result in optimizer_results_B:\n",
    "    print_optimizer_results(opt_result)"
   ]
  },
  {
   "cell_type": "code",
   "execution_count": null,
   "id": "d38f5b9e-b92e-429d-b715-f734eae3a76e",
   "metadata": {},
   "outputs": [],
   "source": [
    "plt.plot(objective_func_vals[:5], label=\"B Subex1\")\n",
    "plt.plot(objective_func_vals[5:10], label=\"B Subex2\")\n",
    "plt.plot(objective_func_vals[10:15], label=\"B Subex3\")\n",
    "plt.plot(objective_func_vals[15:20], label=\"B Subex4\")\n",
    "plt.plot(objective_func_vals[20:25], label=\"B Subex5\")\n",
    "plt.plot(objective_func_vals[25:30], label=\"B Subex6\")\n",
    "plt.legend()\n",
    "plt.xlabel(\"Number of epochs\")\n",
    "plt.title(\"Training loss\")"
   ]
  },
  {
   "cell_type": "code",
   "execution_count": null,
   "id": "99e6a464-84b8-497f-9e09-d57d746b6346",
   "metadata": {},
   "outputs": [],
   "source": [
    "objective_func_vals"
   ]
  },
  {
   "cell_type": "code",
   "execution_count": null,
   "id": "ed7eacba-18a0-476e-97ba-53acde85b048",
   "metadata": {},
   "outputs": [],
   "source": [
    "objective_func_vals.clear()\n",
    "objective_func_vals"
   ]
  },
  {
   "cell_type": "markdown",
   "id": "8068f82d-6639-4886-a96f-f605d23f34bb",
   "metadata": {},
   "source": [
    "### At this point, the training is complete. \n",
    "We have 12 lists of 7 or 8 parameter values that will now be used to make predictions on the test cases. \n",
    "New subcircuits will be built using these parameter values and then their results will be used to reconstruct expectation values. This process will occur for all the inputs in the test set.\n",
    "\n",
    "\n",
    "Let us think of the training process as a box that we can tune/edit while training on the train set. However, once the training process is complete, the box is locked and provided to the user. The user can now send test data to the box and get its desired output.\n",
    "\n",
    "However, in the case of circuit cutting, instead of having one box, we have multiple boxes. In our case, we have a total of 12 boxes (6 boxes per cut). These 12 boxes are trained independently of each other and locked after the training process is complete. The user, now, instead of sending the test data to one box, splits it into 2 parts that are sent to these 12 boxes. The 12 boxes produce quasi-probability distributions respective to the circuits they implement which are then reconstructed to produce the expectation value according to the test input. This process is repeated for every data point in the test dataset."
   ]
  },
  {
   "cell_type": "markdown",
   "id": "ac1fc3ef-8cef-4326-8ff9-bbe594b32a23",
   "metadata": {},
   "source": [
    "## Reconstruct Expectation Values and Testing"
   ]
  },
  {
   "cell_type": "code",
   "execution_count": null,
   "id": "8824ed8a-0db9-4133-adf5-41a31171b8f3",
   "metadata": {},
   "outputs": [],
   "source": [
    "from circuit_knitting.cutting import reconstruct_expectation_values\n",
    "from qiskit_aer.primitives import Sampler\n",
    "from qiskit.primitives import SamplerResult\n",
    "from loss_optimization.accuracy_score import get_accuracy_score\n",
    "from circuit_cut.reconstruct_exp_val import get_subcircuit_results, get_dict_sampler_results, get_reconstructed_expvals"
   ]
  },
  {
   "cell_type": "markdown",
   "id": "be3f4e61-4039-40d7-8604-bfbad8adbc6a",
   "metadata": {},
   "source": [
    "### Reconstructing for train accuracy"
   ]
  },
  {
   "cell_type": "code",
   "execution_count": null,
   "id": "2331db8c-82ab-43a1-b9c7-2f401fc78493",
   "metadata": {},
   "outputs": [],
   "source": [
    "# final_circuits = [embedding.compose(subex_circuit, inplace=False) for subex_circuit in subexperiments[\"A\"]]"
   ]
  },
  {
   "cell_type": "code",
   "execution_count": null,
   "id": "ed0d1504-3faa-483c-b78e-54ef28d13de2",
   "metadata": {},
   "outputs": [],
   "source": [
    "# final_circuits2 = [embedding.compose(subex_circuit, inplace=False) for subex_circuit in subexperiments[\"B\"]]"
   ]
  },
  {
   "cell_type": "code",
   "execution_count": null,
   "id": "22d2c629-840b-4d59-af33-90cdeb74649b",
   "metadata": {},
   "outputs": [],
   "source": [
    "train_results_A = get_subcircuit_results(x_train_A, final_circuits, optimizer_results_A)\n",
    "train_results_B = get_subcircuit_results(x_train_B, final_circuits2, optimizer_results_B)"
   ]
  },
  {
   "cell_type": "code",
   "execution_count": null,
   "id": "6d812aa1-58ec-4db9-98c5-102d5a7a2611",
   "metadata": {},
   "outputs": [],
   "source": [
    "# Dict of SamplerResults of 6 sub-circuits A and B for each 537 train data inputs\n",
    "A_dict = get_dict_sampler_results(x_train_A, subexperiments[\"A\"], train_results_A)\n",
    "B_dict = get_dict_sampler_results(x_train_B, subexperiments[\"B\"], train_results_B)"
   ]
  },
  {
   "cell_type": "code",
   "execution_count": null,
   "id": "17f6e961-c44f-472c-bbd9-a8989db338ba",
   "metadata": {},
   "outputs": [],
   "source": [
    "reconstructed_expvals = get_reconstructed_expvals(A_dict, B_dict, coefficients, sub_observables)"
   ]
  },
  {
   "cell_type": "code",
   "execution_count": null,
   "id": "5a7d686f-8dbb-4f07-9ba5-b7dabd1f8eed",
   "metadata": {},
   "outputs": [],
   "source": [
    "y_predicted = np.array([np.sign(expval) for expval in reconstructed_expvals])"
   ]
  },
  {
   "cell_type": "code",
   "execution_count": null,
   "id": "307e1bed-0b68-4578-a52c-78974b35a50c",
   "metadata": {},
   "outputs": [],
   "source": [
    "# accuracy_score function encodes y_train inside the function. Therefore, pass original y_train here.\n",
    "train_score = get_accuracy_score(y_train, y_predicted)\n",
    "print(f\"The Train Accuracy of the model is: {train_score}\")"
   ]
  },
  {
   "cell_type": "markdown",
   "id": "ae4897db-5983-4c81-8fdc-7d2fddb947fa",
   "metadata": {},
   "source": [
    "### Reconstructing for test accuracy"
   ]
  },
  {
   "cell_type": "code",
   "execution_count": null,
   "id": "ff3c0935-3633-4ce9-af6a-99b4e7715944",
   "metadata": {},
   "outputs": [],
   "source": [
    "test_results_A = get_subcircuit_results(x_test_A, final_circuits, optimizer_results_A)\n",
    "test_results_B = get_subcircuit_results(x_test_B, final_circuits2, optimizer_results_B)"
   ]
  },
  {
   "cell_type": "code",
   "execution_count": null,
   "id": "ea59d60c-3e63-4210-b67e-3078362bd26b",
   "metadata": {},
   "outputs": [],
   "source": [
    "# Dict of SamplerResults of 6 sub-circuits A and B for each 231 test data inputs\n",
    "A_dict = get_dict_sampler_results(x_test_A, subexperiments[\"A\"], test_results_A)\n",
    "B_dict = get_dict_sampler_results(x_test_B, subexperiments[\"B\"], test_results_B)"
   ]
  },
  {
   "cell_type": "code",
   "execution_count": null,
   "id": "d7c9624b-ab21-4aee-99b7-4749885197dd",
   "metadata": {},
   "outputs": [],
   "source": [
    "reconstructed_expvals = get_reconstructed_expvals(A_dict, B_dict, coefficients, sub_observables)"
   ]
  },
  {
   "cell_type": "code",
   "execution_count": null,
   "id": "69dded00-c876-44e4-a143-5f5bb4032dc0",
   "metadata": {},
   "outputs": [],
   "source": [
    "y_predicted = np.array([np.sign(expval) for expval in reconstructed_expvals])"
   ]
  },
  {
   "cell_type": "code",
   "execution_count": null,
   "id": "f5fd5b7d-5afc-45bc-831b-8e715f7f99af",
   "metadata": {},
   "outputs": [],
   "source": [
    "# Pass original y_test here.\n",
    "test_score = get_accuracy_score(y_test, y_predicted)\n",
    "print(f\"The Test Accuracy of the model is: {test_score}\")"
   ]
  },
  {
   "cell_type": "markdown",
   "id": "a6cc8922-c2a7-416e-8039-cac825d48183",
   "metadata": {},
   "source": [
    "## Finishes here"
   ]
  },
  {
   "cell_type": "code",
   "execution_count": null,
   "id": "24782bae-1bd5-4f80-94b5-c3145aa5ecf1",
   "metadata": {},
   "outputs": [],
   "source": []
  },
  {
   "cell_type": "markdown",
   "id": "40b0e231-939a-489f-8567-6b973a87fdb2",
   "metadata": {},
   "source": [
    "## Test original circuit for x_test[0] (No need to run rn)"
   ]
  },
  {
   "cell_type": "code",
   "execution_count": null,
   "id": "aec16e6c-9909-4fbb-84bb-19daa47e7354",
   "metadata": {},
   "outputs": [],
   "source": [
    "from qiskit_machine_learning.neural_networks import EstimatorQNN\n",
    "from qiskit_machine_learning.algorithms import NeuralNetworkClassifier\n",
    "from qiskit.primitives import BackendEstimator\n",
    "from qiskit_aer import AerSimulator"
   ]
  },
  {
   "cell_type": "code",
   "execution_count": null,
   "id": "cfb7a3be-ddf5-4d96-9bd0-76d02eac5dc2",
   "metadata": {},
   "outputs": [],
   "source": [
    "embedding, features = angle_encoding(8)\n",
    "new_ttn = TTN(num_qubits=8).ttn_simple(complex_structure=False)\n",
    "org_circuit = embedding.compose(new_ttn)\n",
    "# final_circuit.draw()"
   ]
  },
  {
   "cell_type": "code",
   "execution_count": null,
   "id": "dfed65af-ebb2-495b-8258-cb0b5af6c914",
   "metadata": {},
   "outputs": [],
   "source": [
    "gpu_simulator = AerSimulator(device='GPU')\n",
    "simulator = AerSimulator()\n",
    "backend = BackendEstimator(backend=simulator)"
   ]
  },
  {
   "cell_type": "code",
   "execution_count": null,
   "id": "f67c702c-de14-48ee-a04a-e5ae82092c82",
   "metadata": {},
   "outputs": [],
   "source": [
    "observable = SparsePauliOp([\"ZIIIIIII\"])\n",
    "estimator_qnn = EstimatorQNN(\n",
    "    estimator=backend,\n",
    "    circuit=org_circuit,\n",
    "    observables=observable,\n",
    "    input_params=features.params,\n",
    "    weight_params=new_ttn.parameters,\n",
    ")"
   ]
  },
  {
   "cell_type": "code",
   "execution_count": null,
   "id": "d0b6b000-2d96-4d31-8b4e-525712575671",
   "metadata": {},
   "outputs": [],
   "source": [
    "weights = np.random.random(len(new_ttn.parameters))"
   ]
  },
  {
   "cell_type": "code",
   "execution_count": null,
   "id": "268bba60-b00f-4cda-8217-f5ced8f8d27a",
   "metadata": {},
   "outputs": [],
   "source": [
    "# Forward pass\n",
    "output = estimator_qnn.forward(x_train, weights)\n",
    "print(f\"Output shape for {len(x)} samples: {output.shape}\")\n",
    "print(f\"Output of the forward pass for first sample: {output[0]}\")"
   ]
  },
  {
   "cell_type": "code",
   "execution_count": null,
   "id": "723e885f-c12c-44a6-8224-f1e80f457434",
   "metadata": {},
   "outputs": [],
   "source": [
    "# Backward pass\n",
    "_, weights_grad = estimator_qnn.backward(x_train, weights)\n",
    "print(f\"Output shape for {len(x)} samples: {weights_grad.shape}\")\n",
    "print(f\"Output of the backward pass for first sample: {weights_grad[0]}\")"
   ]
  },
  {
   "cell_type": "code",
   "execution_count": null,
   "id": "c36d86e1-a036-4137-b27d-90ab4849f897",
   "metadata": {},
   "outputs": [],
   "source": [
    "initial_point = np.random.random((len(new_ttn.parameters),))"
   ]
  },
  {
   "cell_type": "code",
   "execution_count": null,
   "id": "0fb2319e-c998-487e-af51-26002fd16e21",
   "metadata": {},
   "outputs": [],
   "source": [
    "def encode_y(y):\n",
    "    y_encoded = y.replace({0: -1, 1: 1})\n",
    "    return y_encoded\n",
    "\n",
    "new_y = encode_y(y_test)\n",
    "new_y_train = encode_y(y_train)"
   ]
  },
  {
   "cell_type": "code",
   "execution_count": null,
   "id": "d77f89c6-a938-4068-bfff-08398099255f",
   "metadata": {},
   "outputs": [],
   "source": [
    "classifier = NeuralNetworkClassifier(\n",
    "    estimator,\n",
    "    optimizer=SPSA(maxiter=10, callback=callback),\n",
    "    initial_point=initial_point,\n",
    ")"
   ]
  },
  {
   "cell_type": "code",
   "execution_count": null,
   "id": "370ae6ca-1f60-417a-a7b7-5514280c2bf7",
   "metadata": {},
   "outputs": [],
   "source": [
    "print(len(x_test.values), len(new_y.values))"
   ]
  },
  {
   "cell_type": "code",
   "execution_count": null,
   "id": "be3c666f-dbde-4091-871b-a0afdf836e39",
   "metadata": {},
   "outputs": [],
   "source": [
    "classifier.fit(x_train, new_y_train)"
   ]
  },
  {
   "cell_type": "code",
   "execution_count": null,
   "id": "065c196d-eab9-4924-85d1-2ca43c50ea58",
   "metadata": {},
   "outputs": [],
   "source": [
    "plt.plot(objective_func_vals)\n",
    "plt.xlabel(\"Number of epochs\")\n",
    "plt.title(\"Training loss\")"
   ]
  },
  {
   "cell_type": "code",
   "execution_count": null,
   "id": "0b24d698-69c9-4243-8386-c6414619981d",
   "metadata": {},
   "outputs": [],
   "source": [
    "y_test_pred = classifier.predict(x_test.values[17])\n",
    "y_test_pred"
   ]
  },
  {
   "cell_type": "code",
   "execution_count": null,
   "id": "058ccbbf-3b51-45fc-9149-7b196c685b0b",
   "metadata": {},
   "outputs": [],
   "source": []
  },
  {
   "cell_type": "code",
   "execution_count": null,
   "id": "55fc154f-aa3f-4051-8968-bf5181a6dbb5",
   "metadata": {},
   "outputs": [],
   "source": []
  },
  {
   "cell_type": "code",
   "execution_count": null,
   "id": "57ecde04-79db-49d3-9710-421cfef35b7a",
   "metadata": {},
   "outputs": [],
   "source": []
  },
  {
   "cell_type": "code",
   "execution_count": null,
   "id": "e2cff8e7-8f11-4d34-bf80-31ec886461d5",
   "metadata": {},
   "outputs": [],
   "source": []
  },
  {
   "cell_type": "code",
   "execution_count": null,
   "id": "2a6fc64f-fd49-4220-9642-8b1f3018718d",
   "metadata": {},
   "outputs": [],
   "source": []
  },
  {
   "cell_type": "code",
   "execution_count": null,
   "id": "52b89a65-71e2-4880-bfb1-83fb8d6ca645",
   "metadata": {},
   "outputs": [],
   "source": []
  },
  {
   "cell_type": "code",
   "execution_count": null,
   "id": "1ab51f72-0540-40a6-8b3e-02c723be785f",
   "metadata": {},
   "outputs": [],
   "source": []
  },
  {
   "cell_type": "code",
   "execution_count": null,
   "id": "e11ca7af-c7c2-4cfa-8903-326f48a56a80",
   "metadata": {},
   "outputs": [],
   "source": []
  }
 ],
 "metadata": {
  "kernelspec": {
   "display_name": "conda_braket",
   "language": "python",
   "name": "conda_braket"
  },
  "language_info": {
   "codemirror_mode": {
    "name": "ipython",
    "version": 3
   },
   "file_extension": ".py",
   "mimetype": "text/x-python",
   "name": "python",
   "nbconvert_exporter": "python",
   "pygments_lexer": "ipython3",
   "version": "3.10.13"
  }
 },
 "nbformat": 4,
 "nbformat_minor": 5
}
