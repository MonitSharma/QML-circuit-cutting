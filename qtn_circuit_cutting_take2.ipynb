{
 "cells": [
  {
   "cell_type": "code",
   "execution_count": 1,
   "id": "initial_id",
   "metadata": {
    "ExecuteTime": {
     "end_time": "2024-02-15T18:09:19.320003Z",
     "start_time": "2024-02-15T18:09:19.308526Z"
    }
   },
   "outputs": [
    {
     "name": "stderr",
     "output_type": "stream",
     "text": [
      "/var/folders/3j/3p_dzlvs1nsdfryf9hm7gjnr0000gn/T/ipykernel_83468/4111609774.py:17: DeprecationWarning: ``qiskit.algorithms`` has been migrated to an independent package: https://github.com/qiskit-community/qiskit-algorithms. The ``qiskit.algorithms`` import path is deprecated as of qiskit-terra 0.25.0 and will be removed in Qiskit 1.0. Please run ``pip install qiskit_algorithms`` and use ``import qiskit_algorithms`` instead.\n",
      "  from qiskit.algorithms.optimizers import ADAM, SPSA\n"
     ]
    }
   ],
   "source": [
    "from circuit_knitting.cutting import partition_problem\n",
    "from qiskit.circuit import QuantumCircuit, ParameterVector\n",
    "# from quantum_image_processing.neural_networks import QCNN\n",
    "# from quantum_image_processing.neural_networks.layers import QuantumConvolutionalLayer, QuantumPoolingLayer2, FullyConnectedLayer\n",
    "from qiskit.quantum_info import SparsePauliOp, PauliList\n",
    "import numpy as np\n",
    "import pandas as pd\n",
    "import matplotlib.pyplot as plt\n",
    "from sklearn.model_selection import train_test_split\n",
    "from qiskit.visualization import circuit_drawer\n",
    "from qiskit_machine_learning.neural_networks.estimator_qnn import EstimatorQNN\n",
    "from qiskit_machine_learning.neural_networks.sampler_qnn import SamplerQNN\n",
    "# from quantum_image_processing.data_loader.mnist_data_loader import load_mnist_data\n",
    "# from quantum_image_processing.data_encoder.angle_encoder import angle_encoding\n",
    "from qiskit_machine_learning.algorithms.classifiers import NeuralNetworkClassifier\n",
    "from qiskit_algorithms.optimizers.cobyla import COBYLA\n",
    "from qiskit.algorithms.optimizers import ADAM, SPSA\n",
    "from qiskit_algorithms.utils import algorithm_globals\n",
    "from IPython.display import clear_output"
   ]
  },
  {
   "cell_type": "code",
   "execution_count": 2,
   "id": "3b94d0bd-445c-48c7-949c-11d240fce1a6",
   "metadata": {},
   "outputs": [],
   "source": [
    "seed = 100"
   ]
  },
  {
   "cell_type": "markdown",
   "id": "91c00f7c-def5-4106-bd98-522927f57892",
   "metadata": {},
   "source": [
    "## Data Loading"
   ]
  },
  {
   "cell_type": "code",
   "execution_count": 3,
   "id": "84e0ff14-514d-440f-851a-63c136d80243",
   "metadata": {
    "ExecuteTime": {
     "end_time": "2024-02-15T18:09:20.482075Z",
     "start_time": "2024-02-15T18:09:20.472994Z"
    }
   },
   "outputs": [
    {
     "data": {
      "text/html": [
       "<div>\n",
       "<style scoped>\n",
       "    .dataframe tbody tr th:only-of-type {\n",
       "        vertical-align: middle;\n",
       "    }\n",
       "\n",
       "    .dataframe tbody tr th {\n",
       "        vertical-align: top;\n",
       "    }\n",
       "\n",
       "    .dataframe thead th {\n",
       "        text-align: right;\n",
       "    }\n",
       "</style>\n",
       "<table border=\"1\" class=\"dataframe\">\n",
       "  <thead>\n",
       "    <tr style=\"text-align: right;\">\n",
       "      <th></th>\n",
       "      <th>Pregnancies</th>\n",
       "      <th>Glucose</th>\n",
       "      <th>BloodPressure</th>\n",
       "      <th>SkinThickness</th>\n",
       "      <th>Insulin</th>\n",
       "      <th>BMI</th>\n",
       "      <th>DiabetesPedigreeFunction</th>\n",
       "      <th>Age</th>\n",
       "      <th>Outcome</th>\n",
       "    </tr>\n",
       "  </thead>\n",
       "  <tbody>\n",
       "    <tr>\n",
       "      <th>0</th>\n",
       "      <td>-0.923998</td>\n",
       "      <td>1.531329</td>\n",
       "      <td>0.566517</td>\n",
       "      <td>-0.920265</td>\n",
       "      <td>-3.141593</td>\n",
       "      <td>0.004682</td>\n",
       "      <td>-1.66872</td>\n",
       "      <td>-0.104720</td>\n",
       "      <td>1</td>\n",
       "    </tr>\n",
       "    <tr>\n",
       "      <th>1</th>\n",
       "      <td>-2.771994</td>\n",
       "      <td>-0.457820</td>\n",
       "      <td>0.257508</td>\n",
       "      <td>-1.301064</td>\n",
       "      <td>-3.141593</td>\n",
       "      <td>-0.650792</td>\n",
       "      <td>-2.40918</td>\n",
       "      <td>-2.094395</td>\n",
       "      <td>0</td>\n",
       "    </tr>\n",
       "  </tbody>\n",
       "</table>\n",
       "</div>"
      ],
      "text/plain": [
       "   Pregnancies   Glucose  BloodPressure  SkinThickness   Insulin       BMI  \\\n",
       "0    -0.923998  1.531329       0.566517      -0.920265 -3.141593  0.004682   \n",
       "1    -2.771994 -0.457820       0.257508      -1.301064 -3.141593 -0.650792   \n",
       "\n",
       "   DiabetesPedigreeFunction       Age  Outcome  \n",
       "0                  -1.66872 -0.104720        1  \n",
       "1                  -2.40918 -2.094395        0  "
      ]
     },
     "execution_count": 3,
     "metadata": {},
     "output_type": "execute_result"
    }
   ],
   "source": [
    "# Load data\n",
    "data = pd.read_csv(\"diabetes_normalized.csv\")\n",
    "data = data.drop([\"Unnamed: 0\"], axis=1)\n",
    "# data = data.drop([\"BMI\", \"SkinThickness\", \"Pregnancies\"], axis=1)\n",
    "data.head(2)"
   ]
  },
  {
   "cell_type": "code",
   "execution_count": 4,
   "id": "92a101c1-41f3-4fbe-b1c4-78eee1e9d524",
   "metadata": {
    "ExecuteTime": {
     "end_time": "2024-02-15T18:09:20.926480Z",
     "start_time": "2024-02-15T18:09:20.920864Z"
    }
   },
   "outputs": [],
   "source": [
    "y = data[\"Outcome\"]\n",
    "x = data.drop([\"Outcome\"], axis=1)"
   ]
  },
  {
   "cell_type": "code",
   "execution_count": 5,
   "id": "e8ef2ba7-dda4-41ea-944f-c710c9fc9528",
   "metadata": {
    "ExecuteTime": {
     "end_time": "2024-02-15T18:09:21.304727Z",
     "start_time": "2024-02-15T18:09:21.299733Z"
    }
   },
   "outputs": [
    {
     "name": "stdout",
     "output_type": "stream",
     "text": [
      "(537, 8) (537,) (231, 8) (231,)\n"
     ]
    }
   ],
   "source": [
    "x_train, x_test, y_train, y_test = train_test_split(x, y, test_size=0.3)\n",
    "print(x_train.shape, y_train.shape, x_test.shape, y_test.shape)"
   ]
  },
  {
   "cell_type": "code",
   "execution_count": 6,
   "id": "505092d4-3e8d-4853-9f59-3391739bae30",
   "metadata": {
    "ExecuteTime": {
     "end_time": "2024-02-15T18:09:21.800966Z",
     "start_time": "2024-02-15T18:09:21.796485Z"
    }
   },
   "outputs": [],
   "source": [
    "x_train_A = x_train.iloc[:, :4]\n",
    "x_train_B = x_train.iloc[:, 4:]\n",
    "# x_train.iloc[:, 4:]"
   ]
  },
  {
   "cell_type": "code",
   "execution_count": 7,
   "id": "ea2b1465-28bb-4db5-9541-4ba60e770021",
   "metadata": {
    "ExecuteTime": {
     "end_time": "2024-02-15T18:09:22.250366Z",
     "start_time": "2024-02-15T18:09:22.235445Z"
    }
   },
   "outputs": [],
   "source": [
    "x_test_A = x_test.iloc[:, :4]\n",
    "x_test_B = x_test.iloc[:, 4:]"
   ]
  },
  {
   "cell_type": "code",
   "execution_count": 8,
   "id": "4467065d-0a37-40c0-9161-7671acf78b81",
   "metadata": {
    "ExecuteTime": {
     "end_time": "2024-02-15T18:09:22.800648Z",
     "start_time": "2024-02-15T18:09:22.792642Z"
    }
   },
   "outputs": [],
   "source": [
    "# y_train"
   ]
  },
  {
   "cell_type": "markdown",
   "id": "202a0b22-ad7d-468f-878a-e4569cc6d0fa",
   "metadata": {},
   "source": [
    "## Data Embedding"
   ]
  },
  {
   "cell_type": "code",
   "execution_count": 9,
   "id": "23a08b2f-5a0b-4aa5-96e7-5cd2a4655aaa",
   "metadata": {
    "ExecuteTime": {
     "end_time": "2024-02-15T18:09:23.793347Z",
     "start_time": "2024-02-15T18:09:23.786288Z"
    }
   },
   "outputs": [],
   "source": [
    "# Data Embedding - Angle Encoding\n",
    "def angle_encoding(feature_dims: int):\n",
    "    embedding = QuantumCircuit(feature_dims)\n",
    "    feature_param = ParameterVector(\"Theta\", feature_dims)\n",
    "    for qubit in range(feature_dims):\n",
    "        embedding.ry(feature_param[qubit], qubit)\n",
    "    return embedding, feature_param"
   ]
  },
  {
   "cell_type": "code",
   "execution_count": 10,
   "id": "3cbfc86a-2a27-4381-84ce-2a469fb57661",
   "metadata": {
    "ExecuteTime": {
     "end_time": "2024-02-15T18:09:24.329495Z",
     "start_time": "2024-02-15T18:09:24.321044Z"
    }
   },
   "outputs": [],
   "source": [
    "embedding, feature_params = angle_encoding(4)"
   ]
  },
  {
   "cell_type": "markdown",
   "id": "09640b63-6b10-40b0-837f-7acbc1f88c47",
   "metadata": {},
   "source": [
    "## Tensor Network"
   ]
  },
  {
   "cell_type": "code",
   "execution_count": 11,
   "id": "06ed2511-a0bb-4f5b-85b9-85940a954de3",
   "metadata": {
    "ExecuteTime": {
     "end_time": "2024-02-15T18:09:25.102164Z",
     "start_time": "2024-02-15T18:09:25.070178Z"
    }
   },
   "outputs": [],
   "source": [
    "from ttn import TTN"
   ]
  },
  {
   "cell_type": "code",
   "execution_count": 12,
   "id": "4c2d9089-9292-4580-98e4-6f6287a59473",
   "metadata": {},
   "outputs": [
    {
     "data": {
      "image/png": "[encoded data removed]",
      "text/plain": [
       "<Figure size 705.552x702.333 with 1 Axes>"
      ]
     },
     "execution_count": 12,
     "metadata": {},
     "output_type": "execute_result"
    }
   ],
   "source": [
    "ttn = TTN(num_qubits=8).ttn_simple(complex_structure=False)\n",
    "ttn.draw(\"mpl\", style=\"iqp\")"
   ]
  },
  {
   "cell_type": "code",
   "execution_count": 13,
   "id": "ebafa996-adaf-4060-9f32-21cdb706a932",
   "metadata": {},
   "outputs": [],
   "source": [
    "# ttn.parameters"
   ]
  },
  {
   "cell_type": "markdown",
   "id": "4f81b56c-c727-47cb-94a6-e2b5359d8a19",
   "metadata": {},
   "source": [
    "## Circuit Cutting"
   ]
  },
  {
   "cell_type": "code",
   "execution_count": 14,
   "id": "6cda3f8fc3c6b2d2",
   "metadata": {
    "ExecuteTime": {
     "end_time": "2024-02-15T03:34:50.371027Z",
     "start_time": "2024-02-15T03:34:50.309487Z"
    },
    "collapsed": false,
    "jupyter": {
     "outputs_hidden": false
    }
   },
   "outputs": [],
   "source": [
    "observables = PauliList([\"ZIIIIIII\"])\n",
    "partitioned_problem = partition_problem(circuit=ttn, partition_labels=\"AAAABBBB\", observables=observables)\n",
    "sub_circuits = partitioned_problem.subcircuits\n",
    "sub_observables = partitioned_problem.subobservables\n",
    "bases = partitioned_problem.bases"
   ]
  },
  {
   "cell_type": "code",
   "execution_count": 15,
   "id": "a43241fdcd1decfe",
   "metadata": {
    "ExecuteTime": {
     "end_time": "2024-02-15T03:34:50.869863Z",
     "start_time": "2024-02-15T03:34:50.865500Z"
    },
    "collapsed": false,
    "jupyter": {
     "outputs_hidden": false
    }
   },
   "outputs": [
    {
     "data": {
      "text/plain": [
       "{'A': PauliList(['IIII']), 'B': PauliList(['ZIII'])}"
      ]
     },
     "execution_count": 15,
     "metadata": {},
     "output_type": "execute_result"
    }
   ],
   "source": [
    "sub_observables"
   ]
  },
  {
   "cell_type": "code",
   "execution_count": 16,
   "id": "81331ea7-8123-4e9b-867d-54fd786e3fe2",
   "metadata": {},
   "outputs": [
    {
     "data": {
      "image/png": "[encoded data removed]",
      "text/plain": [
       "<Figure size 723.783x367.889 with 1 Axes>"
      ]
     },
     "execution_count": 16,
     "metadata": {},
     "output_type": "execute_result"
    }
   ],
   "source": [
    "sub_circuits[\"A\"].draw(\"mpl\", style=\"iqp\")"
   ]
  },
  {
   "cell_type": "code",
   "execution_count": 17,
   "id": "2af67465-17d0-4791-8e1c-279835483dc5",
   "metadata": {},
   "outputs": [
    {
     "data": {
      "image/png": "[encoded data removed]",
      "text/plain": [
       "<Figure size 807.596x367.889 with 1 Axes>"
      ]
     },
     "execution_count": 17,
     "metadata": {},
     "output_type": "execute_result"
    }
   ],
   "source": [
    "sub_circuits[\"B\"].draw(\"mpl\", style=\"iqp\")"
   ]
  },
  {
   "cell_type": "code",
   "execution_count": 18,
   "id": "77655d0a6a0d1c81",
   "metadata": {
    "ExecuteTime": {
     "end_time": "2024-02-15T03:35:00.944952Z",
     "start_time": "2024-02-15T03:35:00.935773Z"
    },
    "collapsed": false,
    "jupyter": {
     "outputs_hidden": false
    }
   },
   "outputs": [
    {
     "name": "stdout",
     "output_type": "stream",
     "text": [
      "Sampling overhead: 9.0\n"
     ]
    }
   ],
   "source": [
    "print(f\"Sampling overhead: {np.prod([basis.overhead for basis in bases])}\")"
   ]
  },
  {
   "cell_type": "markdown",
   "id": "2df0c32d-bfd9-407f-b867-d08632f53764",
   "metadata": {},
   "source": [
    "### Sub Experiments"
   ]
  },
  {
   "cell_type": "code",
   "execution_count": 19,
   "id": "a3327e421fea3182",
   "metadata": {
    "ExecuteTime": {
     "end_time": "2024-02-15T03:35:05.890185Z",
     "start_time": "2024-02-15T03:35:05.693811Z"
    },
    "collapsed": false,
    "jupyter": {
     "outputs_hidden": false
    }
   },
   "outputs": [],
   "source": [
    "from circuit_knitting.cutting import generate_cutting_experiments\n",
    "\n",
    "subexperiments, coefficients = generate_cutting_experiments(\n",
    "    circuits=sub_circuits, observables=sub_observables, num_samples=np.inf\n",
    ")"
   ]
  },
  {
   "cell_type": "code",
   "execution_count": 20,
   "id": "560e4327-900d-4758-b747-7ae311fe2902",
   "metadata": {},
   "outputs": [
    {
     "data": {
      "text/plain": [
       "6"
      ]
     },
     "execution_count": 20,
     "metadata": {},
     "output_type": "execute_result"
    }
   ],
   "source": [
    "# subexperiments\n",
    "len(subexperiments[\"A\"])"
   ]
  },
  {
   "cell_type": "code",
   "execution_count": 21,
   "id": "5cb2b2aa32d6d16b",
   "metadata": {
    "ExecuteTime": {
     "end_time": "2024-02-15T03:35:14.153045Z",
     "start_time": "2024-02-15T03:35:14.062981Z"
    },
    "collapsed": false,
    "jupyter": {
     "outputs_hidden": false
    }
   },
   "outputs": [
    {
     "data": {
      "image/png": "[encoded data removed]",
      "text/plain": [
       "<Figure size 1060.9x451.5 with 1 Axes>"
      ]
     },
     "execution_count": 21,
     "metadata": {},
     "output_type": "execute_result"
    }
   ],
   "source": [
    "subexperiments[\"A\"][0].draw(\"mpl\", style=\"iqp\")"
   ]
  },
  {
   "cell_type": "code",
   "execution_count": 22,
   "id": "8a0e854a-f742-4b19-8367-8155a54ab2b5",
   "metadata": {},
   "outputs": [
    {
     "data": {
      "image/png": "[encoded data removed]",
      "text/plain": [
       "<Figure size 1311.74x451.5 with 1 Axes>"
      ]
     },
     "execution_count": 22,
     "metadata": {},
     "output_type": "execute_result"
    }
   ],
   "source": [
    "subexperiments[\"B\"][3].draw(\"mpl\", style=\"iqp\")"
   ]
  },
  {
   "cell_type": "markdown",
   "id": "8cce6334-c721-40fc-b46e-f720eae969c0",
   "metadata": {},
   "source": [
    "## Neural Network Training"
   ]
  },
  {
   "cell_type": "code",
   "execution_count": 23,
   "id": "2504dedb-a5f4-4d4e-b75d-1b0bed7615e4",
   "metadata": {},
   "outputs": [],
   "source": [
    "from qiskit_machine_learning.neural_networks import SamplerQNN, NeuralNetwork\n",
    "from qiskit_aer.primitives import Sampler\n",
    "from typing import Callable"
   ]
  },
  {
   "cell_type": "markdown",
   "id": "b7c252b4-15d2-44e7-a577-329c684c5c78",
   "metadata": {},
   "source": [
    "### Sampler"
   ]
  },
  {
   "cell_type": "code",
   "execution_count": 24,
   "id": "0e55d30c-e279-4f58-bfe6-e9a6d9c7d446",
   "metadata": {},
   "outputs": [],
   "source": [
    "from custom_sampler_qnn import CustomSampler"
   ]
  },
  {
   "cell_type": "markdown",
   "id": "5926c303-49fe-4052-b910-9e0763014904",
   "metadata": {},
   "source": [
    "#### For subexperiments[\"A\"]"
   ]
  },
  {
   "cell_type": "code",
   "execution_count": 25,
   "id": "5aefce4e-f3fb-4694-91a3-a5161d74aee1",
   "metadata": {},
   "outputs": [],
   "source": [
    "final_circuits = [embedding.compose(subex_circuit, inplace=False) for subex_circuit in subexperiments[\"A\"]]\n",
    "# final_circuits[0].draw(\"mpl\")"
   ]
  },
  {
   "cell_type": "code",
   "execution_count": 26,
   "id": "8853b9e4-a866-43f5-a908-e1f0d968c765",
   "metadata": {},
   "outputs": [],
   "source": [
    "sampler_qcnn = CustomSampler(\n",
    "    circuits=final_circuits, \n",
    "    input_params=feature_params.params,\n",
    "    weight_params=sub_circuits[\"A\"].parameters,\n",
    "    # output_shape=4,\n",
    "    input_gradients=False,\n",
    ")"
   ]
  },
  {
   "cell_type": "code",
   "execution_count": null,
   "id": "f60076a5-2776-4eb9-b316-5e0b71ace948",
   "metadata": {},
   "outputs": [],
   "source": [
    "weights_A = algorithm_globals.random.random(7)\n",
    "# forward_output, forward_sampler_result\n",
    "\n",
    "forward_output = sampler_qcnn.forward(\n",
    "    input_data=x_train_A,\n",
    "    weights=weights_A,\n",
    ")"
   ]
  },
  {
   "cell_type": "code",
   "execution_count": null,
   "id": "f534f8b7-9104-4101-9646-8e0760fea432",
   "metadata": {},
   "outputs": [],
   "source": [
    "# forward output is a dictionary of 6 subex_circ items.\n",
    "print(f\"Output shape for {len(x_train_A)} samples: {forward_output[0].shape}\")\n",
    "print(len(forward_output[0]))\n",
    "print(f\"Output of the forward pass for first sample: \\n{np.array([forward_output[i][0] for i in range(6)])}\")"
   ]
  },
  {
   "cell_type": "code",
   "execution_count": null,
   "id": "e54e747c-4e5e-42af-8a47-8730343ba655",
   "metadata": {},
   "outputs": [],
   "source": [
    "# OLD\n",
    "# forward_output_quasi_dists = {\n",
    "#     index: result.quasi_dists \n",
    "#     for index, result in forward_output.items()\n",
    "# }\n",
    "\n",
    "# print(\"Forward output\", forward_output)\n",
    "# print(forward_output_quasi_dists[0][0])\n",
    "# print(f\"Total results for per sample: {len(forward_output_quasi_dists)}\")\n",
    "# print(f\"Total samples: {len(forward_output_quasi_dists[0])}\")"
   ]
  },
  {
   "cell_type": "code",
   "execution_count": null,
   "id": "d59acee2-9e90-4105-92bd-ee4801a2db86",
   "metadata": {},
   "outputs": [],
   "source": [
    "input_grad, weights_grad = sampler_qcnn.backward(\n",
    "    input_data=x_train_A,\n",
    "    weights=weights_A\n",
    ")"
   ]
  },
  {
   "cell_type": "code",
   "execution_count": null,
   "id": "9b081ccf-6d7b-4d8b-bece-61518575b4cc",
   "metadata": {},
   "outputs": [],
   "source": [
    "print(f\"Output shape for {len(x_train_A)} samples: {weights_grad[0].shape}\")\n",
    "print(f\"Output of the backward pass for first sample for first subexperiment circuit: \\n{np.array([weights_grad[i][0] for i in range(6)])}\")"
   ]
  },
  {
   "cell_type": "code",
   "execution_count": null,
   "id": "e0303445-0e48-42e7-a286-4dd7a7c6a30b",
   "metadata": {},
   "outputs": [],
   "source": [
    "# OLD\n",
    "# backward_output_gradients = {\n",
    "#     index: result.gradients \n",
    "#     for index, result in backward_output.items()\n",
    "# }\n",
    "# backward_output_gradients\n",
    "\n",
    "# Gradients per parameter value\n",
    "# print(f\"Gradients of {len(backward_output_gradients[0][0])} parameters are: {backward_output_gradients[0][0]}\")\n",
    "# print(f\"Total results for per sample: {len(backward_output_gradients)}\")\n",
    "# print(f\"Total samples: {len(backward_output_gradients[0])}\")"
   ]
  },
  {
   "cell_type": "markdown",
   "id": "bf7a3765-0f3f-434b-bbad-adb88c863fc7",
   "metadata": {},
   "source": [
    "#### For subexperiments[\"B\"]"
   ]
  },
  {
   "cell_type": "code",
   "execution_count": 27,
   "id": "476fd0f1-1156-4a1a-96a8-17a2c1812c49",
   "metadata": {},
   "outputs": [],
   "source": [
    "final_circuits2 = [embedding.compose(subex_circuit, inplace=False) for subex_circuit in subexperiments[\"B\"]]"
   ]
  },
  {
   "cell_type": "code",
   "execution_count": 28,
   "id": "c4cb1766-d548-4c35-b0c5-c612372e0d7c",
   "metadata": {},
   "outputs": [],
   "source": [
    "sampler_qcnn2 = CustomSampler(\n",
    "    circuits=final_circuits2, \n",
    "    input_params=feature_params.params,\n",
    "    weight_params=sub_circuits[\"B\"].parameters,\n",
    ")"
   ]
  },
  {
   "cell_type": "code",
   "execution_count": null,
   "id": "35b3ceb5-5e16-4f30-b89d-56a5651c7f1c",
   "metadata": {},
   "outputs": [],
   "source": [
    "weights_B = algorithm_globals.random.random(8)\n",
    "forward_output2 = sampler_qcnn2._forward(\n",
    "    input_data=x_train_B,\n",
    "    weights=weights_B,\n",
    ")"
   ]
  },
  {
   "cell_type": "code",
   "execution_count": null,
   "id": "fc2aef81-e8c6-4b1b-a563-2dd41b3e27d4",
   "metadata": {},
   "outputs": [],
   "source": [
    "print(f\"Output shape for {len(x_train_A)} samples: {forward_output2[0].shape}\")\n",
    "print(len(forward_output2[0]))\n",
    "print(f\"Output of the forward pass for first sample: \\n{np.array([forward_output2[i][0] for i in range(6)])}\")"
   ]
  },
  {
   "cell_type": "code",
   "execution_count": null,
   "id": "734f3787-0de1-44f5-8c66-c7f1425d9f11",
   "metadata": {},
   "outputs": [],
   "source": [
    "input_grad2, weights_grad2 = sampler_qcnn2._backward(\n",
    "    input_data=x_train_B,\n",
    "    weights=weights_B\n",
    ")"
   ]
  },
  {
   "cell_type": "code",
   "execution_count": null,
   "id": "e91322c9-7a6e-4b7c-8c5d-b298dba19b07",
   "metadata": {},
   "outputs": [],
   "source": [
    "print(f\"Output shape for {len(x_train_B)} samples: {weights_grad2[0].shape}\")\n",
    "print(f\"Output of the backward pass for first sample for first subexperiment circuit: \\n{np.array([weights_grad2[i][0] for i in range(6)])}\")"
   ]
  },
  {
   "cell_type": "markdown",
   "id": "e2a06478-fc97-4380-ba04-fa7931553652",
   "metadata": {
    "jp-MarkdownHeadingCollapsed": true
   },
   "source": [
    "## Trying NeuralNetworkClassifier (Skip for now, go manual)"
   ]
  },
  {
   "cell_type": "code",
   "execution_count": 34,
   "id": "471313a2-417d-48f3-8013-1bbaaa2d5ac7",
   "metadata": {},
   "outputs": [],
   "source": [
    "# objective_func_vals = []\n",
    "# initial_point = np.random.random((7,))\n",
    "# classifier = CustomNeuralNetworkClassifier(\n",
    "#     neural_network=sampler_qcnn,\n",
    "#     optimizer=SPSA(maxiter=10, callback=callback),\n",
    "#     initial_point=initial_point,\n",
    "#     callback=callback,\n",
    "#     objective=function.objective0,\n",
    "#     gradient=function.gradient0\n",
    "# )"
   ]
  },
  {
   "cell_type": "code",
   "execution_count": 35,
   "id": "7ce69aeb-7838-4ef0-a40b-a0718bf0c5ee",
   "metadata": {},
   "outputs": [
    {
     "name": "stdout",
     "output_type": "stream",
     "text": [
      "SPSA Epoch 1: 0.46758\n",
      "SPSA Epoch 2: 0.40651\n",
      "SPSA Epoch 3: 0.37925\n",
      "SPSA Epoch 4: 0.36541\n",
      "SPSA Epoch 5: 0.35786\n",
      "SPSA Epoch 6: 0.35567\n",
      "SPSA Epoch 7: 0.35318\n",
      "SPSA Epoch 8: 0.35170\n",
      "SPSA Epoch 9: 0.35192\n",
      "SPSA Epoch 10: 0.35089\n"
     ]
    },
    {
     "data": {
      "text/plain": [
       "<custom_neural_network_classifier.CustomNeuralNetworkClassifier at 0x177834b50>"
      ]
     },
     "execution_count": 35,
     "metadata": {},
     "output_type": "execute_result"
    }
   ],
   "source": [
    "# classifier.fit(x_train_A, y_train)"
   ]
  },
  {
   "cell_type": "code",
   "execution_count": 45,
   "id": "ba1d72b2-5526-4bb6-afa2-ff9794f96619",
   "metadata": {},
   "outputs": [
    {
     "ename": "AxisError",
     "evalue": "axis 1 is out of bounds for array of dimension 1",
     "output_type": "error",
     "traceback": [
      "\u001b[0;31m---------------------------------------------------------------------------\u001b[0m",
      "\u001b[0;31mAxisError\u001b[0m                                 Traceback (most recent call last)",
      "Cell \u001b[0;32mIn[45], line 1\u001b[0m\n\u001b[0;32m----> 1\u001b[0m \u001b[43mclassifier\u001b[49m\u001b[38;5;241;43m.\u001b[39;49m\u001b[43mscore\u001b[49m\u001b[43m(\u001b[49m\u001b[43mx_train_A\u001b[49m\u001b[43m,\u001b[49m\u001b[43m \u001b[49m\u001b[43my_train\u001b[49m\u001b[43m)\u001b[49m\n",
      "File \u001b[0;32m~/Documents/gitRepos/QML-circuit-cutting/custom_neural_network_classifier.py:110\u001b[0m, in \u001b[0;36mCustomNeuralNetworkClassifier.score\u001b[0;34m(self, X, y, sample_weight)\u001b[0m\n\u001b[1;32m    109\u001b[0m \u001b[38;5;28;01mdef\u001b[39;00m \u001b[38;5;21mscore\u001b[39m(\u001b[38;5;28mself\u001b[39m, X: np\u001b[38;5;241m.\u001b[39mndarray, y: np\u001b[38;5;241m.\u001b[39mndarray, sample_weight: np\u001b[38;5;241m.\u001b[39mndarray \u001b[38;5;241m|\u001b[39m \u001b[38;5;28;01mNone\u001b[39;00m \u001b[38;5;241m=\u001b[39m \u001b[38;5;28;01mNone\u001b[39;00m) \u001b[38;5;241m-\u001b[39m\u001b[38;5;241m>\u001b[39m \u001b[38;5;28mfloat\u001b[39m:\n\u001b[0;32m--> 110\u001b[0m     \u001b[38;5;28;01mreturn\u001b[39;00m \u001b[43mClassifierMixin\u001b[49m\u001b[38;5;241;43m.\u001b[39;49m\u001b[43mscore\u001b[49m\u001b[43m(\u001b[49m\u001b[38;5;28;43mself\u001b[39;49m\u001b[43m,\u001b[49m\u001b[43m \u001b[49m\u001b[43mX\u001b[49m\u001b[43m,\u001b[49m\u001b[43m \u001b[49m\u001b[43my\u001b[49m\u001b[43m,\u001b[49m\u001b[43m \u001b[49m\u001b[43msample_weight\u001b[49m\u001b[43m)\u001b[49m\n",
      "File \u001b[0;32m~/anaconda3/envs/qiskit_x86/lib/python3.8/site-packages/sklearn/base.py:706\u001b[0m, in \u001b[0;36mClassifierMixin.score\u001b[0;34m(self, X, y, sample_weight)\u001b[0m\n\u001b[1;32m    681\u001b[0m \u001b[38;5;250m\u001b[39m\u001b[38;5;124;03m\"\"\"\u001b[39;00m\n\u001b[1;32m    682\u001b[0m \u001b[38;5;124;03mReturn the mean accuracy on the given test data and labels.\u001b[39;00m\n\u001b[1;32m    683\u001b[0m \n\u001b[0;32m   (...)\u001b[0m\n\u001b[1;32m    702\u001b[0m \u001b[38;5;124;03m    Mean accuracy of ``self.predict(X)`` w.r.t. `y`.\u001b[39;00m\n\u001b[1;32m    703\u001b[0m \u001b[38;5;124;03m\"\"\"\u001b[39;00m\n\u001b[1;32m    704\u001b[0m \u001b[38;5;28;01mfrom\u001b[39;00m \u001b[38;5;21;01m.\u001b[39;00m\u001b[38;5;21;01mmetrics\u001b[39;00m \u001b[38;5;28;01mimport\u001b[39;00m accuracy_score\n\u001b[0;32m--> 706\u001b[0m \u001b[38;5;28;01mreturn\u001b[39;00m accuracy_score(y, \u001b[38;5;28;43mself\u001b[39;49m\u001b[38;5;241;43m.\u001b[39;49m\u001b[43mpredict\u001b[49m\u001b[43m(\u001b[49m\u001b[43mX\u001b[49m\u001b[43m)\u001b[49m, sample_weight\u001b[38;5;241m=\u001b[39msample_weight)\n",
      "File \u001b[0;32m~/Documents/gitRepos/QML-circuit-cutting/custom_neural_network_classifier.py:100\u001b[0m, in \u001b[0;36mCustomNeuralNetworkClassifier.predict\u001b[0;34m(self, X)\u001b[0m\n\u001b[1;32m     98\u001b[0m \u001b[38;5;28;01melse\u001b[39;00m:\n\u001b[1;32m     99\u001b[0m     forward \u001b[38;5;241m=\u001b[39m \u001b[38;5;28mself\u001b[39m\u001b[38;5;241m.\u001b[39m_neural_network\u001b[38;5;241m.\u001b[39mforward(X, \u001b[38;5;28mself\u001b[39m\u001b[38;5;241m.\u001b[39m_fit_result\u001b[38;5;241m.\u001b[39mx)\n\u001b[0;32m--> 100\u001b[0m     predict_ \u001b[38;5;241m=\u001b[39m \u001b[43mnp\u001b[49m\u001b[38;5;241;43m.\u001b[39;49m\u001b[43margmax\u001b[49m\u001b[43m(\u001b[49m\u001b[43mforward\u001b[49m\u001b[43m,\u001b[49m\u001b[43m \u001b[49m\u001b[43maxis\u001b[49m\u001b[38;5;241;43m=\u001b[39;49m\u001b[38;5;241;43m1\u001b[39;49m\u001b[43m)\u001b[49m\n\u001b[1;32m    101\u001b[0m     \u001b[38;5;28;01mif\u001b[39;00m \u001b[38;5;28mself\u001b[39m\u001b[38;5;241m.\u001b[39m_one_hot:\n\u001b[1;32m    102\u001b[0m         predict \u001b[38;5;241m=\u001b[39m np\u001b[38;5;241m.\u001b[39mzeros(forward\u001b[38;5;241m.\u001b[39mshape)\n",
      "File \u001b[0;32m<__array_function__ internals>:180\u001b[0m, in \u001b[0;36margmax\u001b[0;34m(*args, **kwargs)\u001b[0m\n",
      "File \u001b[0;32m~/anaconda3/envs/qiskit_x86/lib/python3.8/site-packages/numpy/core/fromnumeric.py:1216\u001b[0m, in \u001b[0;36margmax\u001b[0;34m(a, axis, out, keepdims)\u001b[0m\n\u001b[1;32m   1129\u001b[0m \u001b[38;5;250m\u001b[39m\u001b[38;5;124;03m\"\"\"\u001b[39;00m\n\u001b[1;32m   1130\u001b[0m \u001b[38;5;124;03mReturns the indices of the maximum values along an axis.\u001b[39;00m\n\u001b[1;32m   1131\u001b[0m \n\u001b[0;32m   (...)\u001b[0m\n\u001b[1;32m   1213\u001b[0m \u001b[38;5;124;03m(2, 1, 4)\u001b[39;00m\n\u001b[1;32m   1214\u001b[0m \u001b[38;5;124;03m\"\"\"\u001b[39;00m\n\u001b[1;32m   1215\u001b[0m kwds \u001b[38;5;241m=\u001b[39m {\u001b[38;5;124m'\u001b[39m\u001b[38;5;124mkeepdims\u001b[39m\u001b[38;5;124m'\u001b[39m: keepdims} \u001b[38;5;28;01mif\u001b[39;00m keepdims \u001b[38;5;129;01mis\u001b[39;00m \u001b[38;5;129;01mnot\u001b[39;00m np\u001b[38;5;241m.\u001b[39m_NoValue \u001b[38;5;28;01melse\u001b[39;00m {}\n\u001b[0;32m-> 1216\u001b[0m \u001b[38;5;28;01mreturn\u001b[39;00m \u001b[43m_wrapfunc\u001b[49m\u001b[43m(\u001b[49m\u001b[43ma\u001b[49m\u001b[43m,\u001b[49m\u001b[43m \u001b[49m\u001b[38;5;124;43m'\u001b[39;49m\u001b[38;5;124;43margmax\u001b[39;49m\u001b[38;5;124;43m'\u001b[39;49m\u001b[43m,\u001b[49m\u001b[43m \u001b[49m\u001b[43maxis\u001b[49m\u001b[38;5;241;43m=\u001b[39;49m\u001b[43maxis\u001b[49m\u001b[43m,\u001b[49m\u001b[43m \u001b[49m\u001b[43mout\u001b[49m\u001b[38;5;241;43m=\u001b[39;49m\u001b[43mout\u001b[49m\u001b[43m,\u001b[49m\u001b[43m \u001b[49m\u001b[38;5;241;43m*\u001b[39;49m\u001b[38;5;241;43m*\u001b[39;49m\u001b[43mkwds\u001b[49m\u001b[43m)\u001b[49m\n",
      "File \u001b[0;32m~/anaconda3/envs/qiskit_x86/lib/python3.8/site-packages/numpy/core/fromnumeric.py:54\u001b[0m, in \u001b[0;36m_wrapfunc\u001b[0;34m(obj, method, *args, **kwds)\u001b[0m\n\u001b[1;32m     52\u001b[0m bound \u001b[38;5;241m=\u001b[39m \u001b[38;5;28mgetattr\u001b[39m(obj, method, \u001b[38;5;28;01mNone\u001b[39;00m)\n\u001b[1;32m     53\u001b[0m \u001b[38;5;28;01mif\u001b[39;00m bound \u001b[38;5;129;01mis\u001b[39;00m \u001b[38;5;28;01mNone\u001b[39;00m:\n\u001b[0;32m---> 54\u001b[0m     \u001b[38;5;28;01mreturn\u001b[39;00m \u001b[43m_wrapit\u001b[49m\u001b[43m(\u001b[49m\u001b[43mobj\u001b[49m\u001b[43m,\u001b[49m\u001b[43m \u001b[49m\u001b[43mmethod\u001b[49m\u001b[43m,\u001b[49m\u001b[43m \u001b[49m\u001b[38;5;241;43m*\u001b[39;49m\u001b[43margs\u001b[49m\u001b[43m,\u001b[49m\u001b[43m \u001b[49m\u001b[38;5;241;43m*\u001b[39;49m\u001b[38;5;241;43m*\u001b[39;49m\u001b[43mkwds\u001b[49m\u001b[43m)\u001b[49m\n\u001b[1;32m     56\u001b[0m \u001b[38;5;28;01mtry\u001b[39;00m:\n\u001b[1;32m     57\u001b[0m     \u001b[38;5;28;01mreturn\u001b[39;00m bound(\u001b[38;5;241m*\u001b[39margs, \u001b[38;5;241m*\u001b[39m\u001b[38;5;241m*\u001b[39mkwds)\n",
      "File \u001b[0;32m~/anaconda3/envs/qiskit_x86/lib/python3.8/site-packages/numpy/core/fromnumeric.py:43\u001b[0m, in \u001b[0;36m_wrapit\u001b[0;34m(obj, method, *args, **kwds)\u001b[0m\n\u001b[1;32m     41\u001b[0m \u001b[38;5;28;01mexcept\u001b[39;00m \u001b[38;5;167;01mAttributeError\u001b[39;00m:\n\u001b[1;32m     42\u001b[0m     wrap \u001b[38;5;241m=\u001b[39m \u001b[38;5;28;01mNone\u001b[39;00m\n\u001b[0;32m---> 43\u001b[0m result \u001b[38;5;241m=\u001b[39m \u001b[38;5;28;43mgetattr\u001b[39;49m\u001b[43m(\u001b[49m\u001b[43masarray\u001b[49m\u001b[43m(\u001b[49m\u001b[43mobj\u001b[49m\u001b[43m)\u001b[49m\u001b[43m,\u001b[49m\u001b[43m \u001b[49m\u001b[43mmethod\u001b[49m\u001b[43m)\u001b[49m\u001b[43m(\u001b[49m\u001b[38;5;241;43m*\u001b[39;49m\u001b[43margs\u001b[49m\u001b[43m,\u001b[49m\u001b[43m \u001b[49m\u001b[38;5;241;43m*\u001b[39;49m\u001b[38;5;241;43m*\u001b[39;49m\u001b[43mkwds\u001b[49m\u001b[43m)\u001b[49m\n\u001b[1;32m     44\u001b[0m \u001b[38;5;28;01mif\u001b[39;00m wrap:\n\u001b[1;32m     45\u001b[0m     \u001b[38;5;28;01mif\u001b[39;00m \u001b[38;5;129;01mnot\u001b[39;00m \u001b[38;5;28misinstance\u001b[39m(result, mu\u001b[38;5;241m.\u001b[39mndarray):\n",
      "\u001b[0;31mAxisError\u001b[0m: axis 1 is out of bounds for array of dimension 1"
     ]
    }
   ],
   "source": [
    "# classifier.score(x_train_A, y_train)"
   ]
  },
  {
   "cell_type": "markdown",
   "id": "49fdb89d-3094-44a5-8aae-078836e29602",
   "metadata": {},
   "source": [
    "## Loss and Optimization"
   ]
  },
  {
   "cell_type": "code",
   "execution_count": 29,
   "id": "73d6684f-d62d-452e-a503-5676541f9a4d",
   "metadata": {},
   "outputs": [],
   "source": [
    "from qiskit_machine_learning.utils.loss_functions import L2Loss\n",
    "from qiskit_algorithms.optimizers import COBYLA, SPSA, GradientDescent\n",
    "from objective_func import CustomMultiClassObjectiveFunction\n",
    "from optimization import create_objective, minimizer, print_optimizer_results\n",
    "# from custom_neural_network_classifier import CustomNeuralNetworkClassifier"
   ]
  },
  {
   "cell_type": "code",
   "execution_count": 30,
   "id": "a795c0c0-88f0-44f3-9de9-dc333d2d6466",
   "metadata": {},
   "outputs": [],
   "source": [
    "def callback(nfev=None, params=None, fval=None, stepsize=None, accepted=None):\n",
    "    \"\"\"\n",
    "    nfev: the number of function evals\n",
    "    params: the current parameters\n",
    "    fval: the current function value\n",
    "    stepsize: size of the update step\n",
    "    accepted: whether the step was accepted (not used for )\n",
    "    \"\"\"\n",
    "    # objective_func_vals = loss\n",
    "    global objective_func_vals\n",
    "\n",
    "    if (nfev % 3) == 0:\n",
    "        objective_func_vals.append(fval)\n",
    "        print(f\"SPSA Epoch {len(objective_func_vals)}: {fval:.5f}\")"
   ]
  },
  {
   "cell_type": "code",
   "execution_count": 31,
   "id": "00fcbea5-d74a-4227-aa21-ae9fe3892fea",
   "metadata": {},
   "outputs": [],
   "source": [
    "objective_func_vals = []\n",
    "loss = L2Loss()\n",
    "# optimizer = COBYLA(maxiter=10)\n",
    "optimizer = SPSA(maxiter=1, callback=callback)\n",
    "# optimizer = GradientDescent(maxiter=2) # This doesn't work yet. The gradient shape doesn't match.\n",
    "\n",
    "# Reshape the array into shape (537, 6, 16)\n",
    "# new_y_train = np.tile(y_train, 6 * 16)\n",
    "# print(y_train.shape, new_y_train.shape)"
   ]
  },
  {
   "cell_type": "markdown",
   "id": "dba6ba3e-791d-4f6a-92d8-116d7e03d4d6",
   "metadata": {},
   "source": [
    "#### Optimizer Result for sub-circuits[\"A\"]"
   ]
  },
  {
   "cell_type": "code",
   "execution_count": 32,
   "id": "bc3ab8f7-1902-4c28-bcd3-13035cd4c0d5",
   "metadata": {},
   "outputs": [],
   "source": [
    "# objective = create_objective(x_train_A, y_train, sampler_qcnn, loss)\n",
    "initial_point = np.random.random((7,))\n",
    "function = CustomMultiClassObjectiveFunction(x_train_A, y_train, sampler_qcnn, loss)"
   ]
  },
  {
   "cell_type": "code",
   "execution_count": null,
   "id": "5ea49833-ee29-4cdf-8dff-4e2e977ffa15",
   "metadata": {},
   "outputs": [],
   "source": [
    "# function.objective0(initial_point)"
   ]
  },
  {
   "cell_type": "code",
   "execution_count": null,
   "id": "98e43127-7fa2-4a91-b548-bc2480f7efb2",
   "metadata": {},
   "outputs": [],
   "source": [
    "# function.gradient0(initial_point)"
   ]
  },
  {
   "cell_type": "code",
   "execution_count": 33,
   "id": "8269a9e8-beae-4ee3-b9da-2f727af3b1f4",
   "metadata": {},
   "outputs": [
    {
     "name": "stdout",
     "output_type": "stream",
     "text": [
      "SPSA Epoch 1: 0.45863\n",
      "{   'fun': 0.4586279387802607,\n",
      "    'jac': None,\n",
      "    'nfev': 3,\n",
      "    'nit': 1,\n",
      "    'njev': None,\n",
      "    'x': array([ 1.16411378, -0.57118515,  1.34299817, -0.3134175 ,  0.82140739,\n",
      "        1.04558358,  1.09282875])}\n",
      "SPSA Epoch 2: 0.45931\n",
      "{   'fun': 0.45931171438547486,\n",
      "    'jac': None,\n",
      "    'nfev': 3,\n",
      "    'nit': 1,\n",
      "    'njev': None,\n",
      "    'x': array([ 1.16609565, -0.57316703,  0.09091661,  0.93866407, -0.43067418,\n",
      "       -0.20649799, -0.15925281])}\n",
      "SPSA Epoch 3: 2.23764\n",
      "{   'fun': 2.2376447567504654,\n",
      "    'jac': None,\n",
      "    'nfev': 3,\n",
      "    'nit': 1,\n",
      "    'njev': None,\n",
      "    'x': array([ 0.22679205, -0.25840719,  0.40567645,  0.62390423,  0.50862943,\n",
      "        0.10826185,  0.78005079])}\n",
      "SPSA Epoch 4: 2.27193\n",
      "{   'fun': 2.2719317388268156,\n",
      "    'jac': None,\n",
      "    'nfev': 3,\n",
      "    'nit': 1,\n",
      "    'njev': None,\n",
      "    'x': array([ 1.19401722,  0.70881798,  1.37290162, -0.34332094,  0.85131083,\n",
      "        1.07548702,  1.1227322 ])}\n",
      "SPSA Epoch 5: 0.45649\n",
      "{   'fun': 0.456492958566108,\n",
      "    'jac': None,\n",
      "    'nfev': 3,\n",
      "    'nit': 1,\n",
      "    'njev': None,\n",
      "    'x': array([ 1.18105915,  0.69585991,  1.35994354, -0.33036287,  0.83835276,\n",
      "       -0.22146148, -0.1742163 ])}\n",
      "SPSA Epoch 6: 0.45997\n",
      "{   'fun': 0.4599736673649907,\n",
      "    'jac': None,\n",
      "    'nfev': 3,\n",
      "    'nit': 1,\n",
      "    'njev': None,\n",
      "    'x': array([ 1.1533038 ,  0.66810456,  0.10370846,  0.92587221, -0.41788233,\n",
      "       -0.19370614, -0.14646096])}\n"
     ]
    }
   ],
   "source": [
    "# Optimizer result for 0th circuit for sub-circuit-A\n",
    "optimizer_result_A0 = minimizer(function, function.objective0, function.gradient0, initial_point, optimizer)\n",
    "optimizer_result_A1 = minimizer(function, function.objective1, function.gradient1, initial_point, optimizer)\n",
    "optimizer_result_A2 = minimizer(function, function.objective2, function.gradient2, initial_point, optimizer)\n",
    "optimizer_result_A3 = minimizer(function, function.objective3, function.gradient3, initial_point, optimizer)\n",
    "optimizer_result_A4 = minimizer(function, function.objective4, function.gradient4, initial_point, optimizer)\n",
    "optimizer_result_A5 = minimizer(function, function.objective5, function.gradient5, initial_point, optimizer)"
   ]
  },
  {
   "cell_type": "code",
   "execution_count": 34,
   "id": "3d06fd73-6d5f-4251-b91f-7803a4eb8098",
   "metadata": {},
   "outputs": [],
   "source": [
    "optimizer_results_A = [optimizer_result_A0, optimizer_result_A1, optimizer_result_A2, optimizer_result_A3, optimizer_result_A4, optimizer_result_A5]"
   ]
  },
  {
   "cell_type": "code",
   "execution_count": 35,
   "id": "62002702-1c92-4bec-942b-7a6cfa2ee79d",
   "metadata": {},
   "outputs": [
    {
     "name": "stdout",
     "output_type": "stream",
     "text": [
      "New params (The final point of the minimization): [ 1.16411378 -0.57118515  1.34299817 -0.3134175   0.82140739  1.04558358\n",
      "  1.09282875]\n",
      "The final value of the minimization: 0.4586279387802607\n",
      "The final gradient of the minimization: None\n",
      "The total number of function evaluations: 3\n",
      "The total number of gradient evaluations: None\n",
      "The total number of iterations: 1\n",
      "New params (The final point of the minimization): [ 1.16609565 -0.57316703  0.09091661  0.93866407 -0.43067418 -0.20649799\n",
      " -0.15925281]\n",
      "The final value of the minimization: 0.45931171438547486\n",
      "The final gradient of the minimization: None\n",
      "The total number of function evaluations: 3\n",
      "The total number of gradient evaluations: None\n",
      "The total number of iterations: 1\n",
      "New params (The final point of the minimization): [ 0.22679205 -0.25840719  0.40567645  0.62390423  0.50862943  0.10826185\n",
      "  0.78005079]\n",
      "The final value of the minimization: 2.2376447567504654\n",
      "The final gradient of the minimization: None\n",
      "The total number of function evaluations: 3\n",
      "The total number of gradient evaluations: None\n",
      "The total number of iterations: 1\n",
      "New params (The final point of the minimization): [ 1.19401722  0.70881798  1.37290162 -0.34332094  0.85131083  1.07548702\n",
      "  1.1227322 ]\n",
      "The final value of the minimization: 2.2719317388268156\n",
      "The final gradient of the minimization: None\n",
      "The total number of function evaluations: 3\n",
      "The total number of gradient evaluations: None\n",
      "The total number of iterations: 1\n",
      "New params (The final point of the minimization): [ 1.18105915  0.69585991  1.35994354 -0.33036287  0.83835276 -0.22146148\n",
      " -0.1742163 ]\n",
      "The final value of the minimization: 0.456492958566108\n",
      "The final gradient of the minimization: None\n",
      "The total number of function evaluations: 3\n",
      "The total number of gradient evaluations: None\n",
      "The total number of iterations: 1\n",
      "New params (The final point of the minimization): [ 1.1533038   0.66810456  0.10370846  0.92587221 -0.41788233 -0.19370614\n",
      " -0.14646096]\n",
      "The final value of the minimization: 0.4599736673649907\n",
      "The final gradient of the minimization: None\n",
      "The total number of function evaluations: 3\n",
      "The total number of gradient evaluations: None\n",
      "The total number of iterations: 1\n"
     ]
    }
   ],
   "source": [
    "# Print results from 6 sub-experiments of sub-circuit-A\n",
    "for opt_result in optimizer_results_A:\n",
    "    print_optimizer_results(opt_result)"
   ]
  },
  {
   "cell_type": "code",
   "execution_count": 36,
   "id": "8be438f3-e234-4217-bd1c-7e313b393e18",
   "metadata": {},
   "outputs": [
    {
     "data": {
      "text/plain": [
       "Text(0.5, 1.0, 'Training loss')"
      ]
     },
     "execution_count": 36,
     "metadata": {},
     "output_type": "execute_result"
    },
    {
     "data": {
      "image/png": "[encoded data removed]",
      "text/plain": [
       "<Figure size 640x480 with 1 Axes>"
      ]
     },
     "metadata": {},
     "output_type": "display_data"
    }
   ],
   "source": [
    "plt.plot(objective_func_vals[:10], label=\"A Subex-1\")\n",
    "plt.plot(objective_func_vals[10:20], label=\"A Subex-2\")\n",
    "plt.plot(objective_func_vals[20:30], label=\"A Subex-3\")\n",
    "plt.plot(objective_func_vals[30:40], label=\"A Subex-4\")\n",
    "plt.plot(objective_func_vals[40:50], label=\"A Subex-5\")\n",
    "plt.plot(objective_func_vals[50:60], label=\"A Subex-6\")\n",
    "plt.legend()\n",
    "plt.xlabel(\"Number of epochs\")\n",
    "plt.title(\"Training loss\")"
   ]
  },
  {
   "cell_type": "code",
   "execution_count": 37,
   "id": "621adb10-e0d3-4016-ad2b-615a998ada42",
   "metadata": {},
   "outputs": [
    {
     "data": {
      "text/plain": [
       "[]"
      ]
     },
     "execution_count": 37,
     "metadata": {},
     "output_type": "execute_result"
    }
   ],
   "source": [
    "objective_func_vals.clear()\n",
    "objective_func_vals"
   ]
  },
  {
   "cell_type": "markdown",
   "id": "8310166a-4dc2-4ffd-b1cf-2d8f83aa3548",
   "metadata": {},
   "source": [
    "#### Optimizer Result for sub-circuits[\"B\"]"
   ]
  },
  {
   "cell_type": "code",
   "execution_count": 38,
   "id": "2d4424fc-7ce6-41f0-b177-543f3708c0c3",
   "metadata": {},
   "outputs": [],
   "source": [
    "initial_point2 = np.random.random((8,))\n",
    "function2 = CustomMultiClassObjectiveFunction(x_train_B, y_train, sampler_qcnn2, loss)"
   ]
  },
  {
   "cell_type": "code",
   "execution_count": null,
   "id": "60edb6f0-937d-4faf-b4f2-24fc1cd5c731",
   "metadata": {},
   "outputs": [],
   "source": [
    "# Optimizer result for 0th circuit for sub-circuit-B\n",
    "optimizer_result_B0 = minimizer(function2, function2.objective0, function2.gradient0, initial_point2, optimizer)\n",
    "optimizer_result_B1 = minimizer(function2, function2.objective1, function2.gradient1, initial_point2, optimizer)\n",
    "optimizer_result_B2 = minimizer(function2, function2.objective2, function2.gradient2, initial_point2, optimizer)\n",
    "optimizer_result_B3 = minimizer(function2, function2.objective3, function2.gradient3, initial_point2, optimizer)\n",
    "optimizer_result_B4 = minimizer(function2, function2.objective4, function2.gradient4, initial_point2, optimizer)\n",
    "optimizer_result_B5 = minimizer(function2, function2.objective5, function2.gradient5, initial_point2, optimizer)"
   ]
  },
  {
   "cell_type": "code",
   "execution_count": null,
   "id": "d6607356-2e2a-4e70-85ff-f258c2f5cbc1",
   "metadata": {},
   "outputs": [],
   "source": [
    "optimizer_results_B = [optimizer_result_B0, optimizer_result_B1, optimizer_result_B2, optimizer_result_B3, optimizer_result_B4, optimizer_result_B5]"
   ]
  },
  {
   "cell_type": "code",
   "execution_count": null,
   "id": "0896372c-0930-4451-b75b-5edb6733efc7",
   "metadata": {},
   "outputs": [],
   "source": [
    "# Print results from 6 sub-experiments of sub-circuit-B\n",
    "for opt_result in optimizer_results_B:\n",
    "    print_optimizer_results(opt_result)"
   ]
  },
  {
   "cell_type": "code",
   "execution_count": null,
   "id": "d38f5b9e-b92e-429d-b715-f734eae3a76e",
   "metadata": {},
   "outputs": [],
   "source": [
    "plt.plot(objective_func_vals[:10], label=\"B Subex1\")\n",
    "plt.plot(objective_func_vals[10:20], label=\"B Subex2\")\n",
    "plt.plot(objective_func_vals[20:30], label=\"B Subex3\")\n",
    "plt.plot(objective_func_vals[30:40], label=\"B Subex4\")\n",
    "plt.plot(objective_func_vals[40:50], label=\"B Subex5\")\n",
    "plt.plot(objective_func_vals[50:60], label=\"B Subex6\")\n",
    "plt.legend()\n",
    "plt.xlabel(\"Number of epochs\")\n",
    "plt.title(\"Training loss\")"
   ]
  },
  {
   "cell_type": "code",
   "execution_count": null,
   "id": "ed7eacba-18a0-476e-97ba-53acde85b048",
   "metadata": {},
   "outputs": [],
   "source": [
    "objective_func_vals.clear()\n",
    "objective_func_vals"
   ]
  },
  {
   "cell_type": "markdown",
   "id": "8068f82d-6639-4886-a96f-f605d23f34bb",
   "metadata": {},
   "source": [
    "### At this point, the training is complete. \n",
    "We have 12 lists of 7 or 8 parameter values that will now be used to make predictions on the test cases. \n",
    "New subcircuits will be built using these parameter values and then their results will be used to reconstruct expectation values. This process will occur for all the inputs in the test set.\n",
    "\n",
    "\n",
    "Let us think of the training process as a box that we can tune/edit while training on the train set. However, once the training process is complete, the box is locked and provided to the user. The user can now send test data to the box and get its desired output.\n",
    "\n",
    "However, in the case of circuit cutting, instead of having one box, we have multiple boxes. In our case, we have a total of 12 boxes (6 boxes per cut). These 12 boxes are trained independently of each other and locked after the training process is complete. The user, now, instead of sending the test data to one box, splits it into 2 parts that are sent to these 12 boxes. The 12 boxes produce quasi-probability distributions respective to the circuits they implement which are then reconstructed to produce the expectation value according to the test input. This process is repeated for every data point in the test dataset."
   ]
  },
  {
   "cell_type": "markdown",
   "id": "ac1fc3ef-8cef-4326-8ff9-bbe594b32a23",
   "metadata": {},
   "source": [
    "## Reconstruct Expectation Values"
   ]
  },
  {
   "cell_type": "code",
   "execution_count": 91,
   "id": "8824ed8a-0db9-4133-adf5-41a31171b8f3",
   "metadata": {},
   "outputs": [],
   "source": [
    "from circuit_knitting.cutting import reconstruct_expectation_values\n",
    "from qiskit_aer.primitives import Sampler\n",
    "from qiskit.primitives import SamplerResult\n",
    "from reconstruct_exp_val import get_subcircuit_results, get_dict_sampler_results, get_combined_dict"
   ]
  },
  {
   "cell_type": "code",
   "execution_count": 54,
   "id": "41c6d5c3-901d-49fc-aefd-e7c1570e0685",
   "metadata": {},
   "outputs": [],
   "source": [
    "sampler = Sampler()"
   ]
  },
  {
   "cell_type": "markdown",
   "id": "ae4897db-5983-4c81-8fdc-7d2fddb947fa",
   "metadata": {},
   "source": [
    "#### Testing for x_test[0]"
   ]
  },
  {
   "cell_type": "code",
   "execution_count": null,
   "id": "c74ec028-ab75-4414-8430-c587149f33b0",
   "metadata": {},
   "outputs": [],
   "source": [
    "final_circuits = [embedding.compose(subex_circuit, inplace=False) for subex_circuit in subexperiments[\"A\"]]"
   ]
  },
  {
   "cell_type": "code",
   "execution_count": null,
   "id": "d1830f0a-ea9b-4d25-9a29-afefe51e1e99",
   "metadata": {},
   "outputs": [],
   "source": [
    "final_circuits2 = [embedding.compose(subex_circuit, inplace=False) for subex_circuit in subexperiments[\"B\"]]"
   ]
  },
  {
   "cell_type": "code",
   "execution_count": 68,
   "id": "367d3aaa-3f33-4e94-8e6f-84e5a7db75aa",
   "metadata": {},
   "outputs": [],
   "source": [
    "# dict of 6 keys, each with 537 circuits.\n",
    "import copy\n",
    "\n",
    "empty_dict = {}\n",
    "for num_sample in range(len(x_test.values)):\n",
    "    empty_dict[num_sample] = []\n",
    "\n",
    "test_results_A = copy.deepcopy(empty_dict)\n",
    "test_results_B = copy.deepcopy(empty_dict)"
   ]
  },
  {
   "cell_type": "code",
   "execution_count": 69,
   "id": "ff3c0935-3633-4ce9-af6a-99b4e7715944",
   "metadata": {},
   "outputs": [],
   "source": [
    "test_results_A = get_subcircuit_results(x_train_A, final_circuits, optimizer_results_A)\n",
    "test_results_B = get_subcircuit_results(x_train_B, final_circuits2, optimizer_results_B)\n",
    "\n",
    "# for num_sample, x_val in enumerate(x_test_A.values):\n",
    "#     for num_subex, (subex, result) in enumerate(zip(final_circuits, optimizer_results_A)):\n",
    "#         param = np.append(x_val, result.x)\n",
    "#         circ = subex.assign_parameters(param, inplace=False)\n",
    "#         test_results_A[num_sample].append(sampler.run(circ).result())"
   ]
  },
  {
   "cell_type": "code",
   "execution_count": 70,
   "id": "b89c5927-d01c-484d-a32b-6dfdc915e0ea",
   "metadata": {},
   "outputs": [],
   "source": [
    "# for num_sample, x_val in enumerate(x_test_B.values):\n",
    "#     for num_subex, (subex, result) in enumerate(zip(final_circuits2, optimizer_results_B)):\n",
    "#         param = np.append(x_val, result.x)\n",
    "#         circ = subex.assign_parameters(param, inplace=False)\n",
    "#         test_results_B[num_sample].append(sampler.run(circ).result())"
   ]
  },
  {
   "cell_type": "code",
   "execution_count": 71,
   "id": "7e6e5709-0ac6-44b0-a4cb-4700022be40c",
   "metadata": {},
   "outputs": [
    {
     "name": "stdout",
     "output_type": "stream",
     "text": [
      "231 231\n"
     ]
    }
   ],
   "source": [
    "print(len(test_results_A), len(test_results_B))"
   ]
  },
  {
   "cell_type": "code",
   "execution_count": 83,
   "id": "a4c7a44d-1ec8-49b4-9abc-646ab1a5a764",
   "metadata": {},
   "outputs": [
    {
     "data": {
      "text/plain": [
       "6"
      ]
     },
     "execution_count": 83,
     "metadata": {},
     "output_type": "execute_result"
    }
   ],
   "source": [
    "len(test_results_A[0])"
   ]
  },
  {
   "cell_type": "code",
   "execution_count": 119,
   "id": "ea59d60c-3e63-4210-b67e-3078362bd26b",
   "metadata": {},
   "outputs": [
    {
     "name": "stdout",
     "output_type": "stream",
     "text": [
      "231 6\n",
      "231 6 6\n"
     ]
    }
   ],
   "source": [
    "# Dict of SamplerResults of 6 sub-circuits A for each 537 data inputs\n",
    "A_dict = get_dict_sampler_results(x_test_A, subexperiments[\"A\"], test_results_A)\n",
    "B_dict = get_dict_sampler_results(x_test_B, subexperiments[\"B\"], test_results_B)\n",
    "\n",
    "# dists_dict = copy.deepcopy(empty_dict)\n",
    "# metadata_dict = copy.deepcopy(empty_dict)\n",
    "\n",
    "# for num_samples in range(len(x_test_A.values)):\n",
    "#     for num_subex in range(len(subexperiments[\"A\"])):\n",
    "#         dists_dict[num_samples].append(*test_results_A[num_samples][num_subex].quasi_dists)\n",
    "#         metadata_dict[num_samples].append(*test_results_A[num_samples][num_subex].metadata)\n",
    "\n",
    "# A_dict = copy.deepcopy(empty_dict)\n",
    "# for index, _ in enumerate(subexperiments[\"A\"]):\n",
    "#     A_dict[index] = SamplerResult(quasi_dists=dists_dict[index], metadata=metadata_dict[index])\n",
    "\n",
    "print(len(dists_dict), len(metadata_dict[0]))\n",
    "print(len(A_dict), len(A_dict[0].quasi_dists), len(A_dict[0].metadata))"
   ]
  },
  {
   "cell_type": "code",
   "execution_count": 121,
   "id": "c06eac6e-ed38-4230-9a2a-5809361cce06",
   "metadata": {},
   "outputs": [
    {
     "name": "stdout",
     "output_type": "stream",
     "text": [
      "231 6\n",
      "231 6 6\n"
     ]
    }
   ],
   "source": [
    "# # Dict of SamplerResults of 6 sub-circuits B for each 537 data inputs\n",
    "\n",
    "# dists_dict = copy.deepcopy(empty_dict)\n",
    "# metadata_dict = copy.deepcopy(empty_dict)\n",
    "\n",
    "# for num_samples in range(len(x_test_B.values)):\n",
    "#     for num_subex in range(len(subexperiments[\"B\"])):\n",
    "#         dists_dict[num_samples].append(*test_results_B[num_samples][num_subex].quasi_dists)\n",
    "#         metadata_dict[num_samples].append(*test_results_B[num_samples][num_subex].metadata)\n",
    "\n",
    "# B_dict = copy.deepcopy(empty_dict)\n",
    "# for index, _ in enumerate(subexperiments[\"B\"]):\n",
    "#     B_dict[index] = SamplerResult(quasi_dists=dists_dict[index], metadata=metadata_dict[index])\n",
    "\n",
    "# # print(dists_dict)\n",
    "# print(B_dict)\n",
    "print(len(dists_dict), len(metadata_dict[0]))\n",
    "print(len(B_dict), len(B_dict[0].quasi_dists), len(B_dict[0].metadata))"
   ]
  },
  {
   "cell_type": "code",
   "execution_count": 138,
   "id": "15643f7a-f1be-44e7-88ac-6e50ea31d7bf",
   "metadata": {},
   "outputs": [
    {
     "name": "stdout",
     "output_type": "stream",
     "text": [
      "[{1: 0.57421875, 0: 0.42578125}, {1: 0.5361328125, 0: 0.4638671875}, {1: 0.1396484375, 0: 0.20703125, 3: 0.228515625, 2: 0.4248046875}, {1: 0.6904296875, 2: 0.0712890625, 0: 0.0576171875, 3: 0.1806640625}, {0: 0.4560546875, 1: 0.5439453125}, {0: 0.458984375, 1: 0.541015625}]\n",
      "[{1: 0.3662109375, 0: 0.6337890625}, {1: 0.369140625, 0: 0.630859375}, {3: 0.09765625, 2: 0.408203125, 0: 0.4091796875, 1: 0.0849609375}, {1: 0.279296875, 0: 0.2431640625, 2: 0.046875, 3: 0.4306640625}, {0: 0.6484375, 1: 0.3515625}, {1: 0.3447265625, 0: 0.6552734375}]\n",
      "[{1: 0.205078125, 0: 0.794921875}, {1: 0.1796875, 0: 0.8203125}, {1: 0.0673828125, 3: 0.01171875, 2: 0.2177734375, 0: 0.703125}, {2: 0.044921875, 3: 0.22265625, 0: 0.4599609375, 1: 0.2724609375}, {1: 0.1884765625, 0: 0.8115234375}, {1: 0.1474609375, 0: 0.8525390625}]\n",
      "[{1: 0.1845703125, 0: 0.8154296875}, {1: 0.201171875, 0: 0.798828125}, {3: 0.0517578125, 0: 0.0390625, 2: 0.9091796875}, {1: 0.3193359375, 3: 0.2177734375, 2: 0.22265625, 0: 0.240234375}, {1: 0.185546875, 0: 0.814453125}, {1: 0.193359375, 0: 0.806640625}]\n",
      "[{1: 0.359375, 0: 0.640625}, {1: 0.353515625, 0: 0.646484375}, {1: 0.2880859375, 3: 0.2822265625, 0: 0.21875, 2: 0.2109375}, {1: 0.037109375, 2: 0.0712890625, 0: 0.8564453125, 3: 0.03515625}, {0: 0.6396484375, 1: 0.3603515625}, {1: 0.3876953125, 0: 0.6123046875}]\n",
      "[{1: 0.0107421875, 0: 0.9892578125}, {1: 0.0087890625, 0: 0.9912109375}, {1: 0.0068359375, 3: 0.00390625, 0: 0.6025390625, 2: 0.38671875}, {1: 0.0810546875, 2: 0.0185546875, 3: 0.1025390625, 0: 0.7978515625}, {1: 0.0087890625, 0: 0.9912109375}, {1: 0.005859375, 0: 0.994140625}]\n"
     ]
    },
    {
     "ename": "AttributeError",
     "evalue": "'list' object has no attribute 'quasi_dists'",
     "output_type": "error",
     "traceback": [
      "\u001b[0;31m---------------------------------------------------------------------------\u001b[0m",
      "\u001b[0;31mAttributeError\u001b[0m                            Traceback (most recent call last)",
      "Cell \u001b[0;32mIn[138], line 12\u001b[0m\n\u001b[1;32m     10\u001b[0m combine_dict[\u001b[38;5;124m\"\u001b[39m\u001b[38;5;124mA\u001b[39m\u001b[38;5;124m\"\u001b[39m] \u001b[38;5;241m=\u001b[39m v1\n\u001b[1;32m     11\u001b[0m combine_dict[\u001b[38;5;124m\"\u001b[39m\u001b[38;5;124mB\u001b[39m\u001b[38;5;124m\"\u001b[39m] \u001b[38;5;241m=\u001b[39m v2\n\u001b[0;32m---> 12\u001b[0m \u001b[38;5;28mprint\u001b[39m(\u001b[43mcombine_dict\u001b[49m\u001b[43m[\u001b[49m\u001b[38;5;124;43m\"\u001b[39;49m\u001b[38;5;124;43mA\u001b[39;49m\u001b[38;5;124;43m\"\u001b[39;49m\u001b[43m]\u001b[49m\u001b[38;5;241;43m.\u001b[39;49m\u001b[43mquasi_dists\u001b[49m)\n\u001b[1;32m     13\u001b[0m reconstructed_expvals\u001b[38;5;241m.\u001b[39mappend(\n\u001b[1;32m     14\u001b[0m     reconstruct_expectation_values(combine_dict, coefficients, sub_observables)[\u001b[38;5;241m0\u001b[39m]\n\u001b[1;32m     15\u001b[0m )\n\u001b[1;32m     16\u001b[0m \u001b[38;5;66;03m# break\u001b[39;00m\n",
      "\u001b[0;31mAttributeError\u001b[0m: 'list' object has no attribute 'quasi_dists'"
     ]
    }
   ],
   "source": [
    "# combine dicts\n",
    "combined_dict = get_combined_dict(A_dict, B_dict)\n",
    "combined_dict\n",
    "\n",
    "# combine_dict = {\"A\": None, \"B\": None}\n",
    "# reconstructed_expvals = []\n",
    "\n",
    "# zip_dict = zip(A_dict.items(), B_dict.items())\n",
    "\n",
    "# for (num_subex1, v1), (num_subex2, v2) in zip_dict:\n",
    "#     # print((num_subex1, v1), (num_subex2, v2))\n",
    "#     # combine_dict = {\"A\": None, \"B\": None}\n",
    "#     combine_dict[\"A\"] = v1\n",
    "#     combine_dict[\"B\"] = v2\n",
    "#     print(combine_dict[\"A\"].quasi_dists)\n",
    "    # reconstructed_expvals.append(\n",
    "    #     reconstruct_expectation_values(combine_dict, coefficients, sub_observables)[0]\n",
    "    # )\n",
    "    # break"
   ]
  },
  {
   "cell_type": "code",
   "execution_count": null,
   "id": "694740af-07aa-4223-a276-dc2d754c8669",
   "metadata": {},
   "outputs": [],
   "source": []
  },
  {
   "cell_type": "code",
   "execution_count": null,
   "id": "54988ff4-7d3e-4fbf-83be-721dfdc05935",
   "metadata": {},
   "outputs": [],
   "source": []
  },
  {
   "cell_type": "code",
   "execution_count": null,
   "id": "e14186f9-0ca2-4994-a854-f6c1e75bea05",
   "metadata": {},
   "outputs": [],
   "source": []
  },
  {
   "cell_type": "code",
   "execution_count": null,
   "id": "62546d2b-c8c0-4883-9896-b19aed8689b2",
   "metadata": {},
   "outputs": [],
   "source": []
  },
  {
   "cell_type": "code",
   "execution_count": null,
   "id": "88e5a363-4785-4371-933e-4b79c1784ebc",
   "metadata": {},
   "outputs": [],
   "source": [
    "final_circs = {}\n",
    "final_circs[\"A\"] = final_circuits\n",
    "final_circs[\"B\"] = final_circuits2\n",
    "final_circs"
   ]
  },
  {
   "cell_type": "code",
   "execution_count": null,
   "id": "c8b3e802-0d59-4663-a488-e46de9f9feef",
   "metadata": {},
   "outputs": [],
   "source": []
  },
  {
   "cell_type": "code",
   "execution_count": null,
   "id": "390df163-979e-4c92-b2b0-c567e96147ec",
   "metadata": {},
   "outputs": [],
   "source": []
  },
  {
   "cell_type": "code",
   "execution_count": null,
   "id": "f6a7f591-8e96-455b-a6ad-621e15df477e",
   "metadata": {},
   "outputs": [],
   "source": [
    "reconstructed_expvals"
   ]
  },
  {
   "cell_type": "code",
   "execution_count": null,
   "id": "c640304b-f11e-4c57-9632-2c40365821e2",
   "metadata": {},
   "outputs": [],
   "source": [
    "# predict_sampler = np.argmax(reconstructed_expvals, axis=1)\n",
    "predict_estimator = np.sign(reconstructed_expvals)\n",
    "predict_estimator"
   ]
  },
  {
   "cell_type": "markdown",
   "id": "40b0e231-939a-489f-8567-6b973a87fdb2",
   "metadata": {},
   "source": [
    "## Test original circuit for x_test[0]"
   ]
  },
  {
   "cell_type": "code",
   "execution_count": null,
   "id": "aec16e6c-9909-4fbb-84bb-19daa47e7354",
   "metadata": {},
   "outputs": [],
   "source": [
    "from qiskit_machine_learning.neural_networks import EstimatorQNN\n",
    "from qiskit_machine_learning.algorithms import NeuralNetworkClassifier\n",
    "from qiskit.primitives import BackendEstimator\n",
    "from qiskit_aer import AerSimulator"
   ]
  },
  {
   "cell_type": "code",
   "execution_count": null,
   "id": "cfb7a3be-ddf5-4d96-9bd0-76d02eac5dc2",
   "metadata": {},
   "outputs": [],
   "source": [
    "embedding, features = angle_encoding(8)\n",
    "new_ttn = TTN(num_qubits=8).ttn_simple(complex_structure=False)\n",
    "org_circuit = embedding.compose(new_ttn)\n",
    "# final_circuit.draw()"
   ]
  },
  {
   "cell_type": "code",
   "execution_count": null,
   "id": "dfed65af-ebb2-495b-8258-cb0b5af6c914",
   "metadata": {},
   "outputs": [],
   "source": [
    "gpu_simulator = AerSimulator(device='GPU')\n",
    "simulator = AerSimulator()\n",
    "backend = BackendEstimator(backend=simulator)"
   ]
  },
  {
   "cell_type": "code",
   "execution_count": null,
   "id": "f67c702c-de14-48ee-a04a-e5ae82092c82",
   "metadata": {},
   "outputs": [],
   "source": [
    "observable = SparsePauliOp([\"ZIIIIIII\"])\n",
    "estimator_qnn = EstimatorQNN(\n",
    "    estimator=backend,\n",
    "    circuit=org_circuit,\n",
    "    observables=observable,\n",
    "    input_params=features.params,\n",
    "    weight_params=new_ttn.parameters,\n",
    ")"
   ]
  },
  {
   "cell_type": "code",
   "execution_count": null,
   "id": "d0b6b000-2d96-4d31-8b4e-525712575671",
   "metadata": {},
   "outputs": [],
   "source": [
    "weights = np.random.random(len(new_ttn.parameters))"
   ]
  },
  {
   "cell_type": "code",
   "execution_count": null,
   "id": "268bba60-b00f-4cda-8217-f5ced8f8d27a",
   "metadata": {},
   "outputs": [],
   "source": [
    "# Forward pass\n",
    "output = estimator_qnn.forward(x_train, weights)\n",
    "print(f\"Output shape for {len(x)} samples: {output.shape}\")\n",
    "print(f\"Output of the forward pass for first sample: {output[0]}\")"
   ]
  },
  {
   "cell_type": "code",
   "execution_count": null,
   "id": "723e885f-c12c-44a6-8224-f1e80f457434",
   "metadata": {},
   "outputs": [],
   "source": [
    "# Backward pass\n",
    "_, weights_grad = estimator_qnn.backward(x_train, weights)\n",
    "print(f\"Output shape for {len(x)} samples: {weights_grad.shape}\")\n",
    "print(f\"Output of the backward pass for first sample: {weights_grad[0]}\")"
   ]
  },
  {
   "cell_type": "code",
   "execution_count": null,
   "id": "c36d86e1-a036-4137-b27d-90ab4849f897",
   "metadata": {},
   "outputs": [],
   "source": [
    "initial_point = np.random.random((len(new_ttn.parameters),))"
   ]
  },
  {
   "cell_type": "code",
   "execution_count": null,
   "id": "0fb2319e-c998-487e-af51-26002fd16e21",
   "metadata": {},
   "outputs": [],
   "source": [
    "def encode_y(y):\n",
    "    y_encoded = y.replace({0: -1, 1: 1})\n",
    "    return y_encoded\n",
    "\n",
    "new_y = encode_y(y_test)\n",
    "new_y_train = encode_y(y_train)"
   ]
  },
  {
   "cell_type": "code",
   "execution_count": null,
   "id": "d77f89c6-a938-4068-bfff-08398099255f",
   "metadata": {},
   "outputs": [],
   "source": [
    "classifier = NeuralNetworkClassifier(\n",
    "    estimator,\n",
    "    optimizer=SPSA(maxiter=10, callback=callback),\n",
    "    initial_point=initial_point,\n",
    ")"
   ]
  },
  {
   "cell_type": "code",
   "execution_count": null,
   "id": "370ae6ca-1f60-417a-a7b7-5514280c2bf7",
   "metadata": {},
   "outputs": [],
   "source": [
    "print(len(x_test.values), len(new_y.values))"
   ]
  },
  {
   "cell_type": "code",
   "execution_count": null,
   "id": "be3c666f-dbde-4091-871b-a0afdf836e39",
   "metadata": {},
   "outputs": [],
   "source": [
    "classifier.fit(x_train, new_y_train)"
   ]
  },
  {
   "cell_type": "code",
   "execution_count": null,
   "id": "065c196d-eab9-4924-85d1-2ca43c50ea58",
   "metadata": {},
   "outputs": [],
   "source": [
    "plt.plot(objective_func_vals)\n",
    "plt.xlabel(\"Number of epochs\")\n",
    "plt.title(\"Training loss\")"
   ]
  },
  {
   "cell_type": "code",
   "execution_count": null,
   "id": "0b24d698-69c9-4243-8386-c6414619981d",
   "metadata": {},
   "outputs": [],
   "source": [
    "y_test_pred = classifier.predict(x_test.values[17])\n",
    "y_test_pred"
   ]
  },
  {
   "cell_type": "code",
   "execution_count": null,
   "id": "058ccbbf-3b51-45fc-9149-7b196c685b0b",
   "metadata": {},
   "outputs": [],
   "source": []
  },
  {
   "cell_type": "code",
   "execution_count": null,
   "id": "55fc154f-aa3f-4051-8968-bf5181a6dbb5",
   "metadata": {},
   "outputs": [],
   "source": []
  },
  {
   "cell_type": "code",
   "execution_count": null,
   "id": "57ecde04-79db-49d3-9710-421cfef35b7a",
   "metadata": {},
   "outputs": [],
   "source": []
  },
  {
   "cell_type": "code",
   "execution_count": null,
   "id": "e2cff8e7-8f11-4d34-bf80-31ec886461d5",
   "metadata": {},
   "outputs": [],
   "source": []
  },
  {
   "cell_type": "code",
   "execution_count": null,
   "id": "2a6fc64f-fd49-4220-9642-8b1f3018718d",
   "metadata": {},
   "outputs": [],
   "source": []
  },
  {
   "cell_type": "code",
   "execution_count": null,
   "id": "52b89a65-71e2-4880-bfb1-83fb8d6ca645",
   "metadata": {},
   "outputs": [],
   "source": []
  },
  {
   "cell_type": "code",
   "execution_count": null,
   "id": "1ab51f72-0540-40a6-8b3e-02c723be785f",
   "metadata": {},
   "outputs": [],
   "source": []
  },
  {
   "cell_type": "code",
   "execution_count": null,
   "id": "e11ca7af-c7c2-4cfa-8903-326f48a56a80",
   "metadata": {},
   "outputs": [],
   "source": []
  },
  {
   "cell_type": "code",
   "execution_count": null,
   "id": "2fc9d67e-3710-4fe7-b679-77ddea243358",
   "metadata": {},
   "outputs": [],
   "source": [
    "import copy\n",
    "\n",
    "empty_dict = {}\n",
    "for num_samples in range(537):\n",
    "    empty_dict[num_samples] = []\n",
    "\n",
    "dists_dict = copy.deepcopy(empty_dict)\n",
    "metadata_dict = copy.deepcopy(empty_dict)\n",
    "\n",
    "for num_samples in range(537):\n",
    "    for k, v in forward_sampler_result.items():\n",
    "        # print(num_samples, k, v.quasi_dists[num_samples])\n",
    "        dists_dict[num_samples].append(v.quasi_dists[num_samples])\n",
    "        metadata_dict[num_samples].append(v.metadata[num_samples])\n",
    "\n",
    "A_dict = copy.deepcopy(empty_dict)\n",
    "for key, item in new_dict.items():\n",
    "    A_dict[key] = SamplerResult(quasi_dists=dists_dict[key], metadata=metadata_dict[key])\n",
    "\n",
    "print(len(dists_dict), len(metadata_dict[0]))\n",
    "print(len(A_dict), len(A_dict[0].quasi_dists), len(A_dict[0].metadata))"
   ]
  },
  {
   "cell_type": "code",
   "execution_count": null,
   "id": "1a407f12-661f-4c16-a58b-288089846695",
   "metadata": {},
   "outputs": [],
   "source": [
    "# B_dict\n",
    "\n",
    "dists_dict = copy.deepcopy(empty_dict)\n",
    "metadata_dict = copy.deepcopy(empty_dict)\n",
    "\n",
    "for num_samples in range(537):\n",
    "    for k, v in forward_sampler_result2.items():\n",
    "        # print(num_samples, k, v.quasi_dists[num_samples])\n",
    "        dists_dict[num_samples].append(v.quasi_dists[num_samples])\n",
    "        metadata_dict[num_samples].append(v.metadata[num_samples])\n",
    "\n",
    "B_dict = copy.deepcopy(empty_dict)\n",
    "for key, item in new_dict.items():\n",
    "    B_dict[key] = SamplerResult(quasi_dists=dists_dict[key], metadata=metadata_dict[key])\n",
    "\n",
    "print(len(dists_dict), len(metadata_dict[0]))\n",
    "print(len(B_dict), len(B_dict[0].quasi_dists), len(B_dict[0].metadata))"
   ]
  },
  {
   "cell_type": "code",
   "execution_count": null,
   "id": "32460c59-4959-4a08-9628-ac7130a4a950",
   "metadata": {},
   "outputs": [],
   "source": [
    "# combine dicts\n",
    "combine_dict = {\"A\": None, \"B\": None}\n",
    "reconstructed_expvals = []\n",
    "\n",
    "zip_dict = zip(A_dict.items(), B_dict.items())\n",
    "# print(zip_dict)\n",
    "for (num_subex1, v1), (num_subex2, v2) in zip_dict:\n",
    "    # print((num_subex1, v1), (num_subex2, v2))\n",
    "    combine_dict[\"A\"] = v1\n",
    "    combine_dict[\"B\"] = v2\n",
    "    reconstructed_expvals.append(\n",
    "        reconstruct_expectation_values(\n",
    "            combine_dict,\n",
    "            coefficients,\n",
    "            sub_observables,\n",
    "        )[0]\n",
    "    )\n",
    "\n",
    "# print(combine_dict)"
   ]
  },
  {
   "cell_type": "code",
   "execution_count": null,
   "id": "3acf8f61-18db-4591-b673-d4724541f8e7",
   "metadata": {},
   "outputs": [],
   "source": [
    "# reconstructed_expvals = reconstruct_expectation_values(\n",
    "#     results,\n",
    "#     coefficients,\n",
    "#     subobservables,\n",
    "# )"
   ]
  },
  {
   "cell_type": "code",
   "execution_count": null,
   "id": "2bfbfdf3-6ef1-4600-8cea-1049a0fa4bb0",
   "metadata": {},
   "outputs": [],
   "source": []
  },
  {
   "cell_type": "code",
   "execution_count": null,
   "id": "f817f797-0d00-489d-9e58-ae4d6af7e313",
   "metadata": {},
   "outputs": [],
   "source": [
    "# Missing: The embedding\n",
    "\n",
    "samplers = {\n",
    "    label: Sampler(run_options={\"shots\": 2**12}) for label in subexperiments.keys()\n",
    "}\n",
    "\n",
    "results = {\n",
    "    label: sampler.run(final_circs[label]).result()\n",
    "    for label, sampler in samplers.items()\n",
    "}"
   ]
  },
  {
   "cell_type": "code",
   "execution_count": null,
   "id": "dda29811-0a31-4b6f-90c2-3d9c5793dead",
   "metadata": {},
   "outputs": [],
   "source": [
    "reconstructed_expvals = reconstruct_expectation_values(\n",
    "    # combined_results_dict,\n",
    "    results,\n",
    "    coefficients,\n",
    "    sub_observables,\n",
    ")"
   ]
  },
  {
   "cell_type": "code",
   "execution_count": null,
   "id": "75733a3f-390d-4067-9df2-679b0d72ef75",
   "metadata": {},
   "outputs": [],
   "source": []
  },
  {
   "cell_type": "code",
   "execution_count": null,
   "id": "acdaa675-3465-4766-9477-495685919b40",
   "metadata": {},
   "outputs": [],
   "source": []
  },
  {
   "cell_type": "code",
   "execution_count": null,
   "id": "dc35c159-00d5-45b3-b1d7-bdcb42370f35",
   "metadata": {},
   "outputs": [],
   "source": []
  },
  {
   "cell_type": "code",
   "execution_count": null,
   "id": "41b5549e-dc63-41df-b754-b5b0f9c6838e",
   "metadata": {},
   "outputs": [],
   "source": []
  },
  {
   "cell_type": "code",
   "execution_count": null,
   "id": "02cc4f10-9b73-4923-b2ff-f66a7eac1452",
   "metadata": {},
   "outputs": [],
   "source": []
  },
  {
   "cell_type": "code",
   "execution_count": null,
   "id": "9f3dea0a-a9cf-43da-9080-7d253de5fdf7",
   "metadata": {},
   "outputs": [],
   "source": []
  },
  {
   "cell_type": "code",
   "execution_count": null,
   "id": "289e618c-6ab4-4572-9e67-89ce40b996eb",
   "metadata": {},
   "outputs": [],
   "source": []
  }
 ],
 "metadata": {
  "kernelspec": {
   "display_name": "Python 3 (ipykernel)",
   "language": "python",
   "name": "python3"
  },
  "language_info": {
   "codemirror_mode": {
    "name": "ipython",
    "version": 3
   },
   "file_extension": ".py",
   "mimetype": "text/x-python",
   "name": "python",
   "nbconvert_exporter": "python",
   "pygments_lexer": "ipython3",
   "version": "3.8.18"
  }
 },
 "nbformat": 4,
 "nbformat_minor": 5
}
